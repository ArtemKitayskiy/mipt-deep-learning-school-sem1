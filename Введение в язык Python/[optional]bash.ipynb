{
  "nbformat": 4,
  "nbformat_minor": 0,
  "metadata": {
    "colab": {
      "provenance": []
    },
    "kernelspec": {
      "name": "python3",
      "display_name": "Python 3"
    }
  },
  "cells": [
    {
      "cell_type": "code",
      "metadata": {
        "id": "R-ljAeWuqNN4",
        "scrolled": true,
        "colab": {
          "base_uri": "https://localhost:8080/"
        },
        "outputId": "2b71cda5-fcd7-4430-abca-1fc69fdf0f83"
      },
      "source": [
        "!apt-get moo"
      ],
      "execution_count": 2,
      "outputs": [
        {
          "output_type": "stream",
          "name": "stdout",
          "text": [
            "                 (__) \n",
            "                 (oo) \n",
            "           /------\\/ \n",
            "          / |    ||   \n",
            "         *  /\\---/\\ \n",
            "            ~~   ~~   \n",
            "...\"Have you mooed today?\"...\n"
          ]
        }
      ]
    },
    {
      "cell_type": "code",
      "source": [
        "from google.colab import drive\n",
        "drive.mount('/content/drive')"
      ],
      "metadata": {
        "colab": {
          "base_uri": "https://localhost:8080/"
        },
        "id": "jUR7bpptaC0K",
        "outputId": "aac8900e-a0cf-45a4-8721-def24caa5128"
      },
      "execution_count": 1,
      "outputs": [
        {
          "output_type": "stream",
          "name": "stdout",
          "text": [
            "Mounted at /content/drive\n"
          ]
        }
      ]
    },
    {
      "cell_type": "markdown",
      "metadata": {
        "id": "SR5360mDq7IG"
      },
      "source": [
        "В этом ноутбуке мы рассмотрим базовые команды командной строки в Linux\n",
        "\n",
        "План\n",
        "  - Команды UNIX\n",
        "  - Файловая система\n",
        "  - Аргументы к командам\n",
        "  - Переменные окружения\n"
      ]
    },
    {
      "cell_type": "markdown",
      "metadata": {
        "id": "exbUbtJhzNW0"
      },
      "source": [
        "# Команды в UNIX"
      ]
    },
    {
      "cell_type": "markdown",
      "metadata": {
        "id": "cyxieSjTuGpw"
      },
      "source": [
        "Линукс принадлежит к большому семейству операционных систем под названием UNIX, которые происходят от ОС AT&T Unix, разработанной еще в 1970-х. Mac OS, кстати, тоже её потомок.\n",
        "\n",
        "В операционных системах UNIX-типа для взаимодействия с ОС используют специальные команды. До появления привычного оконного интерфейса пользователи взаимодействовали с компьютером исключительно с помощью этих команд. \n",
        "\n",
        "Сейчас этот способ тоже используют, т. к. у него есть ряд преимуществ:\n",
        " - намного более удобней при подключение к компьютеру по сети;\n",
        " - иногда удобнее запустить одну команду, чем бродить по менюшкам в поисках нужной опции;\n",
        " - из команды можно составлять скрипты для автоматизации задач.\n",
        "\n"
      ]
    },
    {
      "cell_type": "markdown",
      "metadata": {
        "id": "4Kgd_-Jdq-HJ"
      },
      "source": [
        "Небольшой ликбез по понятиям:\n",
        "- **Командная строка** - интерфейс пользователя, окно для вывода системных сообщений и приёма команд;\n",
        "- **Терминал** - программа, которая отображает строку. Например: *gnome-terminal*, *xterm*, *tilda*;\n",
        "- **Оболочка (shell)** - программа которая выполняет команды. Например: *bash*, *zsh*, *sh*;\n",
        "- **Консоль** - комплект устройств интерактивного ввода-вывода (дисплей, клавиатура, мышь) для управления компьютером."
      ]
    },
    {
      "cell_type": "markdown",
      "metadata": {
        "id": "zsNEkoiC4I3d"
      },
      "source": [
        "Запускать команды можно как из терминала, так и из юпитера или колаба (Google Colab), поставив перед командой \"!\":"
      ]
    },
    {
      "cell_type": "code",
      "metadata": {
        "id": "wujSZ66i4UVm",
        "colab": {
          "base_uri": "https://localhost:8080/"
        },
        "outputId": "b967d850-d484-4db9-ea4a-014453076147"
      },
      "source": [
        "!echo \"Hello World\""
      ],
      "execution_count": 3,
      "outputs": [
        {
          "output_type": "stream",
          "name": "stdout",
          "text": [
            "Hello World\n"
          ]
        }
      ]
    },
    {
      "cell_type": "markdown",
      "metadata": {
        "id": "z8n1PxRZ0j7P"
      },
      "source": [
        "# Файловая система"
      ]
    },
    {
      "cell_type": "markdown",
      "metadata": {
        "id": "WwN4S7rv08JV"
      },
      "source": [
        "В Unix-системах все файлы образуют структуру похожую на дерево, в каждой директории (папке) хранятся файлы и другие директории. Самая первая директория которая содержит все остальные, называется корневой (*root*)\n",
        "\n",
        "\n",
        "У каждой директории есть путь (по сути, просто строка) который показывает где она находится в этом дереве. \"/\" - это путь корневой директории. \n",
        "\n",
        "---\n",
        "\n",
        "\n",
        "\n",
        "![alt text](http://linuxcommand.org/images/file_manager.jpg)\n",
        "\n",
        "В командной строке все команды выполняются в какой-либо директории.\n",
        "\n",
        "Представьте, что дерево файловой системы - это лабиринт, и каждая директория - это комната с файлами и дверьми в другие директории. В каждый момент времени вы находитесь в одной комнате.\n",
        "\n",
        "Посмотрим, как ходить по нашему лабиринту."
      ]
    },
    {
      "cell_type": "code",
      "metadata": {
        "id": "j2I1ZXrKq0tp",
        "colab": {
          "base_uri": "https://localhost:8080/"
        },
        "outputId": "fb697dec-8acb-40cd-cfdf-7ddf78106336"
      },
      "source": [
        "# Выведем путь текущей директории\n",
        "!pwd"
      ],
      "execution_count": 4,
      "outputs": [
        {
          "output_type": "stream",
          "name": "stdout",
          "text": [
            "/content\n"
          ]
        }
      ]
    },
    {
      "cell_type": "code",
      "metadata": {
        "id": "9sQwAxoT5-kO",
        "colab": {
          "base_uri": "https://localhost:8080/"
        },
        "outputId": "cc9e2436-f46e-4df1-8cd9-8dd8a43511d9"
      },
      "source": [
        "# Посмотрим, что в нашей директории есть\n",
        "!ls \n",
        "#ls is for \"list\""
      ],
      "execution_count": 5,
      "outputs": [
        {
          "output_type": "stream",
          "name": "stdout",
          "text": [
            "drive  sample_data\n"
          ]
        }
      ]
    },
    {
      "cell_type": "code",
      "metadata": {
        "id": "nYL2dtfK6iWP",
        "colab": {
          "base_uri": "https://localhost:8080/"
        },
        "outputId": "9563c242-76f3-4401-950a-bcd36c013fd4"
      },
      "source": [
        "#Создадим пустой файлик\n",
        "!touch test-file\n",
        "# пробел в имени - плохая идея, создадутся два файла\n",
        "!touch hello world\n",
        "\n",
        "# посмотрим что получилось\n",
        "!ls"
      ],
      "execution_count": 6,
      "outputs": [
        {
          "output_type": "stream",
          "name": "stdout",
          "text": [
            "drive  hello  sample_data  test-file  world\n"
          ]
        }
      ]
    },
    {
      "cell_type": "code",
      "metadata": {
        "id": "AFTolllI-gJH",
        "colab": {
          "base_uri": "https://localhost:8080/"
        },
        "outputId": "128a9ea2-42d3-4341-fbb1-e6594cc4656d"
      },
      "source": [
        "#Удаление файлов\n",
        "!rm world\n",
        "!ls"
      ],
      "execution_count": 7,
      "outputs": [
        {
          "output_type": "stream",
          "name": "stdout",
          "text": [
            "drive  hello  sample_data  test-file\n"
          ]
        }
      ]
    },
    {
      "cell_type": "code",
      "metadata": {
        "id": "dkLsVgkX_RNT"
      },
      "source": [
        "# Новая директория\n",
        "!mkdir please_come_here\n"
      ],
      "execution_count": 8,
      "outputs": []
    },
    {
      "cell_type": "markdown",
      "metadata": {
        "id": "hgVO1IAOAseT"
      },
      "source": [
        "Некоторые директории хранят файлы необходимые для работы программ. В них нужно что-либо менять только если знаешь, что делаешь.\n",
        "\n",
        "Это так называемые скрытые директории (hidden или dot directories/files) - их имя начинается с точки.\n"
      ]
    },
    {
      "cell_type": "code",
      "metadata": {
        "id": "JTxijZDRq8bN",
        "colab": {
          "base_uri": "https://localhost:8080/"
        },
        "outputId": "a1fb2041-6794-4194-b60f-1b96d47fd68a"
      },
      "source": [
        "# Покажем больше информации и отобразим скрытые файлы\n",
        "!ls -al\n",
        "# Первое слово - команда, а второе - аргумент"
      ],
      "execution_count": 9,
      "outputs": [
        {
          "output_type": "stream",
          "name": "stdout",
          "text": [
            "total 24\n",
            "drwxr-xr-x 1 root root 4096 Jun  5 11:57 .\n",
            "drwxr-xr-x 1 root root 4096 Jun  5 11:53 ..\n",
            "drwxr-xr-x 4 root root 4096 Jun  1 22:50 .config\n",
            "drwx------ 5 root root 4096 Jun  5 11:54 drive\n",
            "-rw-r--r-- 1 root root    0 Jun  5 11:56 hello\n",
            "drwxr-xr-x 2 root root 4096 Jun  5 11:57 please_come_here\n",
            "drwxr-xr-x 1 root root 4096 Jun  1 22:51 sample_data\n",
            "-rw-r--r-- 1 root root    0 Jun  5 11:56 test-file\n"
          ]
        }
      ]
    },
    {
      "cell_type": "markdown",
      "metadata": {
        "id": "K8Tei_Rz8ELQ"
      },
      "source": [
        "\n",
        "\n",
        "```\n",
        ".  - это путь к той директории в которой мы уже находимся\n",
        ".. - это путь к родительской директории\n",
        ".config - это скрытая папка\n",
        "```\n",
        "\n",
        "Каждая строчка - это одна из \"дверей\" в другую директорию либо файл.\n",
        "*Относительный* путь это не полный \"адрес\" директории а то, куда нам нужно пойти из места в котором мы сейчас находимся. \n",
        "\n",
        "\n",
        "```\n",
        " drwxr-xr-x 1 root root 4096 Feb 15 17:21 please_come_here\n",
        " |                           дата создания    |\n",
        " |                                         _относительный_ путь\n",
        " |\n",
        "  \\ d - эта метка значит, что это путь к другой директории (d for directory)\n",
        "```\n",
        "\n"
      ]
    },
    {
      "cell_type": "code",
      "metadata": {
        "id": "ozI5vv-G_Ato",
        "colab": {
          "base_uri": "https://localhost:8080/"
        },
        "outputId": "518722c1-ac16-4edd-ffa8-990051cac086"
      },
      "source": [
        "# переход в другую директорию команда cd\n",
        "!pwd\n",
        "!cd please_come_here\n",
        "!pwd"
      ],
      "execution_count": 10,
      "outputs": [
        {
          "output_type": "stream",
          "name": "stdout",
          "text": [
            "/content\n",
            "/content\n"
          ]
        }
      ]
    },
    {
      "cell_type": "markdown",
      "metadata": {
        "id": "j1YxW23TCoDo"
      },
      "source": [
        "Заработало?\n",
        "\n",
        "Не должно. Тут проблема в том что юпитер при исполнении каждой команды запускает новую оболочку в своей директории (той, откуда его вызвали), и после завершения команды она закрывается. Т. е. в одной оболочке он выполнил команду pwd, закрыл её, в другой выполнил команду cd please_come_here, закрыл её, и в третьей выполнил команду pwd и закрыл её.\n",
        "\n",
        "Чтоб команды запускались в новой директории нужно поменять текущую директорию самого юпитера с помощью команды:\n",
        "\n",
        "```\n",
        "%cd\n",
        "```\n"
      ]
    },
    {
      "cell_type": "code",
      "metadata": {
        "id": "KwJPa7wBA7QK",
        "colab": {
          "base_uri": "https://localhost:8080/"
        },
        "outputId": "fffcf035-23ec-4026-b4c8-0af52ca46970"
      },
      "source": [
        "!pwd\n",
        "%cd please_come_here\n",
        "!pwd"
      ],
      "execution_count": 11,
      "outputs": [
        {
          "output_type": "stream",
          "name": "stdout",
          "text": [
            "/content\n",
            "/content/please_come_here\n",
            "/content/please_come_here\n"
          ]
        }
      ]
    },
    {
      "cell_type": "markdown",
      "metadata": {
        "id": "AuXdt89eNWoH"
      },
      "source": [
        "Если выполнить команду cd без аргументов - он вернёт вас в домашнюю директорию:"
      ]
    },
    {
      "cell_type": "code",
      "metadata": {
        "id": "DPrsHK-ENRZU",
        "colab": {
          "base_uri": "https://localhost:8080/"
        },
        "outputId": "9fbbf447-bf68-48ea-c4a0-d062b4b76e51"
      },
      "source": [
        "%cd\n",
        "!pwd"
      ],
      "execution_count": 12,
      "outputs": [
        {
          "output_type": "stream",
          "name": "stdout",
          "text": [
            "/root\n",
            "/root\n"
          ]
        }
      ]
    },
    {
      "cell_type": "markdown",
      "metadata": {
        "id": "XkxqDBlcpvtR"
      },
      "source": [
        "Когда мы переходим в другую директорию, ее имя добавляется к нашему пути через \"/\".\n",
        "\n",
        "Например, были в `/home`, перешли в директорию `Pictures `оказались в `/home/Pictures`.\n",
        "\n",
        "Абсолютный путь файла в этой директории будет `/home/Picutes/image.png`. \n",
        "\n",
        "Если мы хотим взять файл из директории, которая является дочерней к той директории, где мы сейчас находимся, мы можем указать относительный путь файла.\n",
        "\n",
        "Например, из директории `/home` мы можем обратиться к файлу по пути `Pictures/image.png`."
      ]
    },
    {
      "cell_type": "code",
      "metadata": {
        "id": "2HUAw_NLBKyb",
        "colab": {
          "base_uri": "https://localhost:8080/"
        },
        "outputId": "84374278-7a19-435a-ed44-242b892a82b5"
      },
      "source": [
        "# Можно выполнить несколько команд последовательно:\n",
        "# с помощью символа ; - для безусловного последовательного выполнения команд, они выполнятся последовательно одна за другой:\n",
        "!pwd; cd please_come_here; pwd\n",
        "\n",
        "# с помощью символа && - при этом вторая (и последующая) команда выполнится только в случае успешного выполнения первой (предыдущей):\n",
        "!pwd && cd please_come_here && pwd\n",
        "\n",
        "# с помощью символа || - при этом вторая (и последующая) команда выполнится только в случае неуспешного выполнения первой (предыдущей):\n",
        "!pwd || cd please_come_here && pwd\n"
      ],
      "execution_count": 13,
      "outputs": [
        {
          "output_type": "stream",
          "name": "stdout",
          "text": [
            "/root\n",
            "/bin/bash: line 0: cd: please_come_here: No such file or directory\n",
            "/root\n",
            "/root\n",
            "/bin/bash: line 0: cd: please_come_here: No such file or directory\n",
            "/root\n",
            "/root\n"
          ]
        }
      ]
    },
    {
      "cell_type": "markdown",
      "metadata": {
        "id": "hDuUsb-hSmsJ"
      },
      "source": [
        "## Запись и чтение в файлы"
      ]
    },
    {
      "cell_type": "code",
      "metadata": {
        "id": "KzJChjwnRhm4",
        "colab": {
          "base_uri": "https://localhost:8080/"
        },
        "outputId": "e30cc93b-88dc-463e-84b4-40200a2c1798"
      },
      "source": [
        "# Вывести текст в консоль\n",
        "\n",
        "!echo \"Sample text Пример текста\"\n",
        "# Echo - потому что команда выводит на выход то же, что и получает"
      ],
      "execution_count": 14,
      "outputs": [
        {
          "output_type": "stream",
          "name": "stdout",
          "text": [
            "Sample text Пример текста\n"
          ]
        }
      ]
    },
    {
      "cell_type": "code",
      "metadata": {
        "id": "WKrcMKg9R-I5"
      },
      "source": [
        "# Вместо консоли отправить в файл\n",
        "\n",
        "!echo \"London is the capital of Great Britain\" >> English.txt\n"
      ],
      "execution_count": 15,
      "outputs": []
    },
    {
      "cell_type": "code",
      "metadata": {
        "id": "4Ht2nwgeSXhi",
        "colab": {
          "base_uri": "https://localhost:8080/"
        },
        "outputId": "89b6b7be-31ae-4cdf-8bff-788a9ec8da9f"
      },
      "source": [
        "# Прочитать файл и вывести в консоль\n",
        "\n",
        "!cat English.txt"
      ],
      "execution_count": 16,
      "outputs": [
        {
          "output_type": "stream",
          "name": "stdout",
          "text": [
            "London is the capital of Great Britain\n"
          ]
        }
      ]
    },
    {
      "cell_type": "markdown",
      "metadata": {
        "id": "9DRyKxZJUdNx"
      },
      "source": [
        "## Скачивание из интернета"
      ]
    },
    {
      "cell_type": "code",
      "metadata": {
        "id": "EzS_vui3Ucer",
        "colab": {
          "base_uri": "https://localhost:8080/"
        },
        "outputId": "71d85fea-da55-4501-bbdc-0c480894de07"
      },
      "source": [
        "# сохраняем страницу по адресу\n",
        "\n",
        "!curl example.com >> example-com.html\n",
        "!ls\n",
        "!cat example-com.html\n"
      ],
      "execution_count": 17,
      "outputs": [
        {
          "output_type": "stream",
          "name": "stdout",
          "text": [
            "  % Total    % Received % Xferd  Average Speed   Time    Time     Time  Current\n",
            "                                 Dload  Upload   Total   Spent    Left  Speed\n",
            "\r  0     0    0     0    0     0      0      0 --:--:-- --:--:-- --:--:--     0\r100  1256  100  1256    0     0  69777      0 --:--:-- --:--:-- --:--:-- 69777\n",
            "English.txt  example-com.html\n",
            "<!doctype html>\n",
            "<html>\n",
            "<head>\n",
            "    <title>Example Domain</title>\n",
            "\n",
            "    <meta charset=\"utf-8\" />\n",
            "    <meta http-equiv=\"Content-type\" content=\"text/html; charset=utf-8\" />\n",
            "    <meta name=\"viewport\" content=\"width=device-width, initial-scale=1\" />\n",
            "    <style type=\"text/css\">\n",
            "    body {\n",
            "        background-color: #f0f0f2;\n",
            "        margin: 0;\n",
            "        padding: 0;\n",
            "        font-family: -apple-system, system-ui, BlinkMacSystemFont, \"Segoe UI\", \"Open Sans\", \"Helvetica Neue\", Helvetica, Arial, sans-serif;\n",
            "        \n",
            "    }\n",
            "    div {\n",
            "        width: 600px;\n",
            "        margin: 5em auto;\n",
            "        padding: 2em;\n",
            "        background-color: #fdfdff;\n",
            "        border-radius: 0.5em;\n",
            "        box-shadow: 2px 3px 7px 2px rgba(0,0,0,0.02);\n",
            "    }\n",
            "    a:link, a:visited {\n",
            "        color: #38488f;\n",
            "        text-decoration: none;\n",
            "    }\n",
            "    @media (max-width: 700px) {\n",
            "        div {\n",
            "            margin: 0 auto;\n",
            "            width: auto;\n",
            "        }\n",
            "    }\n",
            "    </style>    \n",
            "</head>\n",
            "\n",
            "<body>\n",
            "<div>\n",
            "    <h1>Example Domain</h1>\n",
            "    <p>This domain is for use in illustrative examples in documents. You may use this\n",
            "    domain in literature without prior coordination or asking for permission.</p>\n",
            "    <p><a href=\"https://www.iana.org/domains/example\">More information...</a></p>\n",
            "</div>\n",
            "</body>\n",
            "</html>\n"
          ]
        }
      ]
    },
    {
      "cell_type": "code",
      "metadata": {
        "id": "bONrzreaXVkD"
      },
      "source": [
        "!curl instagram.com"
      ],
      "execution_count": 18,
      "outputs": []
    },
    {
      "cell_type": "markdown",
      "metadata": {
        "id": "hdEXswC6YBCJ"
      },
      "source": [
        "Иногда сервера пытаются перенаправить запрос на другой адрес. Curl не следует по таким перенаправлениям. Есть програмка wget которая может переходить по таким ссылкам и вообще проходить по всем ссылкам на странице и скачивать их."
      ]
    },
    {
      "cell_type": "code",
      "metadata": {
        "id": "BscMnGvUYeBT",
        "colab": {
          "base_uri": "https://localhost:8080/"
        },
        "outputId": "b527a873-8be4-4f27-c6a3-909af1f81517"
      },
      "source": [
        "!wget instagram.com -O insta.html"
      ],
      "execution_count": 19,
      "outputs": [
        {
          "output_type": "stream",
          "name": "stdout",
          "text": [
            "--2023-06-05 11:59:25--  http://instagram.com/\n",
            "Resolving instagram.com (instagram.com)... 31.13.71.174, 2a03:2880:f212:e5:face:b00c:0:4420\n",
            "Connecting to instagram.com (instagram.com)|31.13.71.174|:80... connected.\n",
            "HTTP request sent, awaiting response... 301 Moved Permanently\n",
            "Location: https://instagram.com/ [following]\n",
            "--2023-06-05 11:59:26--  https://instagram.com/\n",
            "Connecting to instagram.com (instagram.com)|31.13.71.174|:443... connected.\n",
            "HTTP request sent, awaiting response... 301 Moved Permanently\n",
            "Location: https://www.instagram.com/ [following]\n",
            "--2023-06-05 11:59:26--  https://www.instagram.com/\n",
            "Resolving www.instagram.com (www.instagram.com)... 31.13.71.174, 2a03:2880:f276:e8:face:b00c:0:4420\n",
            "Connecting to www.instagram.com (www.instagram.com)|31.13.71.174|:443... connected.\n",
            "HTTP request sent, awaiting response... 302 Found\n",
            "Location: https://www.facebook.com/unsupportedbrowser [following]\n",
            "--2023-06-05 11:59:26--  https://www.facebook.com/unsupportedbrowser\n",
            "Resolving www.facebook.com (www.facebook.com)... 31.13.71.36, 2a03:2880:f176:84:face:b00c:0:25de\n",
            "Connecting to www.facebook.com (www.facebook.com)|31.13.71.36|:443... connected.\n",
            "HTTP request sent, awaiting response... 200 OK\n",
            "Length: unspecified [text/html]\n",
            "Saving to: ‘insta.html’\n",
            "\n",
            "insta.html              [ <=>                ]  45.92K  --.-KB/s    in 0.1s    \n",
            "\n",
            "2023-06-05 11:59:28 (333 KB/s) - ‘insta.html’ saved [47022]\n",
            "\n"
          ]
        }
      ]
    },
    {
      "cell_type": "markdown",
      "metadata": {
        "id": "vvDscEabYqhr"
      },
      "source": [
        "Обратите внимание на\n",
        "\n",
        "`HTTP request sent, awaiting response... 301 Moved Permanently` (четвёртая строка)\n"
      ]
    },
    {
      "cell_type": "markdown",
      "metadata": {
        "id": "MXDgtgM3PjlU"
      },
      "source": [
        "# Аргументы и параметры к командам"
      ]
    },
    {
      "cell_type": "markdown",
      "metadata": {
        "id": "L5t2LkSzPwFa"
      },
      "source": [
        "Обычно **аргументы** – это то, над чем выполняется команда. Например, команда перехода в другую директорию должна получить в качестве аргумента путь директории, в которую следует перейти. Команде вывода на экран содержимого файла надо передать имя файла.\n",
        "\n",
        "**Параметры** модифицируют, как бы видоизменяют/управляют работой программы. Например, с помощью команды просмотра содержимого каталога можно вывести простой список вложенных объектов. Используя же определенный параметр, можно получить подробные сведения о каждом файле и папке.\n",
        "\n",
        "Аргументы указывают через пробел, как отдельные слова.\n",
        "\n",
        "Параметры указывают после дефиса: `-f` (однобуквенные) либо после двух дефисов: `--file`."
      ]
    },
    {
      "cell_type": "code",
      "metadata": {
        "id": "uXUizaaSBnsl",
        "colab": {
          "base_uri": "https://localhost:8080/"
        },
        "outputId": "83e5f65b-2131-4438-eb71-dd066119a0de"
      },
      "source": [
        "# календарик на весь год\n",
        "\n",
        "!ncal 2020\n"
      ],
      "execution_count": 20,
      "outputs": [
        {
          "output_type": "stream",
          "name": "stdout",
          "text": [
            "                                  2020\n",
            "    January           February          March             April             \n",
            "Su     5 12 19 26        2  9 16 23     1  8 15 22 29        5 12 19 26   \n",
            "Mo     6 13 20 27        3 10 17 24     2  9 16 23 30        6 13 20 27   \n",
            "Tu     7 14 21 28        4 11 18 25     3 10 17 24 31        7 14 21 28   \n",
            "We  1  8 15 22 29        5 12 19 26     4 11 18 25        1  8 15 22 29   \n",
            "Th  2  9 16 23 30        6 13 20 27     5 12 19 26        2  9 16 23 30   \n",
            "Fr  3 10 17 24 31        7 14 21 28     6 13 20 27        3 10 17 24      \n",
            "Sa  4 11 18 25        1  8 15 22 29     7 14 21 28        4 11 18 25      \n",
            "\n",
            "    May               June              July              August            \n",
            "Su     3 10 17 24 31     7 14 21 28        5 12 19 26        2  9 16 23 30\n",
            "Mo     4 11 18 25     1  8 15 22 29        6 13 20 27        3 10 17 24 31\n",
            "Tu     5 12 19 26     2  9 16 23 30        7 14 21 28        4 11 18 25   \n",
            "We     6 13 20 27     3 10 17 24        1  8 15 22 29        5 12 19 26   \n",
            "Th     7 14 21 28     4 11 18 25        2  9 16 23 30        6 13 20 27   \n",
            "Fr  1  8 15 22 29     5 12 19 26        3 10 17 24 31        7 14 21 28   \n",
            "Sa  2  9 16 23 30     6 13 20 27        4 11 18 25        1  8 15 22 29   \n",
            "\n",
            "    September         October           November          December          \n",
            "Su     6 13 20 27        4 11 18 25     1  8 15 22 29        6 13 20 27   \n",
            "Mo     7 14 21 28        5 12 19 26     2  9 16 23 30        7 14 21 28   \n",
            "Tu  1  8 15 22 29        6 13 20 27     3 10 17 24        1  8 15 22 29   \n",
            "We  2  9 16 23 30        7 14 21 28     4 11 18 25        2  9 16 23 30   \n",
            "Th  3 10 17 24        1  8 15 22 29     5 12 19 26        3 10 17 24 31   \n",
            "Fr  4 11 18 25        2  9 16 23 30     6 13 20 27        4 11 18 25      \n",
            "Sa  5 12 19 26        3 10 17 24 31     7 14 21 28        5 12 19 26      \n"
          ]
        }
      ]
    },
    {
      "cell_type": "code",
      "metadata": {
        "id": "2aciKu7IB5Vm",
        "colab": {
          "base_uri": "https://localhost:8080/"
        },
        "outputId": "cb25671c-7cf3-43bd-bd0f-9a0c42ff1298"
      },
      "source": [
        "# передаем 2 аргумента\n",
        "\n",
        "!ncal 09 2020\n"
      ],
      "execution_count": 21,
      "outputs": [
        {
          "output_type": "stream",
          "name": "stdout",
          "text": [
            "    September 2020    \n",
            "Su     6 13 20 27   \n",
            "Mo     7 14 21 28   \n",
            "Tu  1  8 15 22 29   \n",
            "We  2  9 16 23 30   \n",
            "Th  3 10 17 24      \n",
            "Fr  4 11 18 25      \n",
            "Sa  5 12 19 26      \n"
          ]
        }
      ]
    },
    {
      "cell_type": "code",
      "metadata": {
        "id": "4l3d14WtfIAA",
        "colab": {
          "base_uri": "https://localhost:8080/"
        },
        "outputId": "adf65f18-09f7-4021-bff8-bba6c4ad7274"
      },
      "source": [
        "# передаем параметр -b\n",
        "\n",
        "!ncal -b 09 2020\n"
      ],
      "execution_count": 22,
      "outputs": [
        {
          "output_type": "stream",
          "name": "stdout",
          "text": [
            "   September 2020     \n",
            "Su Mo Tu We Th Fr Sa  \n",
            "       1  2  3  4  5  \n",
            " 6  7  8  9 10 11 12  \n",
            "13 14 15 16 17 18 19  \n",
            "20 21 22 23 24 25 26  \n",
            "27 28 29 30           \n",
            "                      \n"
          ]
        }
      ]
    },
    {
      "cell_type": "code",
      "metadata": {
        "id": "vk9NUxh4fQPy",
        "colab": {
          "base_uri": "https://localhost:8080/"
        },
        "outputId": "a9db23ab-4144-4e85-c3eb-ba28f780bc4f"
      },
      "source": [
        "# Однобуквенные параметры можно склеивать\n",
        "\n",
        "!ncal -b -w 09 2020\n",
        "!ncal -bw 09 2020"
      ],
      "execution_count": 23,
      "outputs": [
        {
          "output_type": "stream",
          "name": "stdout",
          "text": [
            "     September 2020        \n",
            " w| Su Mo Tu We Th Fr Sa   \n",
            "35|        1  2  3  4  5   \n",
            "36|  6  7  8  9 10 11 12   \n",
            "37| 13 14 15 16 17 18 19   \n",
            "38| 20 21 22 23 24 25 26   \n",
            "39| 27 28 29 30            \n",
            "                           \n",
            "     September 2020        \n",
            " w| Su Mo Tu We Th Fr Sa   \n",
            "35|        1  2  3  4  5   \n",
            "36|  6  7  8  9 10 11 12   \n",
            "37| 13 14 15 16 17 18 19   \n",
            "38| 20 21 22 23 24 25 26   \n",
            "39| 27 28 29 30            \n",
            "                           \n"
          ]
        }
      ]
    },
    {
      "cell_type": "markdown",
      "metadata": {
        "id": "V7jcOwBpgd1U"
      },
      "source": [
        "# Переменные окружения"
      ]
    },
    {
      "cell_type": "markdown",
      "metadata": {
        "id": "gm-YZUlLi0lT"
      },
      "source": [
        "Оболочка в себе содержит так называемые переменные окружения - глобальные константы которые доступны всем программам которые она выполняет. В них удобно хранить например путь к конфигурационным файлам или порт какого нибудь сервиса.\n",
        "\n",
        "Переменные окружения зачастую определяют как ведет себя программа. Например, Python ищет пакеты в переменной `PYTHONPATH`.\n",
        "\n",
        "В переменной `PATH` находятся пути в которых Bash ищет исполняемые файлы других программ.\n"
      ]
    },
    {
      "cell_type": "code",
      "metadata": {
        "id": "QRCUr1pTfQLZ",
        "colab": {
          "base_uri": "https://localhost:8080/"
        },
        "outputId": "f362e442-9f02-4369-c534-e74ffc568805"
      },
      "source": [
        "# объявляем переменную и считываем ее ($ перед именем)\n",
        "!FOO=kindersurprise && echo $FOO"
      ],
      "execution_count": 24,
      "outputs": [
        {
          "output_type": "stream",
          "name": "stdout",
          "text": [
            "kindersurprise\n"
          ]
        }
      ]
    },
    {
      "cell_type": "code",
      "metadata": {
        "id": "ow-40MynjgVV",
        "colab": {
          "base_uri": "https://localhost:8080/"
        },
        "outputId": "9bc3dea6-c436-4d43-aa7d-cf1037b6dabe"
      },
      "source": [
        "!echo $PATH\n",
        "!echo $PYTHONPATH"
      ],
      "execution_count": 25,
      "outputs": [
        {
          "output_type": "stream",
          "name": "stdout",
          "text": [
            "/opt/bin:/usr/local/nvidia/bin:/usr/local/cuda/bin:/usr/local/sbin:/usr/local/bin:/usr/sbin:/usr/bin:/sbin:/bin:/tools/node/bin:/tools/google-cloud-sdk/bin\n",
            "/env/python\n"
          ]
        }
      ]
    },
    {
      "cell_type": "markdown",
      "metadata": {
        "id": "n9L5dgVwkzhV"
      },
      "source": [
        "Мы можем создать новую папку и заставить питон думать что в ней лежит модуль:"
      ]
    },
    {
      "cell_type": "code",
      "metadata": {
        "id": "uA50ME6BktK9",
        "colab": {
          "base_uri": "https://localhost:8080/"
        },
        "outputId": "2ba965cb-b84e-4536-cc22-a5280e8fa7b8"
      },
      "source": [
        "!rm -r fakemodule\n",
        "!mkdir fakemodule\n",
        "!mkdir fakemodule/power\n",
        "!echo \"print('A great power comes with a great responsibility')\" >> fakemodule/power/__init__.py\n"
      ],
      "execution_count": 26,
      "outputs": [
        {
          "output_type": "stream",
          "name": "stdout",
          "text": [
            "rm: cannot remove 'fakemodule': No such file or directory\n"
          ]
        }
      ]
    },
    {
      "cell_type": "code",
      "metadata": {
        "id": "QgLMIDMkuRTk",
        "colab": {
          "base_uri": "https://localhost:8080/"
        },
        "outputId": "72a2edb1-80d2-4921-b328-d99a3fdfadd4"
      },
      "source": [
        "!export a=\"Эта переменная будет доступна другим программам вызванным в той же оболочке\" && echo $a\n",
        "# Но тут уже не получится, для каждой команды Jupyter запускает свою оболочку \n",
        "!echo $a"
      ],
      "execution_count": 27,
      "outputs": [
        {
          "output_type": "stream",
          "name": "stdout",
          "text": [
            "Эта переменная будет доступна другим программам вызванным в той же оболочке\n",
            "\n"
          ]
        }
      ]
    },
    {
      "cell_type": "code",
      "metadata": {
        "id": "y1v9jifPlRZv",
        "colab": {
          "base_uri": "https://localhost:8080/"
        },
        "outputId": "93af7cc5-6949-4171-8754-3654f718b511"
      },
      "source": [
        "!PYTHONPATH=$PYTHONPATH:$(pwd)/fakemodule && python -c 'import power'"
      ],
      "execution_count": 28,
      "outputs": [
        {
          "output_type": "stream",
          "name": "stdout",
          "text": [
            "A great power comes with a great responsibility\n"
          ]
        }
      ]
    },
    {
      "cell_type": "markdown",
      "metadata": {
        "id": "nU9-VI-ErsHX"
      },
      "source": [
        "Конструкция `$(pwd)` подставляет вывод команды `pwd` в выражение. \n",
        "\n",
        "```\n",
        "PYTHONPATH=$PYTHONPATH:$(pwd)/fakemodule\n",
        "\n",
        "```\n",
        "После подстановки переменных мы получим:\n",
        "\n",
        "```\n",
        "PYTHONPATH=<то что было в PYTHONPATH>:<текущая директория>/fakemodule\n",
        "\n",
        "```\n",
        "Это добавит нашу fakemodule в переменную окружения и позволит питону найти наш модуль.\n"
      ]
    },
    {
      "cell_type": "code",
      "metadata": {
        "id": "62Ue2ovHmnTC",
        "colab": {
          "base_uri": "https://localhost:8080/"
        },
        "outputId": "d3791bba-121b-4590-f462-e9ed33cfe2f7"
      },
      "source": [
        "!echo $(pwd)"
      ],
      "execution_count": 29,
      "outputs": [
        {
          "output_type": "stream",
          "name": "stdout",
          "text": [
            "/root\n"
          ]
        }
      ]
    },
    {
      "cell_type": "markdown",
      "metadata": {
        "id": "cJvgfw6L-ZTs"
      },
      "source": [
        "С помощью этой конструкции можно из результата выполнения команды создать переменную и сразу ей воспользоваться:"
      ]
    },
    {
      "cell_type": "code",
      "metadata": {
        "id": "B7EepgGX-ZTt",
        "colab": {
          "base_uri": "https://localhost:8080/"
        },
        "outputId": "2f04c7f1-54cc-43c0-8ace-625f7e87338e"
      },
      "source": [
        "!dt_now=$(date); echo $dt_now"
      ],
      "execution_count": 30,
      "outputs": [
        {
          "output_type": "stream",
          "name": "stdout",
          "text": [
            "Mon 05 Jun 2023 11:59:58 AM UTC\n"
          ]
        }
      ]
    },
    {
      "cell_type": "markdown",
      "metadata": {
        "id": "V6hGvh7O-ZTv"
      },
      "source": [
        "Для более углублённого изучения Linux в целом и командной оболочки в частности рекомендуем пройти курс Введение в Linux от Института биоинформатики https://stepik.org/course/73"
      ]
    },
    {
      "cell_type": "code",
      "metadata": {
        "id": "jEDu1XUp-ZTv"
      },
      "source": [],
      "execution_count": null,
      "outputs": []
    }
  ]
}