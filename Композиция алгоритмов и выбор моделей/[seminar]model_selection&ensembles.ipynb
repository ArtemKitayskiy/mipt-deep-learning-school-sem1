{
  "nbformat": 4,
  "nbformat_minor": 0,
  "metadata": {
    "kernelspec": {
      "display_name": "Python 3",
      "language": "python",
      "name": "python3"
    },
    "language_info": {
      "codemirror_mode": {
        "name": "ipython",
        "version": 3
      },
      "file_extension": ".py",
      "mimetype": "text/x-python",
      "name": "python",
      "nbconvert_exporter": "python",
      "pygments_lexer": "ipython3",
      "version": "3.7.5"
    },
    "toc": {
      "base_numbering": 1,
      "nav_menu": {},
      "number_sections": true,
      "sideBar": true,
      "skip_h1_title": false,
      "title_cell": "Table of Contents",
      "title_sidebar": "Contents",
      "toc_cell": false,
      "toc_position": {},
      "toc_section_display": true,
      "toc_window_display": false
    },
    "colab": {
      "provenance": []
    },
    "widgets": {
      "application/vnd.jupyter.widget-state+json": {
        "76ec8c05cb72470185fee26ed402041d": {
          "model_module": "@jupyter-widgets/controls",
          "model_name": "HBoxModel",
          "model_module_version": "1.5.0",
          "state": {
            "_dom_classes": [],
            "_model_module": "@jupyter-widgets/controls",
            "_model_module_version": "1.5.0",
            "_model_name": "HBoxModel",
            "_view_count": null,
            "_view_module": "@jupyter-widgets/controls",
            "_view_module_version": "1.5.0",
            "_view_name": "HBoxView",
            "box_style": "",
            "children": [
              "IPY_MODEL_590850e880714085acd8265ec4a4b92c",
              "IPY_MODEL_bc0be3e2b16f42d6bb16ad041e036877",
              "IPY_MODEL_d0be7be1269945e9abf43360946e3139"
            ],
            "layout": "IPY_MODEL_d2f3b28955e248f99576aa387504fd9d"
          }
        },
        "590850e880714085acd8265ec4a4b92c": {
          "model_module": "@jupyter-widgets/controls",
          "model_name": "HTMLModel",
          "model_module_version": "1.5.0",
          "state": {
            "_dom_classes": [],
            "_model_module": "@jupyter-widgets/controls",
            "_model_module_version": "1.5.0",
            "_model_name": "HTMLModel",
            "_view_count": null,
            "_view_module": "@jupyter-widgets/controls",
            "_view_module_version": "1.5.0",
            "_view_name": "HTMLView",
            "description": "",
            "description_tooltip": null,
            "layout": "IPY_MODEL_df8f07d4c1a34635bc9c0acd998da663",
            "placeholder": "​",
            "style": "IPY_MODEL_4c5da9324c9349158899c10472598096",
            "value": "100%"
          }
        },
        "bc0be3e2b16f42d6bb16ad041e036877": {
          "model_module": "@jupyter-widgets/controls",
          "model_name": "FloatProgressModel",
          "model_module_version": "1.5.0",
          "state": {
            "_dom_classes": [],
            "_model_module": "@jupyter-widgets/controls",
            "_model_module_version": "1.5.0",
            "_model_name": "FloatProgressModel",
            "_view_count": null,
            "_view_module": "@jupyter-widgets/controls",
            "_view_module_version": "1.5.0",
            "_view_name": "ProgressView",
            "bar_style": "success",
            "description": "",
            "description_tooltip": null,
            "layout": "IPY_MODEL_c409076be4f24bf68e7066a8a41b5f43",
            "max": 5,
            "min": 0,
            "orientation": "horizontal",
            "style": "IPY_MODEL_3a44ee2b0d44443292453f0d8589d0d8",
            "value": 5
          }
        },
        "d0be7be1269945e9abf43360946e3139": {
          "model_module": "@jupyter-widgets/controls",
          "model_name": "HTMLModel",
          "model_module_version": "1.5.0",
          "state": {
            "_dom_classes": [],
            "_model_module": "@jupyter-widgets/controls",
            "_model_module_version": "1.5.0",
            "_model_name": "HTMLModel",
            "_view_count": null,
            "_view_module": "@jupyter-widgets/controls",
            "_view_module_version": "1.5.0",
            "_view_name": "HTMLView",
            "description": "",
            "description_tooltip": null,
            "layout": "IPY_MODEL_bbb53a820d794605b12830ce25400d94",
            "placeholder": "​",
            "style": "IPY_MODEL_4aa928203388480e82ca24aacd44b796",
            "value": " 5/5 [00:58&lt;00:00, 11.62s/it]"
          }
        },
        "d2f3b28955e248f99576aa387504fd9d": {
          "model_module": "@jupyter-widgets/base",
          "model_name": "LayoutModel",
          "model_module_version": "1.2.0",
          "state": {
            "_model_module": "@jupyter-widgets/base",
            "_model_module_version": "1.2.0",
            "_model_name": "LayoutModel",
            "_view_count": null,
            "_view_module": "@jupyter-widgets/base",
            "_view_module_version": "1.2.0",
            "_view_name": "LayoutView",
            "align_content": null,
            "align_items": null,
            "align_self": null,
            "border": null,
            "bottom": null,
            "display": null,
            "flex": null,
            "flex_flow": null,
            "grid_area": null,
            "grid_auto_columns": null,
            "grid_auto_flow": null,
            "grid_auto_rows": null,
            "grid_column": null,
            "grid_gap": null,
            "grid_row": null,
            "grid_template_areas": null,
            "grid_template_columns": null,
            "grid_template_rows": null,
            "height": null,
            "justify_content": null,
            "justify_items": null,
            "left": null,
            "margin": null,
            "max_height": null,
            "max_width": null,
            "min_height": null,
            "min_width": null,
            "object_fit": null,
            "object_position": null,
            "order": null,
            "overflow": null,
            "overflow_x": null,
            "overflow_y": null,
            "padding": null,
            "right": null,
            "top": null,
            "visibility": null,
            "width": null
          }
        },
        "df8f07d4c1a34635bc9c0acd998da663": {
          "model_module": "@jupyter-widgets/base",
          "model_name": "LayoutModel",
          "model_module_version": "1.2.0",
          "state": {
            "_model_module": "@jupyter-widgets/base",
            "_model_module_version": "1.2.0",
            "_model_name": "LayoutModel",
            "_view_count": null,
            "_view_module": "@jupyter-widgets/base",
            "_view_module_version": "1.2.0",
            "_view_name": "LayoutView",
            "align_content": null,
            "align_items": null,
            "align_self": null,
            "border": null,
            "bottom": null,
            "display": null,
            "flex": null,
            "flex_flow": null,
            "grid_area": null,
            "grid_auto_columns": null,
            "grid_auto_flow": null,
            "grid_auto_rows": null,
            "grid_column": null,
            "grid_gap": null,
            "grid_row": null,
            "grid_template_areas": null,
            "grid_template_columns": null,
            "grid_template_rows": null,
            "height": null,
            "justify_content": null,
            "justify_items": null,
            "left": null,
            "margin": null,
            "max_height": null,
            "max_width": null,
            "min_height": null,
            "min_width": null,
            "object_fit": null,
            "object_position": null,
            "order": null,
            "overflow": null,
            "overflow_x": null,
            "overflow_y": null,
            "padding": null,
            "right": null,
            "top": null,
            "visibility": null,
            "width": null
          }
        },
        "4c5da9324c9349158899c10472598096": {
          "model_module": "@jupyter-widgets/controls",
          "model_name": "DescriptionStyleModel",
          "model_module_version": "1.5.0",
          "state": {
            "_model_module": "@jupyter-widgets/controls",
            "_model_module_version": "1.5.0",
            "_model_name": "DescriptionStyleModel",
            "_view_count": null,
            "_view_module": "@jupyter-widgets/base",
            "_view_module_version": "1.2.0",
            "_view_name": "StyleView",
            "description_width": ""
          }
        },
        "c409076be4f24bf68e7066a8a41b5f43": {
          "model_module": "@jupyter-widgets/base",
          "model_name": "LayoutModel",
          "model_module_version": "1.2.0",
          "state": {
            "_model_module": "@jupyter-widgets/base",
            "_model_module_version": "1.2.0",
            "_model_name": "LayoutModel",
            "_view_count": null,
            "_view_module": "@jupyter-widgets/base",
            "_view_module_version": "1.2.0",
            "_view_name": "LayoutView",
            "align_content": null,
            "align_items": null,
            "align_self": null,
            "border": null,
            "bottom": null,
            "display": null,
            "flex": null,
            "flex_flow": null,
            "grid_area": null,
            "grid_auto_columns": null,
            "grid_auto_flow": null,
            "grid_auto_rows": null,
            "grid_column": null,
            "grid_gap": null,
            "grid_row": null,
            "grid_template_areas": null,
            "grid_template_columns": null,
            "grid_template_rows": null,
            "height": null,
            "justify_content": null,
            "justify_items": null,
            "left": null,
            "margin": null,
            "max_height": null,
            "max_width": null,
            "min_height": null,
            "min_width": null,
            "object_fit": null,
            "object_position": null,
            "order": null,
            "overflow": null,
            "overflow_x": null,
            "overflow_y": null,
            "padding": null,
            "right": null,
            "top": null,
            "visibility": null,
            "width": null
          }
        },
        "3a44ee2b0d44443292453f0d8589d0d8": {
          "model_module": "@jupyter-widgets/controls",
          "model_name": "ProgressStyleModel",
          "model_module_version": "1.5.0",
          "state": {
            "_model_module": "@jupyter-widgets/controls",
            "_model_module_version": "1.5.0",
            "_model_name": "ProgressStyleModel",
            "_view_count": null,
            "_view_module": "@jupyter-widgets/base",
            "_view_module_version": "1.2.0",
            "_view_name": "StyleView",
            "bar_color": null,
            "description_width": ""
          }
        },
        "bbb53a820d794605b12830ce25400d94": {
          "model_module": "@jupyter-widgets/base",
          "model_name": "LayoutModel",
          "model_module_version": "1.2.0",
          "state": {
            "_model_module": "@jupyter-widgets/base",
            "_model_module_version": "1.2.0",
            "_model_name": "LayoutModel",
            "_view_count": null,
            "_view_module": "@jupyter-widgets/base",
            "_view_module_version": "1.2.0",
            "_view_name": "LayoutView",
            "align_content": null,
            "align_items": null,
            "align_self": null,
            "border": null,
            "bottom": null,
            "display": null,
            "flex": null,
            "flex_flow": null,
            "grid_area": null,
            "grid_auto_columns": null,
            "grid_auto_flow": null,
            "grid_auto_rows": null,
            "grid_column": null,
            "grid_gap": null,
            "grid_row": null,
            "grid_template_areas": null,
            "grid_template_columns": null,
            "grid_template_rows": null,
            "height": null,
            "justify_content": null,
            "justify_items": null,
            "left": null,
            "margin": null,
            "max_height": null,
            "max_width": null,
            "min_height": null,
            "min_width": null,
            "object_fit": null,
            "object_position": null,
            "order": null,
            "overflow": null,
            "overflow_x": null,
            "overflow_y": null,
            "padding": null,
            "right": null,
            "top": null,
            "visibility": null,
            "width": null
          }
        },
        "4aa928203388480e82ca24aacd44b796": {
          "model_module": "@jupyter-widgets/controls",
          "model_name": "DescriptionStyleModel",
          "model_module_version": "1.5.0",
          "state": {
            "_model_module": "@jupyter-widgets/controls",
            "_model_module_version": "1.5.0",
            "_model_name": "DescriptionStyleModel",
            "_view_count": null,
            "_view_module": "@jupyter-widgets/base",
            "_view_module_version": "1.2.0",
            "_view_name": "StyleView",
            "description_width": ""
          }
        },
        "8fd151cfb0984d7c81499c1a271d55fc": {
          "model_module": "@jupyter-widgets/controls",
          "model_name": "HBoxModel",
          "model_module_version": "1.5.0",
          "state": {
            "_dom_classes": [],
            "_model_module": "@jupyter-widgets/controls",
            "_model_module_version": "1.5.0",
            "_model_name": "HBoxModel",
            "_view_count": null,
            "_view_module": "@jupyter-widgets/controls",
            "_view_module_version": "1.5.0",
            "_view_name": "HBoxView",
            "box_style": "",
            "children": [
              "IPY_MODEL_6fc5994f60864943a66555b539dfbc7a",
              "IPY_MODEL_7cf5bc933e484a1bbd1e231e2bb8e43a",
              "IPY_MODEL_e770261952ad432da0d5c24b2afd79bc"
            ],
            "layout": "IPY_MODEL_511d20f0055e47b3ad5130fc067f0eca"
          }
        },
        "6fc5994f60864943a66555b539dfbc7a": {
          "model_module": "@jupyter-widgets/controls",
          "model_name": "HTMLModel",
          "model_module_version": "1.5.0",
          "state": {
            "_dom_classes": [],
            "_model_module": "@jupyter-widgets/controls",
            "_model_module_version": "1.5.0",
            "_model_name": "HTMLModel",
            "_view_count": null,
            "_view_module": "@jupyter-widgets/controls",
            "_view_module_version": "1.5.0",
            "_view_name": "HTMLView",
            "description": "",
            "description_tooltip": null,
            "layout": "IPY_MODEL_bf5a17c7e8b34f53896b5f5c68ba44cf",
            "placeholder": "​",
            "style": "IPY_MODEL_66d8848baacd4fc99c2f6069698a990b",
            "value": "100%"
          }
        },
        "7cf5bc933e484a1bbd1e231e2bb8e43a": {
          "model_module": "@jupyter-widgets/controls",
          "model_name": "FloatProgressModel",
          "model_module_version": "1.5.0",
          "state": {
            "_dom_classes": [],
            "_model_module": "@jupyter-widgets/controls",
            "_model_module_version": "1.5.0",
            "_model_name": "FloatProgressModel",
            "_view_count": null,
            "_view_module": "@jupyter-widgets/controls",
            "_view_module_version": "1.5.0",
            "_view_name": "ProgressView",
            "bar_style": "",
            "description": "",
            "description_tooltip": null,
            "layout": "IPY_MODEL_8f2bb4263b714e7f9a0529086cf18da8",
            "max": 100,
            "min": 0,
            "orientation": "horizontal",
            "style": "IPY_MODEL_eb40617a1e304827961ec15ecffa0489",
            "value": 100
          }
        },
        "e770261952ad432da0d5c24b2afd79bc": {
          "model_module": "@jupyter-widgets/controls",
          "model_name": "HTMLModel",
          "model_module_version": "1.5.0",
          "state": {
            "_dom_classes": [],
            "_model_module": "@jupyter-widgets/controls",
            "_model_module_version": "1.5.0",
            "_model_name": "HTMLModel",
            "_view_count": null,
            "_view_module": "@jupyter-widgets/controls",
            "_view_module_version": "1.5.0",
            "_view_name": "HTMLView",
            "description": "",
            "description_tooltip": null,
            "layout": "IPY_MODEL_4c2d3679a4ae473b80a2c842633036dc",
            "placeholder": "​",
            "style": "IPY_MODEL_2f0f8011c54b483e9f6040d0745f05e0",
            "value": " 100/100 [00:09&lt;00:00,  6.86it/s]"
          }
        },
        "511d20f0055e47b3ad5130fc067f0eca": {
          "model_module": "@jupyter-widgets/base",
          "model_name": "LayoutModel",
          "model_module_version": "1.2.0",
          "state": {
            "_model_module": "@jupyter-widgets/base",
            "_model_module_version": "1.2.0",
            "_model_name": "LayoutModel",
            "_view_count": null,
            "_view_module": "@jupyter-widgets/base",
            "_view_module_version": "1.2.0",
            "_view_name": "LayoutView",
            "align_content": null,
            "align_items": null,
            "align_self": null,
            "border": null,
            "bottom": null,
            "display": null,
            "flex": null,
            "flex_flow": null,
            "grid_area": null,
            "grid_auto_columns": null,
            "grid_auto_flow": null,
            "grid_auto_rows": null,
            "grid_column": null,
            "grid_gap": null,
            "grid_row": null,
            "grid_template_areas": null,
            "grid_template_columns": null,
            "grid_template_rows": null,
            "height": null,
            "justify_content": null,
            "justify_items": null,
            "left": null,
            "margin": null,
            "max_height": null,
            "max_width": null,
            "min_height": null,
            "min_width": null,
            "object_fit": null,
            "object_position": null,
            "order": null,
            "overflow": null,
            "overflow_x": null,
            "overflow_y": null,
            "padding": null,
            "right": null,
            "top": null,
            "visibility": "hidden",
            "width": null
          }
        },
        "bf5a17c7e8b34f53896b5f5c68ba44cf": {
          "model_module": "@jupyter-widgets/base",
          "model_name": "LayoutModel",
          "model_module_version": "1.2.0",
          "state": {
            "_model_module": "@jupyter-widgets/base",
            "_model_module_version": "1.2.0",
            "_model_name": "LayoutModel",
            "_view_count": null,
            "_view_module": "@jupyter-widgets/base",
            "_view_module_version": "1.2.0",
            "_view_name": "LayoutView",
            "align_content": null,
            "align_items": null,
            "align_self": null,
            "border": null,
            "bottom": null,
            "display": null,
            "flex": null,
            "flex_flow": null,
            "grid_area": null,
            "grid_auto_columns": null,
            "grid_auto_flow": null,
            "grid_auto_rows": null,
            "grid_column": null,
            "grid_gap": null,
            "grid_row": null,
            "grid_template_areas": null,
            "grid_template_columns": null,
            "grid_template_rows": null,
            "height": null,
            "justify_content": null,
            "justify_items": null,
            "left": null,
            "margin": null,
            "max_height": null,
            "max_width": null,
            "min_height": null,
            "min_width": null,
            "object_fit": null,
            "object_position": null,
            "order": null,
            "overflow": null,
            "overflow_x": null,
            "overflow_y": null,
            "padding": null,
            "right": null,
            "top": null,
            "visibility": null,
            "width": null
          }
        },
        "66d8848baacd4fc99c2f6069698a990b": {
          "model_module": "@jupyter-widgets/controls",
          "model_name": "DescriptionStyleModel",
          "model_module_version": "1.5.0",
          "state": {
            "_model_module": "@jupyter-widgets/controls",
            "_model_module_version": "1.5.0",
            "_model_name": "DescriptionStyleModel",
            "_view_count": null,
            "_view_module": "@jupyter-widgets/base",
            "_view_module_version": "1.2.0",
            "_view_name": "StyleView",
            "description_width": ""
          }
        },
        "8f2bb4263b714e7f9a0529086cf18da8": {
          "model_module": "@jupyter-widgets/base",
          "model_name": "LayoutModel",
          "model_module_version": "1.2.0",
          "state": {
            "_model_module": "@jupyter-widgets/base",
            "_model_module_version": "1.2.0",
            "_model_name": "LayoutModel",
            "_view_count": null,
            "_view_module": "@jupyter-widgets/base",
            "_view_module_version": "1.2.0",
            "_view_name": "LayoutView",
            "align_content": null,
            "align_items": null,
            "align_self": null,
            "border": null,
            "bottom": null,
            "display": null,
            "flex": null,
            "flex_flow": null,
            "grid_area": null,
            "grid_auto_columns": null,
            "grid_auto_flow": null,
            "grid_auto_rows": null,
            "grid_column": null,
            "grid_gap": null,
            "grid_row": null,
            "grid_template_areas": null,
            "grid_template_columns": null,
            "grid_template_rows": null,
            "height": null,
            "justify_content": null,
            "justify_items": null,
            "left": null,
            "margin": null,
            "max_height": null,
            "max_width": null,
            "min_height": null,
            "min_width": null,
            "object_fit": null,
            "object_position": null,
            "order": null,
            "overflow": null,
            "overflow_x": null,
            "overflow_y": null,
            "padding": null,
            "right": null,
            "top": null,
            "visibility": null,
            "width": null
          }
        },
        "eb40617a1e304827961ec15ecffa0489": {
          "model_module": "@jupyter-widgets/controls",
          "model_name": "ProgressStyleModel",
          "model_module_version": "1.5.0",
          "state": {
            "_model_module": "@jupyter-widgets/controls",
            "_model_module_version": "1.5.0",
            "_model_name": "ProgressStyleModel",
            "_view_count": null,
            "_view_module": "@jupyter-widgets/base",
            "_view_module_version": "1.2.0",
            "_view_name": "StyleView",
            "bar_color": null,
            "description_width": ""
          }
        },
        "4c2d3679a4ae473b80a2c842633036dc": {
          "model_module": "@jupyter-widgets/base",
          "model_name": "LayoutModel",
          "model_module_version": "1.2.0",
          "state": {
            "_model_module": "@jupyter-widgets/base",
            "_model_module_version": "1.2.0",
            "_model_name": "LayoutModel",
            "_view_count": null,
            "_view_module": "@jupyter-widgets/base",
            "_view_module_version": "1.2.0",
            "_view_name": "LayoutView",
            "align_content": null,
            "align_items": null,
            "align_self": null,
            "border": null,
            "bottom": null,
            "display": null,
            "flex": null,
            "flex_flow": null,
            "grid_area": null,
            "grid_auto_columns": null,
            "grid_auto_flow": null,
            "grid_auto_rows": null,
            "grid_column": null,
            "grid_gap": null,
            "grid_row": null,
            "grid_template_areas": null,
            "grid_template_columns": null,
            "grid_template_rows": null,
            "height": null,
            "justify_content": null,
            "justify_items": null,
            "left": null,
            "margin": null,
            "max_height": null,
            "max_width": null,
            "min_height": null,
            "min_width": null,
            "object_fit": null,
            "object_position": null,
            "order": null,
            "overflow": null,
            "overflow_x": null,
            "overflow_y": null,
            "padding": null,
            "right": null,
            "top": null,
            "visibility": null,
            "width": null
          }
        },
        "2f0f8011c54b483e9f6040d0745f05e0": {
          "model_module": "@jupyter-widgets/controls",
          "model_name": "DescriptionStyleModel",
          "model_module_version": "1.5.0",
          "state": {
            "_model_module": "@jupyter-widgets/controls",
            "_model_module_version": "1.5.0",
            "_model_name": "DescriptionStyleModel",
            "_view_count": null,
            "_view_module": "@jupyter-widgets/base",
            "_view_module_version": "1.2.0",
            "_view_name": "StyleView",
            "description_width": ""
          }
        },
        "884523d014314eeba49f843ec7690bbd": {
          "model_module": "@jupyter-widgets/controls",
          "model_name": "HBoxModel",
          "model_module_version": "1.5.0",
          "state": {
            "_dom_classes": [],
            "_model_module": "@jupyter-widgets/controls",
            "_model_module_version": "1.5.0",
            "_model_name": "HBoxModel",
            "_view_count": null,
            "_view_module": "@jupyter-widgets/controls",
            "_view_module_version": "1.5.0",
            "_view_name": "HBoxView",
            "box_style": "",
            "children": [
              "IPY_MODEL_b8cb595591af4e5784bf10a0e40d62ab",
              "IPY_MODEL_493aeaf9253a4b298868d5cb34017d58",
              "IPY_MODEL_7a48879d015a4d508a4bad9af76e8691"
            ],
            "layout": "IPY_MODEL_3d4961a954064dbb81f8e6500fb73b14"
          }
        },
        "b8cb595591af4e5784bf10a0e40d62ab": {
          "model_module": "@jupyter-widgets/controls",
          "model_name": "HTMLModel",
          "model_module_version": "1.5.0",
          "state": {
            "_dom_classes": [],
            "_model_module": "@jupyter-widgets/controls",
            "_model_module_version": "1.5.0",
            "_model_name": "HTMLModel",
            "_view_count": null,
            "_view_module": "@jupyter-widgets/controls",
            "_view_module_version": "1.5.0",
            "_view_name": "HTMLView",
            "description": "",
            "description_tooltip": null,
            "layout": "IPY_MODEL_3ecef472f8ab4548bce0dbd5c7141013",
            "placeholder": "​",
            "style": "IPY_MODEL_cd58d089d2ef42b78804790c13c502d6",
            "value": "100%"
          }
        },
        "493aeaf9253a4b298868d5cb34017d58": {
          "model_module": "@jupyter-widgets/controls",
          "model_name": "FloatProgressModel",
          "model_module_version": "1.5.0",
          "state": {
            "_dom_classes": [],
            "_model_module": "@jupyter-widgets/controls",
            "_model_module_version": "1.5.0",
            "_model_name": "FloatProgressModel",
            "_view_count": null,
            "_view_module": "@jupyter-widgets/controls",
            "_view_module_version": "1.5.0",
            "_view_name": "ProgressView",
            "bar_style": "",
            "description": "",
            "description_tooltip": null,
            "layout": "IPY_MODEL_8c2ac7ab2a8b4cecaa8c12f38f44f0d6",
            "max": 100,
            "min": 0,
            "orientation": "horizontal",
            "style": "IPY_MODEL_e4269d411ea04d218a35fd1f42235e95",
            "value": 100
          }
        },
        "7a48879d015a4d508a4bad9af76e8691": {
          "model_module": "@jupyter-widgets/controls",
          "model_name": "HTMLModel",
          "model_module_version": "1.5.0",
          "state": {
            "_dom_classes": [],
            "_model_module": "@jupyter-widgets/controls",
            "_model_module_version": "1.5.0",
            "_model_name": "HTMLModel",
            "_view_count": null,
            "_view_module": "@jupyter-widgets/controls",
            "_view_module_version": "1.5.0",
            "_view_name": "HTMLView",
            "description": "",
            "description_tooltip": null,
            "layout": "IPY_MODEL_cecc1df84a054e5b89638d9693333f89",
            "placeholder": "​",
            "style": "IPY_MODEL_ca23fdd94ba84feead212f9583b2ec60",
            "value": " 100/100 [00:07&lt;00:00,  6.86it/s]"
          }
        },
        "3d4961a954064dbb81f8e6500fb73b14": {
          "model_module": "@jupyter-widgets/base",
          "model_name": "LayoutModel",
          "model_module_version": "1.2.0",
          "state": {
            "_model_module": "@jupyter-widgets/base",
            "_model_module_version": "1.2.0",
            "_model_name": "LayoutModel",
            "_view_count": null,
            "_view_module": "@jupyter-widgets/base",
            "_view_module_version": "1.2.0",
            "_view_name": "LayoutView",
            "align_content": null,
            "align_items": null,
            "align_self": null,
            "border": null,
            "bottom": null,
            "display": null,
            "flex": null,
            "flex_flow": null,
            "grid_area": null,
            "grid_auto_columns": null,
            "grid_auto_flow": null,
            "grid_auto_rows": null,
            "grid_column": null,
            "grid_gap": null,
            "grid_row": null,
            "grid_template_areas": null,
            "grid_template_columns": null,
            "grid_template_rows": null,
            "height": null,
            "justify_content": null,
            "justify_items": null,
            "left": null,
            "margin": null,
            "max_height": null,
            "max_width": null,
            "min_height": null,
            "min_width": null,
            "object_fit": null,
            "object_position": null,
            "order": null,
            "overflow": null,
            "overflow_x": null,
            "overflow_y": null,
            "padding": null,
            "right": null,
            "top": null,
            "visibility": "hidden",
            "width": null
          }
        },
        "3ecef472f8ab4548bce0dbd5c7141013": {
          "model_module": "@jupyter-widgets/base",
          "model_name": "LayoutModel",
          "model_module_version": "1.2.0",
          "state": {
            "_model_module": "@jupyter-widgets/base",
            "_model_module_version": "1.2.0",
            "_model_name": "LayoutModel",
            "_view_count": null,
            "_view_module": "@jupyter-widgets/base",
            "_view_module_version": "1.2.0",
            "_view_name": "LayoutView",
            "align_content": null,
            "align_items": null,
            "align_self": null,
            "border": null,
            "bottom": null,
            "display": null,
            "flex": null,
            "flex_flow": null,
            "grid_area": null,
            "grid_auto_columns": null,
            "grid_auto_flow": null,
            "grid_auto_rows": null,
            "grid_column": null,
            "grid_gap": null,
            "grid_row": null,
            "grid_template_areas": null,
            "grid_template_columns": null,
            "grid_template_rows": null,
            "height": null,
            "justify_content": null,
            "justify_items": null,
            "left": null,
            "margin": null,
            "max_height": null,
            "max_width": null,
            "min_height": null,
            "min_width": null,
            "object_fit": null,
            "object_position": null,
            "order": null,
            "overflow": null,
            "overflow_x": null,
            "overflow_y": null,
            "padding": null,
            "right": null,
            "top": null,
            "visibility": null,
            "width": null
          }
        },
        "cd58d089d2ef42b78804790c13c502d6": {
          "model_module": "@jupyter-widgets/controls",
          "model_name": "DescriptionStyleModel",
          "model_module_version": "1.5.0",
          "state": {
            "_model_module": "@jupyter-widgets/controls",
            "_model_module_version": "1.5.0",
            "_model_name": "DescriptionStyleModel",
            "_view_count": null,
            "_view_module": "@jupyter-widgets/base",
            "_view_module_version": "1.2.0",
            "_view_name": "StyleView",
            "description_width": ""
          }
        },
        "8c2ac7ab2a8b4cecaa8c12f38f44f0d6": {
          "model_module": "@jupyter-widgets/base",
          "model_name": "LayoutModel",
          "model_module_version": "1.2.0",
          "state": {
            "_model_module": "@jupyter-widgets/base",
            "_model_module_version": "1.2.0",
            "_model_name": "LayoutModel",
            "_view_count": null,
            "_view_module": "@jupyter-widgets/base",
            "_view_module_version": "1.2.0",
            "_view_name": "LayoutView",
            "align_content": null,
            "align_items": null,
            "align_self": null,
            "border": null,
            "bottom": null,
            "display": null,
            "flex": null,
            "flex_flow": null,
            "grid_area": null,
            "grid_auto_columns": null,
            "grid_auto_flow": null,
            "grid_auto_rows": null,
            "grid_column": null,
            "grid_gap": null,
            "grid_row": null,
            "grid_template_areas": null,
            "grid_template_columns": null,
            "grid_template_rows": null,
            "height": null,
            "justify_content": null,
            "justify_items": null,
            "left": null,
            "margin": null,
            "max_height": null,
            "max_width": null,
            "min_height": null,
            "min_width": null,
            "object_fit": null,
            "object_position": null,
            "order": null,
            "overflow": null,
            "overflow_x": null,
            "overflow_y": null,
            "padding": null,
            "right": null,
            "top": null,
            "visibility": null,
            "width": null
          }
        },
        "e4269d411ea04d218a35fd1f42235e95": {
          "model_module": "@jupyter-widgets/controls",
          "model_name": "ProgressStyleModel",
          "model_module_version": "1.5.0",
          "state": {
            "_model_module": "@jupyter-widgets/controls",
            "_model_module_version": "1.5.0",
            "_model_name": "ProgressStyleModel",
            "_view_count": null,
            "_view_module": "@jupyter-widgets/base",
            "_view_module_version": "1.2.0",
            "_view_name": "StyleView",
            "bar_color": null,
            "description_width": ""
          }
        },
        "cecc1df84a054e5b89638d9693333f89": {
          "model_module": "@jupyter-widgets/base",
          "model_name": "LayoutModel",
          "model_module_version": "1.2.0",
          "state": {
            "_model_module": "@jupyter-widgets/base",
            "_model_module_version": "1.2.0",
            "_model_name": "LayoutModel",
            "_view_count": null,
            "_view_module": "@jupyter-widgets/base",
            "_view_module_version": "1.2.0",
            "_view_name": "LayoutView",
            "align_content": null,
            "align_items": null,
            "align_self": null,
            "border": null,
            "bottom": null,
            "display": null,
            "flex": null,
            "flex_flow": null,
            "grid_area": null,
            "grid_auto_columns": null,
            "grid_auto_flow": null,
            "grid_auto_rows": null,
            "grid_column": null,
            "grid_gap": null,
            "grid_row": null,
            "grid_template_areas": null,
            "grid_template_columns": null,
            "grid_template_rows": null,
            "height": null,
            "justify_content": null,
            "justify_items": null,
            "left": null,
            "margin": null,
            "max_height": null,
            "max_width": null,
            "min_height": null,
            "min_width": null,
            "object_fit": null,
            "object_position": null,
            "order": null,
            "overflow": null,
            "overflow_x": null,
            "overflow_y": null,
            "padding": null,
            "right": null,
            "top": null,
            "visibility": null,
            "width": null
          }
        },
        "ca23fdd94ba84feead212f9583b2ec60": {
          "model_module": "@jupyter-widgets/controls",
          "model_name": "DescriptionStyleModel",
          "model_module_version": "1.5.0",
          "state": {
            "_model_module": "@jupyter-widgets/controls",
            "_model_module_version": "1.5.0",
            "_model_name": "DescriptionStyleModel",
            "_view_count": null,
            "_view_module": "@jupyter-widgets/base",
            "_view_module_version": "1.2.0",
            "_view_name": "StyleView",
            "description_width": ""
          }
        },
        "c8e4cc6cb09d45378271399965be5041": {
          "model_module": "@jupyter-widgets/controls",
          "model_name": "HBoxModel",
          "model_module_version": "1.5.0",
          "state": {
            "_dom_classes": [],
            "_model_module": "@jupyter-widgets/controls",
            "_model_module_version": "1.5.0",
            "_model_name": "HBoxModel",
            "_view_count": null,
            "_view_module": "@jupyter-widgets/controls",
            "_view_module_version": "1.5.0",
            "_view_name": "HBoxView",
            "box_style": "",
            "children": [
              "IPY_MODEL_e6f738ab9acd4980b68549ba1403d8d8",
              "IPY_MODEL_d749e7955dbf4faf9ea5b683725efb90",
              "IPY_MODEL_7e962778747243359271dafc3b2aecd4"
            ],
            "layout": "IPY_MODEL_1347671e887e491e8bc129ce85a03f0e"
          }
        },
        "e6f738ab9acd4980b68549ba1403d8d8": {
          "model_module": "@jupyter-widgets/controls",
          "model_name": "HTMLModel",
          "model_module_version": "1.5.0",
          "state": {
            "_dom_classes": [],
            "_model_module": "@jupyter-widgets/controls",
            "_model_module_version": "1.5.0",
            "_model_name": "HTMLModel",
            "_view_count": null,
            "_view_module": "@jupyter-widgets/controls",
            "_view_module_version": "1.5.0",
            "_view_name": "HTMLView",
            "description": "",
            "description_tooltip": null,
            "layout": "IPY_MODEL_02c4810b189045b48d49bcec1c22f667",
            "placeholder": "​",
            "style": "IPY_MODEL_5df115402c0d4ed68751abc290f5c292",
            "value": "100%"
          }
        },
        "d749e7955dbf4faf9ea5b683725efb90": {
          "model_module": "@jupyter-widgets/controls",
          "model_name": "FloatProgressModel",
          "model_module_version": "1.5.0",
          "state": {
            "_dom_classes": [],
            "_model_module": "@jupyter-widgets/controls",
            "_model_module_version": "1.5.0",
            "_model_name": "FloatProgressModel",
            "_view_count": null,
            "_view_module": "@jupyter-widgets/controls",
            "_view_module_version": "1.5.0",
            "_view_name": "ProgressView",
            "bar_style": "",
            "description": "",
            "description_tooltip": null,
            "layout": "IPY_MODEL_83b37ea67e4a42d5b026810498aa054b",
            "max": 100,
            "min": 0,
            "orientation": "horizontal",
            "style": "IPY_MODEL_d1cbeba00fdc423d9c611e43a3478669",
            "value": 100
          }
        },
        "7e962778747243359271dafc3b2aecd4": {
          "model_module": "@jupyter-widgets/controls",
          "model_name": "HTMLModel",
          "model_module_version": "1.5.0",
          "state": {
            "_dom_classes": [],
            "_model_module": "@jupyter-widgets/controls",
            "_model_module_version": "1.5.0",
            "_model_name": "HTMLModel",
            "_view_count": null,
            "_view_module": "@jupyter-widgets/controls",
            "_view_module_version": "1.5.0",
            "_view_name": "HTMLView",
            "description": "",
            "description_tooltip": null,
            "layout": "IPY_MODEL_0ceb75875791480086daff359fb4ac6a",
            "placeholder": "​",
            "style": "IPY_MODEL_f3de1698743846b4b11d2f7a153978b6",
            "value": " 100/100 [00:07&lt;00:00,  6.86it/s]"
          }
        },
        "1347671e887e491e8bc129ce85a03f0e": {
          "model_module": "@jupyter-widgets/base",
          "model_name": "LayoutModel",
          "model_module_version": "1.2.0",
          "state": {
            "_model_module": "@jupyter-widgets/base",
            "_model_module_version": "1.2.0",
            "_model_name": "LayoutModel",
            "_view_count": null,
            "_view_module": "@jupyter-widgets/base",
            "_view_module_version": "1.2.0",
            "_view_name": "LayoutView",
            "align_content": null,
            "align_items": null,
            "align_self": null,
            "border": null,
            "bottom": null,
            "display": null,
            "flex": null,
            "flex_flow": null,
            "grid_area": null,
            "grid_auto_columns": null,
            "grid_auto_flow": null,
            "grid_auto_rows": null,
            "grid_column": null,
            "grid_gap": null,
            "grid_row": null,
            "grid_template_areas": null,
            "grid_template_columns": null,
            "grid_template_rows": null,
            "height": null,
            "justify_content": null,
            "justify_items": null,
            "left": null,
            "margin": null,
            "max_height": null,
            "max_width": null,
            "min_height": null,
            "min_width": null,
            "object_fit": null,
            "object_position": null,
            "order": null,
            "overflow": null,
            "overflow_x": null,
            "overflow_y": null,
            "padding": null,
            "right": null,
            "top": null,
            "visibility": "hidden",
            "width": null
          }
        },
        "02c4810b189045b48d49bcec1c22f667": {
          "model_module": "@jupyter-widgets/base",
          "model_name": "LayoutModel",
          "model_module_version": "1.2.0",
          "state": {
            "_model_module": "@jupyter-widgets/base",
            "_model_module_version": "1.2.0",
            "_model_name": "LayoutModel",
            "_view_count": null,
            "_view_module": "@jupyter-widgets/base",
            "_view_module_version": "1.2.0",
            "_view_name": "LayoutView",
            "align_content": null,
            "align_items": null,
            "align_self": null,
            "border": null,
            "bottom": null,
            "display": null,
            "flex": null,
            "flex_flow": null,
            "grid_area": null,
            "grid_auto_columns": null,
            "grid_auto_flow": null,
            "grid_auto_rows": null,
            "grid_column": null,
            "grid_gap": null,
            "grid_row": null,
            "grid_template_areas": null,
            "grid_template_columns": null,
            "grid_template_rows": null,
            "height": null,
            "justify_content": null,
            "justify_items": null,
            "left": null,
            "margin": null,
            "max_height": null,
            "max_width": null,
            "min_height": null,
            "min_width": null,
            "object_fit": null,
            "object_position": null,
            "order": null,
            "overflow": null,
            "overflow_x": null,
            "overflow_y": null,
            "padding": null,
            "right": null,
            "top": null,
            "visibility": null,
            "width": null
          }
        },
        "5df115402c0d4ed68751abc290f5c292": {
          "model_module": "@jupyter-widgets/controls",
          "model_name": "DescriptionStyleModel",
          "model_module_version": "1.5.0",
          "state": {
            "_model_module": "@jupyter-widgets/controls",
            "_model_module_version": "1.5.0",
            "_model_name": "DescriptionStyleModel",
            "_view_count": null,
            "_view_module": "@jupyter-widgets/base",
            "_view_module_version": "1.2.0",
            "_view_name": "StyleView",
            "description_width": ""
          }
        },
        "83b37ea67e4a42d5b026810498aa054b": {
          "model_module": "@jupyter-widgets/base",
          "model_name": "LayoutModel",
          "model_module_version": "1.2.0",
          "state": {
            "_model_module": "@jupyter-widgets/base",
            "_model_module_version": "1.2.0",
            "_model_name": "LayoutModel",
            "_view_count": null,
            "_view_module": "@jupyter-widgets/base",
            "_view_module_version": "1.2.0",
            "_view_name": "LayoutView",
            "align_content": null,
            "align_items": null,
            "align_self": null,
            "border": null,
            "bottom": null,
            "display": null,
            "flex": null,
            "flex_flow": null,
            "grid_area": null,
            "grid_auto_columns": null,
            "grid_auto_flow": null,
            "grid_auto_rows": null,
            "grid_column": null,
            "grid_gap": null,
            "grid_row": null,
            "grid_template_areas": null,
            "grid_template_columns": null,
            "grid_template_rows": null,
            "height": null,
            "justify_content": null,
            "justify_items": null,
            "left": null,
            "margin": null,
            "max_height": null,
            "max_width": null,
            "min_height": null,
            "min_width": null,
            "object_fit": null,
            "object_position": null,
            "order": null,
            "overflow": null,
            "overflow_x": null,
            "overflow_y": null,
            "padding": null,
            "right": null,
            "top": null,
            "visibility": null,
            "width": null
          }
        },
        "d1cbeba00fdc423d9c611e43a3478669": {
          "model_module": "@jupyter-widgets/controls",
          "model_name": "ProgressStyleModel",
          "model_module_version": "1.5.0",
          "state": {
            "_model_module": "@jupyter-widgets/controls",
            "_model_module_version": "1.5.0",
            "_model_name": "ProgressStyleModel",
            "_view_count": null,
            "_view_module": "@jupyter-widgets/base",
            "_view_module_version": "1.2.0",
            "_view_name": "StyleView",
            "bar_color": null,
            "description_width": ""
          }
        },
        "0ceb75875791480086daff359fb4ac6a": {
          "model_module": "@jupyter-widgets/base",
          "model_name": "LayoutModel",
          "model_module_version": "1.2.0",
          "state": {
            "_model_module": "@jupyter-widgets/base",
            "_model_module_version": "1.2.0",
            "_model_name": "LayoutModel",
            "_view_count": null,
            "_view_module": "@jupyter-widgets/base",
            "_view_module_version": "1.2.0",
            "_view_name": "LayoutView",
            "align_content": null,
            "align_items": null,
            "align_self": null,
            "border": null,
            "bottom": null,
            "display": null,
            "flex": null,
            "flex_flow": null,
            "grid_area": null,
            "grid_auto_columns": null,
            "grid_auto_flow": null,
            "grid_auto_rows": null,
            "grid_column": null,
            "grid_gap": null,
            "grid_row": null,
            "grid_template_areas": null,
            "grid_template_columns": null,
            "grid_template_rows": null,
            "height": null,
            "justify_content": null,
            "justify_items": null,
            "left": null,
            "margin": null,
            "max_height": null,
            "max_width": null,
            "min_height": null,
            "min_width": null,
            "object_fit": null,
            "object_position": null,
            "order": null,
            "overflow": null,
            "overflow_x": null,
            "overflow_y": null,
            "padding": null,
            "right": null,
            "top": null,
            "visibility": null,
            "width": null
          }
        },
        "f3de1698743846b4b11d2f7a153978b6": {
          "model_module": "@jupyter-widgets/controls",
          "model_name": "DescriptionStyleModel",
          "model_module_version": "1.5.0",
          "state": {
            "_model_module": "@jupyter-widgets/controls",
            "_model_module_version": "1.5.0",
            "_model_name": "DescriptionStyleModel",
            "_view_count": null,
            "_view_module": "@jupyter-widgets/base",
            "_view_module_version": "1.2.0",
            "_view_name": "StyleView",
            "description_width": ""
          }
        },
        "fada9efcb9324fec9785db04736dce24": {
          "model_module": "@jupyter-widgets/controls",
          "model_name": "HBoxModel",
          "model_module_version": "1.5.0",
          "state": {
            "_dom_classes": [],
            "_model_module": "@jupyter-widgets/controls",
            "_model_module_version": "1.5.0",
            "_model_name": "HBoxModel",
            "_view_count": null,
            "_view_module": "@jupyter-widgets/controls",
            "_view_module_version": "1.5.0",
            "_view_name": "HBoxView",
            "box_style": "",
            "children": [
              "IPY_MODEL_154a135960654ec2ad09e729cb5f23f4",
              "IPY_MODEL_c5f782f895474a9fa930224defe1c658",
              "IPY_MODEL_968f1bddf7724f81a64ab862e15cbf2c"
            ],
            "layout": "IPY_MODEL_b1ab2afb1de24a47b2d96a8555726d65"
          }
        },
        "154a135960654ec2ad09e729cb5f23f4": {
          "model_module": "@jupyter-widgets/controls",
          "model_name": "HTMLModel",
          "model_module_version": "1.5.0",
          "state": {
            "_dom_classes": [],
            "_model_module": "@jupyter-widgets/controls",
            "_model_module_version": "1.5.0",
            "_model_name": "HTMLModel",
            "_view_count": null,
            "_view_module": "@jupyter-widgets/controls",
            "_view_module_version": "1.5.0",
            "_view_name": "HTMLView",
            "description": "",
            "description_tooltip": null,
            "layout": "IPY_MODEL_c85b2ae033544aa0a3ee5555ac43178b",
            "placeholder": "​",
            "style": "IPY_MODEL_15b48d5df1284ef19469f6d64d786d53",
            "value": "100%"
          }
        },
        "c5f782f895474a9fa930224defe1c658": {
          "model_module": "@jupyter-widgets/controls",
          "model_name": "FloatProgressModel",
          "model_module_version": "1.5.0",
          "state": {
            "_dom_classes": [],
            "_model_module": "@jupyter-widgets/controls",
            "_model_module_version": "1.5.0",
            "_model_name": "FloatProgressModel",
            "_view_count": null,
            "_view_module": "@jupyter-widgets/controls",
            "_view_module_version": "1.5.0",
            "_view_name": "ProgressView",
            "bar_style": "",
            "description": "",
            "description_tooltip": null,
            "layout": "IPY_MODEL_ca7cde5be32041bbaf670df6229ef075",
            "max": 100,
            "min": 0,
            "orientation": "horizontal",
            "style": "IPY_MODEL_bf0d342695714417b9c11bd69b4329bc",
            "value": 100
          }
        },
        "968f1bddf7724f81a64ab862e15cbf2c": {
          "model_module": "@jupyter-widgets/controls",
          "model_name": "HTMLModel",
          "model_module_version": "1.5.0",
          "state": {
            "_dom_classes": [],
            "_model_module": "@jupyter-widgets/controls",
            "_model_module_version": "1.5.0",
            "_model_name": "HTMLModel",
            "_view_count": null,
            "_view_module": "@jupyter-widgets/controls",
            "_view_module_version": "1.5.0",
            "_view_name": "HTMLView",
            "description": "",
            "description_tooltip": null,
            "layout": "IPY_MODEL_80211dcb095b41feae9f561c5a133a2b",
            "placeholder": "​",
            "style": "IPY_MODEL_15b8e79a152e43948462472276a87080",
            "value": " 100/100 [00:09&lt;00:00,  6.24it/s]"
          }
        },
        "b1ab2afb1de24a47b2d96a8555726d65": {
          "model_module": "@jupyter-widgets/base",
          "model_name": "LayoutModel",
          "model_module_version": "1.2.0",
          "state": {
            "_model_module": "@jupyter-widgets/base",
            "_model_module_version": "1.2.0",
            "_model_name": "LayoutModel",
            "_view_count": null,
            "_view_module": "@jupyter-widgets/base",
            "_view_module_version": "1.2.0",
            "_view_name": "LayoutView",
            "align_content": null,
            "align_items": null,
            "align_self": null,
            "border": null,
            "bottom": null,
            "display": null,
            "flex": null,
            "flex_flow": null,
            "grid_area": null,
            "grid_auto_columns": null,
            "grid_auto_flow": null,
            "grid_auto_rows": null,
            "grid_column": null,
            "grid_gap": null,
            "grid_row": null,
            "grid_template_areas": null,
            "grid_template_columns": null,
            "grid_template_rows": null,
            "height": null,
            "justify_content": null,
            "justify_items": null,
            "left": null,
            "margin": null,
            "max_height": null,
            "max_width": null,
            "min_height": null,
            "min_width": null,
            "object_fit": null,
            "object_position": null,
            "order": null,
            "overflow": null,
            "overflow_x": null,
            "overflow_y": null,
            "padding": null,
            "right": null,
            "top": null,
            "visibility": "hidden",
            "width": null
          }
        },
        "c85b2ae033544aa0a3ee5555ac43178b": {
          "model_module": "@jupyter-widgets/base",
          "model_name": "LayoutModel",
          "model_module_version": "1.2.0",
          "state": {
            "_model_module": "@jupyter-widgets/base",
            "_model_module_version": "1.2.0",
            "_model_name": "LayoutModel",
            "_view_count": null,
            "_view_module": "@jupyter-widgets/base",
            "_view_module_version": "1.2.0",
            "_view_name": "LayoutView",
            "align_content": null,
            "align_items": null,
            "align_self": null,
            "border": null,
            "bottom": null,
            "display": null,
            "flex": null,
            "flex_flow": null,
            "grid_area": null,
            "grid_auto_columns": null,
            "grid_auto_flow": null,
            "grid_auto_rows": null,
            "grid_column": null,
            "grid_gap": null,
            "grid_row": null,
            "grid_template_areas": null,
            "grid_template_columns": null,
            "grid_template_rows": null,
            "height": null,
            "justify_content": null,
            "justify_items": null,
            "left": null,
            "margin": null,
            "max_height": null,
            "max_width": null,
            "min_height": null,
            "min_width": null,
            "object_fit": null,
            "object_position": null,
            "order": null,
            "overflow": null,
            "overflow_x": null,
            "overflow_y": null,
            "padding": null,
            "right": null,
            "top": null,
            "visibility": null,
            "width": null
          }
        },
        "15b48d5df1284ef19469f6d64d786d53": {
          "model_module": "@jupyter-widgets/controls",
          "model_name": "DescriptionStyleModel",
          "model_module_version": "1.5.0",
          "state": {
            "_model_module": "@jupyter-widgets/controls",
            "_model_module_version": "1.5.0",
            "_model_name": "DescriptionStyleModel",
            "_view_count": null,
            "_view_module": "@jupyter-widgets/base",
            "_view_module_version": "1.2.0",
            "_view_name": "StyleView",
            "description_width": ""
          }
        },
        "ca7cde5be32041bbaf670df6229ef075": {
          "model_module": "@jupyter-widgets/base",
          "model_name": "LayoutModel",
          "model_module_version": "1.2.0",
          "state": {
            "_model_module": "@jupyter-widgets/base",
            "_model_module_version": "1.2.0",
            "_model_name": "LayoutModel",
            "_view_count": null,
            "_view_module": "@jupyter-widgets/base",
            "_view_module_version": "1.2.0",
            "_view_name": "LayoutView",
            "align_content": null,
            "align_items": null,
            "align_self": null,
            "border": null,
            "bottom": null,
            "display": null,
            "flex": null,
            "flex_flow": null,
            "grid_area": null,
            "grid_auto_columns": null,
            "grid_auto_flow": null,
            "grid_auto_rows": null,
            "grid_column": null,
            "grid_gap": null,
            "grid_row": null,
            "grid_template_areas": null,
            "grid_template_columns": null,
            "grid_template_rows": null,
            "height": null,
            "justify_content": null,
            "justify_items": null,
            "left": null,
            "margin": null,
            "max_height": null,
            "max_width": null,
            "min_height": null,
            "min_width": null,
            "object_fit": null,
            "object_position": null,
            "order": null,
            "overflow": null,
            "overflow_x": null,
            "overflow_y": null,
            "padding": null,
            "right": null,
            "top": null,
            "visibility": null,
            "width": null
          }
        },
        "bf0d342695714417b9c11bd69b4329bc": {
          "model_module": "@jupyter-widgets/controls",
          "model_name": "ProgressStyleModel",
          "model_module_version": "1.5.0",
          "state": {
            "_model_module": "@jupyter-widgets/controls",
            "_model_module_version": "1.5.0",
            "_model_name": "ProgressStyleModel",
            "_view_count": null,
            "_view_module": "@jupyter-widgets/base",
            "_view_module_version": "1.2.0",
            "_view_name": "StyleView",
            "bar_color": null,
            "description_width": ""
          }
        },
        "80211dcb095b41feae9f561c5a133a2b": {
          "model_module": "@jupyter-widgets/base",
          "model_name": "LayoutModel",
          "model_module_version": "1.2.0",
          "state": {
            "_model_module": "@jupyter-widgets/base",
            "_model_module_version": "1.2.0",
            "_model_name": "LayoutModel",
            "_view_count": null,
            "_view_module": "@jupyter-widgets/base",
            "_view_module_version": "1.2.0",
            "_view_name": "LayoutView",
            "align_content": null,
            "align_items": null,
            "align_self": null,
            "border": null,
            "bottom": null,
            "display": null,
            "flex": null,
            "flex_flow": null,
            "grid_area": null,
            "grid_auto_columns": null,
            "grid_auto_flow": null,
            "grid_auto_rows": null,
            "grid_column": null,
            "grid_gap": null,
            "grid_row": null,
            "grid_template_areas": null,
            "grid_template_columns": null,
            "grid_template_rows": null,
            "height": null,
            "justify_content": null,
            "justify_items": null,
            "left": null,
            "margin": null,
            "max_height": null,
            "max_width": null,
            "min_height": null,
            "min_width": null,
            "object_fit": null,
            "object_position": null,
            "order": null,
            "overflow": null,
            "overflow_x": null,
            "overflow_y": null,
            "padding": null,
            "right": null,
            "top": null,
            "visibility": null,
            "width": null
          }
        },
        "15b8e79a152e43948462472276a87080": {
          "model_module": "@jupyter-widgets/controls",
          "model_name": "DescriptionStyleModel",
          "model_module_version": "1.5.0",
          "state": {
            "_model_module": "@jupyter-widgets/controls",
            "_model_module_version": "1.5.0",
            "_model_name": "DescriptionStyleModel",
            "_view_count": null,
            "_view_module": "@jupyter-widgets/base",
            "_view_module_version": "1.2.0",
            "_view_name": "StyleView",
            "description_width": ""
          }
        },
        "ab4564c3e37a4234a4a496171ae4a368": {
          "model_module": "@jupyter-widgets/controls",
          "model_name": "HBoxModel",
          "model_module_version": "1.5.0",
          "state": {
            "_dom_classes": [],
            "_model_module": "@jupyter-widgets/controls",
            "_model_module_version": "1.5.0",
            "_model_name": "HBoxModel",
            "_view_count": null,
            "_view_module": "@jupyter-widgets/controls",
            "_view_module_version": "1.5.0",
            "_view_name": "HBoxView",
            "box_style": "",
            "children": [
              "IPY_MODEL_a50ad4db887d4d3f8cf843f4f12fe31f",
              "IPY_MODEL_c72e19316327426e9f51f1053500bf99",
              "IPY_MODEL_301d9b418b1e435bbcb9ec7b125e3266"
            ],
            "layout": "IPY_MODEL_dc2a3db7d34c4d1ea0b6831c847b759a"
          }
        },
        "a50ad4db887d4d3f8cf843f4f12fe31f": {
          "model_module": "@jupyter-widgets/controls",
          "model_name": "HTMLModel",
          "model_module_version": "1.5.0",
          "state": {
            "_dom_classes": [],
            "_model_module": "@jupyter-widgets/controls",
            "_model_module_version": "1.5.0",
            "_model_name": "HTMLModel",
            "_view_count": null,
            "_view_module": "@jupyter-widgets/controls",
            "_view_module_version": "1.5.0",
            "_view_name": "HTMLView",
            "description": "",
            "description_tooltip": null,
            "layout": "IPY_MODEL_77e678e62c644fd7a73886b15163e378",
            "placeholder": "​",
            "style": "IPY_MODEL_438dd609c1f54e75b76619770d325154",
            "value": "100%"
          }
        },
        "c72e19316327426e9f51f1053500bf99": {
          "model_module": "@jupyter-widgets/controls",
          "model_name": "FloatProgressModel",
          "model_module_version": "1.5.0",
          "state": {
            "_dom_classes": [],
            "_model_module": "@jupyter-widgets/controls",
            "_model_module_version": "1.5.0",
            "_model_name": "FloatProgressModel",
            "_view_count": null,
            "_view_module": "@jupyter-widgets/controls",
            "_view_module_version": "1.5.0",
            "_view_name": "ProgressView",
            "bar_style": "",
            "description": "",
            "description_tooltip": null,
            "layout": "IPY_MODEL_70dac3ed79524d3c99a107b9e5c2b7b4",
            "max": 100,
            "min": 0,
            "orientation": "horizontal",
            "style": "IPY_MODEL_fe621793ad92440d8ef9ce9db1ea7877",
            "value": 100
          }
        },
        "301d9b418b1e435bbcb9ec7b125e3266": {
          "model_module": "@jupyter-widgets/controls",
          "model_name": "HTMLModel",
          "model_module_version": "1.5.0",
          "state": {
            "_dom_classes": [],
            "_model_module": "@jupyter-widgets/controls",
            "_model_module_version": "1.5.0",
            "_model_name": "HTMLModel",
            "_view_count": null,
            "_view_module": "@jupyter-widgets/controls",
            "_view_module_version": "1.5.0",
            "_view_name": "HTMLView",
            "description": "",
            "description_tooltip": null,
            "layout": "IPY_MODEL_a662ae148be94b89a8a6c6b4ef8c0b5f",
            "placeholder": "​",
            "style": "IPY_MODEL_dcb66e13a5c74879b41750d56deae512",
            "value": " 100/100 [00:07&lt;00:00,  6.77it/s]"
          }
        },
        "dc2a3db7d34c4d1ea0b6831c847b759a": {
          "model_module": "@jupyter-widgets/base",
          "model_name": "LayoutModel",
          "model_module_version": "1.2.0",
          "state": {
            "_model_module": "@jupyter-widgets/base",
            "_model_module_version": "1.2.0",
            "_model_name": "LayoutModel",
            "_view_count": null,
            "_view_module": "@jupyter-widgets/base",
            "_view_module_version": "1.2.0",
            "_view_name": "LayoutView",
            "align_content": null,
            "align_items": null,
            "align_self": null,
            "border": null,
            "bottom": null,
            "display": null,
            "flex": null,
            "flex_flow": null,
            "grid_area": null,
            "grid_auto_columns": null,
            "grid_auto_flow": null,
            "grid_auto_rows": null,
            "grid_column": null,
            "grid_gap": null,
            "grid_row": null,
            "grid_template_areas": null,
            "grid_template_columns": null,
            "grid_template_rows": null,
            "height": null,
            "justify_content": null,
            "justify_items": null,
            "left": null,
            "margin": null,
            "max_height": null,
            "max_width": null,
            "min_height": null,
            "min_width": null,
            "object_fit": null,
            "object_position": null,
            "order": null,
            "overflow": null,
            "overflow_x": null,
            "overflow_y": null,
            "padding": null,
            "right": null,
            "top": null,
            "visibility": "hidden",
            "width": null
          }
        },
        "77e678e62c644fd7a73886b15163e378": {
          "model_module": "@jupyter-widgets/base",
          "model_name": "LayoutModel",
          "model_module_version": "1.2.0",
          "state": {
            "_model_module": "@jupyter-widgets/base",
            "_model_module_version": "1.2.0",
            "_model_name": "LayoutModel",
            "_view_count": null,
            "_view_module": "@jupyter-widgets/base",
            "_view_module_version": "1.2.0",
            "_view_name": "LayoutView",
            "align_content": null,
            "align_items": null,
            "align_self": null,
            "border": null,
            "bottom": null,
            "display": null,
            "flex": null,
            "flex_flow": null,
            "grid_area": null,
            "grid_auto_columns": null,
            "grid_auto_flow": null,
            "grid_auto_rows": null,
            "grid_column": null,
            "grid_gap": null,
            "grid_row": null,
            "grid_template_areas": null,
            "grid_template_columns": null,
            "grid_template_rows": null,
            "height": null,
            "justify_content": null,
            "justify_items": null,
            "left": null,
            "margin": null,
            "max_height": null,
            "max_width": null,
            "min_height": null,
            "min_width": null,
            "object_fit": null,
            "object_position": null,
            "order": null,
            "overflow": null,
            "overflow_x": null,
            "overflow_y": null,
            "padding": null,
            "right": null,
            "top": null,
            "visibility": null,
            "width": null
          }
        },
        "438dd609c1f54e75b76619770d325154": {
          "model_module": "@jupyter-widgets/controls",
          "model_name": "DescriptionStyleModel",
          "model_module_version": "1.5.0",
          "state": {
            "_model_module": "@jupyter-widgets/controls",
            "_model_module_version": "1.5.0",
            "_model_name": "DescriptionStyleModel",
            "_view_count": null,
            "_view_module": "@jupyter-widgets/base",
            "_view_module_version": "1.2.0",
            "_view_name": "StyleView",
            "description_width": ""
          }
        },
        "70dac3ed79524d3c99a107b9e5c2b7b4": {
          "model_module": "@jupyter-widgets/base",
          "model_name": "LayoutModel",
          "model_module_version": "1.2.0",
          "state": {
            "_model_module": "@jupyter-widgets/base",
            "_model_module_version": "1.2.0",
            "_model_name": "LayoutModel",
            "_view_count": null,
            "_view_module": "@jupyter-widgets/base",
            "_view_module_version": "1.2.0",
            "_view_name": "LayoutView",
            "align_content": null,
            "align_items": null,
            "align_self": null,
            "border": null,
            "bottom": null,
            "display": null,
            "flex": null,
            "flex_flow": null,
            "grid_area": null,
            "grid_auto_columns": null,
            "grid_auto_flow": null,
            "grid_auto_rows": null,
            "grid_column": null,
            "grid_gap": null,
            "grid_row": null,
            "grid_template_areas": null,
            "grid_template_columns": null,
            "grid_template_rows": null,
            "height": null,
            "justify_content": null,
            "justify_items": null,
            "left": null,
            "margin": null,
            "max_height": null,
            "max_width": null,
            "min_height": null,
            "min_width": null,
            "object_fit": null,
            "object_position": null,
            "order": null,
            "overflow": null,
            "overflow_x": null,
            "overflow_y": null,
            "padding": null,
            "right": null,
            "top": null,
            "visibility": null,
            "width": null
          }
        },
        "fe621793ad92440d8ef9ce9db1ea7877": {
          "model_module": "@jupyter-widgets/controls",
          "model_name": "ProgressStyleModel",
          "model_module_version": "1.5.0",
          "state": {
            "_model_module": "@jupyter-widgets/controls",
            "_model_module_version": "1.5.0",
            "_model_name": "ProgressStyleModel",
            "_view_count": null,
            "_view_module": "@jupyter-widgets/base",
            "_view_module_version": "1.2.0",
            "_view_name": "StyleView",
            "bar_color": null,
            "description_width": ""
          }
        },
        "a662ae148be94b89a8a6c6b4ef8c0b5f": {
          "model_module": "@jupyter-widgets/base",
          "model_name": "LayoutModel",
          "model_module_version": "1.2.0",
          "state": {
            "_model_module": "@jupyter-widgets/base",
            "_model_module_version": "1.2.0",
            "_model_name": "LayoutModel",
            "_view_count": null,
            "_view_module": "@jupyter-widgets/base",
            "_view_module_version": "1.2.0",
            "_view_name": "LayoutView",
            "align_content": null,
            "align_items": null,
            "align_self": null,
            "border": null,
            "bottom": null,
            "display": null,
            "flex": null,
            "flex_flow": null,
            "grid_area": null,
            "grid_auto_columns": null,
            "grid_auto_flow": null,
            "grid_auto_rows": null,
            "grid_column": null,
            "grid_gap": null,
            "grid_row": null,
            "grid_template_areas": null,
            "grid_template_columns": null,
            "grid_template_rows": null,
            "height": null,
            "justify_content": null,
            "justify_items": null,
            "left": null,
            "margin": null,
            "max_height": null,
            "max_width": null,
            "min_height": null,
            "min_width": null,
            "object_fit": null,
            "object_position": null,
            "order": null,
            "overflow": null,
            "overflow_x": null,
            "overflow_y": null,
            "padding": null,
            "right": null,
            "top": null,
            "visibility": null,
            "width": null
          }
        },
        "dcb66e13a5c74879b41750d56deae512": {
          "model_module": "@jupyter-widgets/controls",
          "model_name": "DescriptionStyleModel",
          "model_module_version": "1.5.0",
          "state": {
            "_model_module": "@jupyter-widgets/controls",
            "_model_module_version": "1.5.0",
            "_model_name": "DescriptionStyleModel",
            "_view_count": null,
            "_view_module": "@jupyter-widgets/base",
            "_view_module_version": "1.2.0",
            "_view_name": "StyleView",
            "description_width": ""
          }
        },
        "a47c05d0c9434894976ce7bb4549d620": {
          "model_module": "@jupyter-widgets/controls",
          "model_name": "HBoxModel",
          "model_module_version": "1.5.0",
          "state": {
            "_dom_classes": [],
            "_model_module": "@jupyter-widgets/controls",
            "_model_module_version": "1.5.0",
            "_model_name": "HBoxModel",
            "_view_count": null,
            "_view_module": "@jupyter-widgets/controls",
            "_view_module_version": "1.5.0",
            "_view_name": "HBoxView",
            "box_style": "",
            "children": [
              "IPY_MODEL_d674ab1b57fd45d5a1044503c84bcefd",
              "IPY_MODEL_871e49ecbf35420ea8f6db1fbbb5edac",
              "IPY_MODEL_f6a99707ef874b54bdd4921221a39c6e"
            ],
            "layout": "IPY_MODEL_59cce6c9d2e44ee0ab480bada7407096"
          }
        },
        "d674ab1b57fd45d5a1044503c84bcefd": {
          "model_module": "@jupyter-widgets/controls",
          "model_name": "HTMLModel",
          "model_module_version": "1.5.0",
          "state": {
            "_dom_classes": [],
            "_model_module": "@jupyter-widgets/controls",
            "_model_module_version": "1.5.0",
            "_model_name": "HTMLModel",
            "_view_count": null,
            "_view_module": "@jupyter-widgets/controls",
            "_view_module_version": "1.5.0",
            "_view_name": "HTMLView",
            "description": "",
            "description_tooltip": null,
            "layout": "IPY_MODEL_e451d0533c114045a9d07209752995a1",
            "placeholder": "​",
            "style": "IPY_MODEL_556b05a4d5664568bb7d5382dd4663ba",
            "value": "100%"
          }
        },
        "871e49ecbf35420ea8f6db1fbbb5edac": {
          "model_module": "@jupyter-widgets/controls",
          "model_name": "FloatProgressModel",
          "model_module_version": "1.5.0",
          "state": {
            "_dom_classes": [],
            "_model_module": "@jupyter-widgets/controls",
            "_model_module_version": "1.5.0",
            "_model_name": "FloatProgressModel",
            "_view_count": null,
            "_view_module": "@jupyter-widgets/controls",
            "_view_module_version": "1.5.0",
            "_view_name": "ProgressView",
            "bar_style": "success",
            "description": "",
            "description_tooltip": null,
            "layout": "IPY_MODEL_d2466e76d44f4afe82e3883253a91141",
            "max": 5,
            "min": 0,
            "orientation": "horizontal",
            "style": "IPY_MODEL_65f14402de194d7cbd6f0c4751125f94",
            "value": 5
          }
        },
        "f6a99707ef874b54bdd4921221a39c6e": {
          "model_module": "@jupyter-widgets/controls",
          "model_name": "HTMLModel",
          "model_module_version": "1.5.0",
          "state": {
            "_dom_classes": [],
            "_model_module": "@jupyter-widgets/controls",
            "_model_module_version": "1.5.0",
            "_model_name": "HTMLModel",
            "_view_count": null,
            "_view_module": "@jupyter-widgets/controls",
            "_view_module_version": "1.5.0",
            "_view_name": "HTMLView",
            "description": "",
            "description_tooltip": null,
            "layout": "IPY_MODEL_18303119e5c648ad92c56effcf36f741",
            "placeholder": "​",
            "style": "IPY_MODEL_a4990d724b554b8089fd1072e1ea273b",
            "value": " 5/5 [00:35&lt;00:00,  4.83s/it]"
          }
        },
        "59cce6c9d2e44ee0ab480bada7407096": {
          "model_module": "@jupyter-widgets/base",
          "model_name": "LayoutModel",
          "model_module_version": "1.2.0",
          "state": {
            "_model_module": "@jupyter-widgets/base",
            "_model_module_version": "1.2.0",
            "_model_name": "LayoutModel",
            "_view_count": null,
            "_view_module": "@jupyter-widgets/base",
            "_view_module_version": "1.2.0",
            "_view_name": "LayoutView",
            "align_content": null,
            "align_items": null,
            "align_self": null,
            "border": null,
            "bottom": null,
            "display": null,
            "flex": null,
            "flex_flow": null,
            "grid_area": null,
            "grid_auto_columns": null,
            "grid_auto_flow": null,
            "grid_auto_rows": null,
            "grid_column": null,
            "grid_gap": null,
            "grid_row": null,
            "grid_template_areas": null,
            "grid_template_columns": null,
            "grid_template_rows": null,
            "height": null,
            "justify_content": null,
            "justify_items": null,
            "left": null,
            "margin": null,
            "max_height": null,
            "max_width": null,
            "min_height": null,
            "min_width": null,
            "object_fit": null,
            "object_position": null,
            "order": null,
            "overflow": null,
            "overflow_x": null,
            "overflow_y": null,
            "padding": null,
            "right": null,
            "top": null,
            "visibility": null,
            "width": null
          }
        },
        "e451d0533c114045a9d07209752995a1": {
          "model_module": "@jupyter-widgets/base",
          "model_name": "LayoutModel",
          "model_module_version": "1.2.0",
          "state": {
            "_model_module": "@jupyter-widgets/base",
            "_model_module_version": "1.2.0",
            "_model_name": "LayoutModel",
            "_view_count": null,
            "_view_module": "@jupyter-widgets/base",
            "_view_module_version": "1.2.0",
            "_view_name": "LayoutView",
            "align_content": null,
            "align_items": null,
            "align_self": null,
            "border": null,
            "bottom": null,
            "display": null,
            "flex": null,
            "flex_flow": null,
            "grid_area": null,
            "grid_auto_columns": null,
            "grid_auto_flow": null,
            "grid_auto_rows": null,
            "grid_column": null,
            "grid_gap": null,
            "grid_row": null,
            "grid_template_areas": null,
            "grid_template_columns": null,
            "grid_template_rows": null,
            "height": null,
            "justify_content": null,
            "justify_items": null,
            "left": null,
            "margin": null,
            "max_height": null,
            "max_width": null,
            "min_height": null,
            "min_width": null,
            "object_fit": null,
            "object_position": null,
            "order": null,
            "overflow": null,
            "overflow_x": null,
            "overflow_y": null,
            "padding": null,
            "right": null,
            "top": null,
            "visibility": null,
            "width": null
          }
        },
        "556b05a4d5664568bb7d5382dd4663ba": {
          "model_module": "@jupyter-widgets/controls",
          "model_name": "DescriptionStyleModel",
          "model_module_version": "1.5.0",
          "state": {
            "_model_module": "@jupyter-widgets/controls",
            "_model_module_version": "1.5.0",
            "_model_name": "DescriptionStyleModel",
            "_view_count": null,
            "_view_module": "@jupyter-widgets/base",
            "_view_module_version": "1.2.0",
            "_view_name": "StyleView",
            "description_width": ""
          }
        },
        "d2466e76d44f4afe82e3883253a91141": {
          "model_module": "@jupyter-widgets/base",
          "model_name": "LayoutModel",
          "model_module_version": "1.2.0",
          "state": {
            "_model_module": "@jupyter-widgets/base",
            "_model_module_version": "1.2.0",
            "_model_name": "LayoutModel",
            "_view_count": null,
            "_view_module": "@jupyter-widgets/base",
            "_view_module_version": "1.2.0",
            "_view_name": "LayoutView",
            "align_content": null,
            "align_items": null,
            "align_self": null,
            "border": null,
            "bottom": null,
            "display": null,
            "flex": null,
            "flex_flow": null,
            "grid_area": null,
            "grid_auto_columns": null,
            "grid_auto_flow": null,
            "grid_auto_rows": null,
            "grid_column": null,
            "grid_gap": null,
            "grid_row": null,
            "grid_template_areas": null,
            "grid_template_columns": null,
            "grid_template_rows": null,
            "height": null,
            "justify_content": null,
            "justify_items": null,
            "left": null,
            "margin": null,
            "max_height": null,
            "max_width": null,
            "min_height": null,
            "min_width": null,
            "object_fit": null,
            "object_position": null,
            "order": null,
            "overflow": null,
            "overflow_x": null,
            "overflow_y": null,
            "padding": null,
            "right": null,
            "top": null,
            "visibility": null,
            "width": null
          }
        },
        "65f14402de194d7cbd6f0c4751125f94": {
          "model_module": "@jupyter-widgets/controls",
          "model_name": "ProgressStyleModel",
          "model_module_version": "1.5.0",
          "state": {
            "_model_module": "@jupyter-widgets/controls",
            "_model_module_version": "1.5.0",
            "_model_name": "ProgressStyleModel",
            "_view_count": null,
            "_view_module": "@jupyter-widgets/base",
            "_view_module_version": "1.2.0",
            "_view_name": "StyleView",
            "bar_color": null,
            "description_width": ""
          }
        },
        "18303119e5c648ad92c56effcf36f741": {
          "model_module": "@jupyter-widgets/base",
          "model_name": "LayoutModel",
          "model_module_version": "1.2.0",
          "state": {
            "_model_module": "@jupyter-widgets/base",
            "_model_module_version": "1.2.0",
            "_model_name": "LayoutModel",
            "_view_count": null,
            "_view_module": "@jupyter-widgets/base",
            "_view_module_version": "1.2.0",
            "_view_name": "LayoutView",
            "align_content": null,
            "align_items": null,
            "align_self": null,
            "border": null,
            "bottom": null,
            "display": null,
            "flex": null,
            "flex_flow": null,
            "grid_area": null,
            "grid_auto_columns": null,
            "grid_auto_flow": null,
            "grid_auto_rows": null,
            "grid_column": null,
            "grid_gap": null,
            "grid_row": null,
            "grid_template_areas": null,
            "grid_template_columns": null,
            "grid_template_rows": null,
            "height": null,
            "justify_content": null,
            "justify_items": null,
            "left": null,
            "margin": null,
            "max_height": null,
            "max_width": null,
            "min_height": null,
            "min_width": null,
            "object_fit": null,
            "object_position": null,
            "order": null,
            "overflow": null,
            "overflow_x": null,
            "overflow_y": null,
            "padding": null,
            "right": null,
            "top": null,
            "visibility": null,
            "width": null
          }
        },
        "a4990d724b554b8089fd1072e1ea273b": {
          "model_module": "@jupyter-widgets/controls",
          "model_name": "DescriptionStyleModel",
          "model_module_version": "1.5.0",
          "state": {
            "_model_module": "@jupyter-widgets/controls",
            "_model_module_version": "1.5.0",
            "_model_name": "DescriptionStyleModel",
            "_view_count": null,
            "_view_module": "@jupyter-widgets/base",
            "_view_module_version": "1.2.0",
            "_view_name": "StyleView",
            "description_width": ""
          }
        },
        "59c29ea1fb4b4812889eece901510605": {
          "model_module": "catboost-widget",
          "model_name": "CatboostWidgetModel",
          "model_module_version": "^1.0.0",
          "state": {
            "_dom_classes": [],
            "_model_module": "catboost-widget",
            "_model_module_version": "^1.0.0",
            "_model_name": "CatboostWidgetModel",
            "_view_count": null,
            "_view_module": "catboost-widget",
            "_view_module_version": "^1.0.0",
            "_view_name": "CatboostWidgetView",
            "data": {
              "catboost_info": {
                "path": "catboost_info",
                "name": "catboost_info",
                "content": {
                  "passed_iterations": 19,
                  "total_iterations": 20,
                  "data": {
                    "iterations": [
                      {
                        "parameters": [
                          {
                            "l2_leaf_reg": 0
                          }
                        ],
                        "learn": [
                          0.2790243911
                        ],
                        "iteration": 0,
                        "passed_time": 8.953095946,
                        "remaining_time": 170.108823,
                        "test": [
                          0.9209583417,
                          0.2956516932
                        ]
                      },
                      {
                        "parameters": [
                          {
                            "l2_leaf_reg": 0.05263157895
                          }
                        ],
                        "learn": [
                          0.2846261072
                        ],
                        "iteration": 1,
                        "passed_time": 17.98208304,
                        "remaining_time": 161.8387474,
                        "test": [
                          0.9199247431,
                          0.2970900465
                        ]
                      },
                      {
                        "parameters": [
                          {
                            "l2_leaf_reg": 0.1052631579
                          }
                        ],
                        "learn": [
                          0.2855735502
                        ],
                        "iteration": 2,
                        "passed_time": 26.78987329,
                        "remaining_time": 151.809282,
                        "test": [
                          0.9196754106,
                          0.2975605834
                        ]
                      },
                      {
                        "parameters": [
                          {
                            "l2_leaf_reg": 0.1578947368
                          }
                        ],
                        "learn": [
                          0.2859282706
                        ],
                        "iteration": 3,
                        "passed_time": 35.62369462,
                        "remaining_time": 142.4947785,
                        "test": [
                          0.9198087067,
                          0.2973439866
                        ]
                      },
                      {
                        "parameters": [
                          {
                            "l2_leaf_reg": 0.2105263158
                          }
                        ],
                        "learn": [
                          0.2862543572
                        ],
                        "iteration": 4,
                        "passed_time": 44.7305487,
                        "remaining_time": 134.1916461,
                        "test": [
                          0.9195920277,
                          0.2976045251
                        ]
                      },
                      {
                        "parameters": [
                          {
                            "l2_leaf_reg": 0.2631578947
                          }
                        ],
                        "learn": [
                          0.2857819778
                        ],
                        "iteration": 5,
                        "passed_time": 57.7344972,
                        "remaining_time": 134.7138268,
                        "test": [
                          0.9200501091,
                          0.2970211839
                        ]
                      },
                      {
                        "parameters": [
                          {
                            "l2_leaf_reg": 0.3157894737
                          }
                        ],
                        "learn": [
                          0.2862760813
                        ],
                        "iteration": 6,
                        "passed_time": 66.78238968,
                        "remaining_time": 124.024438,
                        "test": [
                          0.9200811298,
                          0.2967269446
                        ]
                      },
                      {
                        "parameters": [
                          {
                            "l2_leaf_reg": 0.3684210526
                          }
                        ],
                        "learn": [
                          0.2865302109
                        ],
                        "iteration": 7,
                        "passed_time": 75.7452691,
                        "remaining_time": 113.6179037,
                        "test": [
                          0.9196175674,
                          0.2972066494
                        ]
                      },
                      {
                        "parameters": [
                          {
                            "l2_leaf_reg": 0.4210526316
                          }
                        ],
                        "learn": [
                          0.2869707516
                        ],
                        "iteration": 8,
                        "passed_time": 84.76033305,
                        "remaining_time": 103.5959626,
                        "test": [
                          0.9191938888,
                          0.2982935607
                        ]
                      },
                      {
                        "parameters": [
                          {
                            "l2_leaf_reg": 0.4736842105
                          }
                        ],
                        "learn": [
                          0.286832735
                        ],
                        "iteration": 9,
                        "passed_time": 93.65576034,
                        "remaining_time": 93.65576034,
                        "test": [
                          0.9200737828,
                          0.2971730841
                        ]
                      },
                      {
                        "parameters": [
                          {
                            "l2_leaf_reg": 0.5263157895
                          }
                        ],
                        "learn": [
                          0.2868239513
                        ],
                        "iteration": 10,
                        "passed_time": 102.64166,
                        "remaining_time": 83.97954004,
                        "test": [
                          0.9190363358,
                          0.2981967634
                        ]
                      },
                      {
                        "parameters": [
                          {
                            "l2_leaf_reg": 0.5789473684
                          }
                        ],
                        "learn": [
                          0.286943473
                        ],
                        "iteration": 11,
                        "passed_time": 111.5836152,
                        "remaining_time": 74.38907679,
                        "test": [
                          0.9196817081,
                          0.2974484498
                        ]
                      },
                      {
                        "parameters": [
                          {
                            "l2_leaf_reg": 0.6315789474
                          }
                        ],
                        "learn": [
                          0.2884765856
                        ],
                        "iteration": 12,
                        "passed_time": 120.4366549,
                        "remaining_time": 64.8505065,
                        "test": [
                          0.9184000599,
                          0.2990561583
                        ]
                      },
                      {
                        "parameters": [
                          {
                            "l2_leaf_reg": 0.6842105263
                          }
                        ],
                        "learn": [
                          0.2876020836
                        ],
                        "iteration": 13,
                        "passed_time": 129.4403121,
                        "remaining_time": 55.47441948,
                        "test": [
                          0.919517158,
                          0.2979001505
                        ]
                      },
                      {
                        "parameters": [
                          {
                            "l2_leaf_reg": 0.7368421053
                          }
                        ],
                        "learn": [
                          0.2873576671
                        ],
                        "iteration": 14,
                        "passed_time": 138.39032,
                        "remaining_time": 46.13010666,
                        "test": [
                          0.9193578558,
                          0.2978175365
                        ]
                      },
                      {
                        "parameters": [
                          {
                            "l2_leaf_reg": 0.7894736842
                          }
                        ],
                        "learn": [
                          0.2873624193
                        ],
                        "iteration": 15,
                        "passed_time": 147.2788897,
                        "remaining_time": 36.81972242,
                        "test": [
                          0.9193783808,
                          0.2979421129
                        ]
                      },
                      {
                        "parameters": [
                          {
                            "l2_leaf_reg": 0.8421052632
                          }
                        ],
                        "learn": [
                          0.2876465663
                        ],
                        "iteration": 16,
                        "passed_time": 156.3173922,
                        "remaining_time": 27.58542215,
                        "test": [
                          0.9191811772,
                          0.2982867752
                        ]
                      },
                      {
                        "parameters": [
                          {
                            "l2_leaf_reg": 0.8947368421
                          }
                        ],
                        "learn": [
                          0.2882139459
                        ],
                        "iteration": 17,
                        "passed_time": 165.3087882,
                        "remaining_time": 18.36764313,
                        "test": [
                          0.9191026923,
                          0.2982306441
                        ]
                      },
                      {
                        "parameters": [
                          {
                            "l2_leaf_reg": 0.9473684211
                          }
                        ],
                        "learn": [
                          0.2874250982
                        ],
                        "iteration": 18,
                        "passed_time": 174.2346483,
                        "remaining_time": 9.170244649,
                        "test": [
                          0.9190652575,
                          0.2982906085
                        ]
                      },
                      {
                        "parameters": [
                          {
                            "l2_leaf_reg": 1
                          }
                        ],
                        "learn": [
                          0.2880719481
                        ],
                        "iteration": 19,
                        "passed_time": 183.1525353,
                        "remaining_time": 0,
                        "test": [
                          0.919016044,
                          0.2982643719
                        ]
                      }
                    ],
                    "meta": {
                      "test_sets": [
                        "test"
                      ],
                      "test_metrics": [
                        {
                          "best_value": "Max",
                          "name": "AUC"
                        },
                        {
                          "best_value": "Min",
                          "name": "Logloss"
                        }
                      ],
                      "learn_metrics": [
                        {
                          "best_value": "Min",
                          "name": "Logloss"
                        }
                      ],
                      "launch_mode": "Train",
                      "parameters": "parameters",
                      "iteration_count": 20,
                      "learn_sets": [
                        "learn"
                      ],
                      "name": "experiment"
                    }
                  }
                }
              }
            },
            "layout": "IPY_MODEL_373c8f2feeb24f44b98042a28b89b39f"
          }
        }
      }
    }
  },
  "cells": [
    {
      "cell_type": "markdown",
      "metadata": {
        "id": "AReHXW-t5NKJ"
      },
      "source": [
        "# План\n",
        "1. Напоминание: переобучение, регуляризация и кросс-валидация\n",
        "2. Pipeline решения ML задачи\n",
        "3. Подбор гиперпараметров и ансамблирование моделей на примере размеченных данных"
      ]
    },
    {
      "cell_type": "code",
      "source": [
        "from google.colab import drive\n",
        "drive.mount('/content/drive')"
      ],
      "metadata": {
        "id": "oAxJVQtYvn2e",
        "outputId": "9fd0526f-be14-48ee-9e99-292c98878b2d",
        "colab": {
          "base_uri": "https://localhost:8080/"
        }
      },
      "execution_count": null,
      "outputs": [
        {
          "output_type": "stream",
          "name": "stdout",
          "text": [
            "Mounted at /content/drive\n"
          ]
        }
      ]
    },
    {
      "cell_type": "markdown",
      "metadata": {
        "id": "eAH1n3NT5NKQ"
      },
      "source": [
        "# Переобучение и методы борьбы с ним\n",
        "Переобучение --- это одна из главных проблем, с которыми сталкиваются модели машинного обучения. Эффект переобучения состоит в том, что модель, подстраиваясь под обучающую выборку, \"обращает внимание\" на закономерности в выборке, которые не проявляются в общем случае и имеют характер совпадения. \n",
        "\n",
        "Переобучение проявляется тем больше, чем больше степеней свободы имеет модель. \n",
        "### Примеры:\n",
        "* Решающее дерево со слишком большой глубиной может идеально подстроиться под обучающую выборку. Параметры решающего дерева --- это решающие правила во всех вершинах (всего $\\sim 2^n$ решающих правил в дереве глубины $n$).\n",
        "\n",
        "* Алгоритм $k$ ближайших соседей подстраивается под обучаюущую выборку и может рассматриваться как эталонный пример переобучения: любой локальный шум в данных приведёт к ошибке. Параметрами Knn являются **все элементы обучающей выборки**.\n",
        "\n",
        "* Линейный алгоритм, построенный для выборки слишком маленького размера со слишком большим количеством признаков неизбежно переобучится под обучающую выборку.\n",
        "\n",
        "Во всех примерах мы видим, что при слишком большой сложности модели по сравнению с количеством элементов в обучающей выборке переобучение имеет место. Строго говоря, **переобучение есть всегда, когда имеет место принятие решения в условии неполных данных**, то есть всегда в машинном обучении.\n",
        "\n",
        "<img src='https://drive.google.com/uc?id=1wQQ0tMAtZVhbeQgUVdiS7kfmMw7P7NM9'/>\n",
        "\n",
        "Чтобы нивелировать эффект переобучения, нужно поймать момент, в который качество на тестовой выборке начинает увеличиваться с ростом сложности модели. В этот момент обучение стоит останавливать."
      ]
    },
    {
      "cell_type": "markdown",
      "metadata": {
        "id": "WJx6GKji5NKR"
      },
      "source": [
        "## Переобучение многочленов\n",
        "Смоделируем переобучение сколонность к переобучению полиномиальной зависимости с ростом степени многочлена. Сгенерируем искусственные данные из линейной зависимости с шумом и восстановим зависимость с помощью многочленов степени 1, 3, 4, 7."
      ]
    },
    {
      "cell_type": "code",
      "metadata": {
        "ExecuteTime": {
          "end_time": "2020-10-11T10:12:43.455283Z",
          "start_time": "2020-10-11T10:12:31.683412Z"
        },
        "id": "COsHMcV55NKS"
      },
      "source": [
        "import numpy as np\n",
        "from sklearn.model_selection import train_test_split\n",
        "from sklearn.metrics import mean_squared_error\n",
        "import matplotlib.pyplot as plt\n",
        "\n",
        "import seaborn as sns\n",
        "sns.set(font_scale=1.5)\n",
        "\n",
        "import warnings\n",
        "warnings.filterwarnings(\"ignore\")\n",
        "%matplotlib inline"
      ],
      "execution_count": null,
      "outputs": []
    },
    {
      "cell_type": "code",
      "metadata": {
        "ExecuteTime": {
          "end_time": "2020-10-11T10:12:44.188193Z",
          "start_time": "2020-10-11T10:12:43.462178Z"
        },
        "scrolled": false,
        "id": "4jX3tcaA5NKT",
        "outputId": "ad7d47d8-4620-475a-f3f5-2ceb5375aae5",
        "colab": {
          "base_uri": "https://localhost:8080/",
          "height": 388
        }
      },
      "source": [
        "X = np.linspace(-10, 10, 20)\n",
        "\n",
        "y = 2 * X + 3 + np.random.randn(20) * 3\n",
        "\n",
        "X_train, X_test, y_train, y_test = train_test_split(X, y, train_size=0.5, random_state=42)\n",
        "plt.figure(figsize=(10,6))\n",
        "plt.scatter(X_train,y_train, label='Train')\n",
        "plt.scatter(X_test,y_test, label='Test')\n",
        "plt.plot(X, 2 * X + 3, color='red', lw=3, alpha = 0.2)\n",
        "legend_box = plt.legend(framealpha=1).get_frame()\n",
        "legend_box.set_facecolor(\"white\")\n",
        "legend_box.set_edgecolor(\"black\")\n",
        "plt.show()"
      ],
      "execution_count": null,
      "outputs": [
        {
          "output_type": "display_data",
          "data": {
            "text/plain": [
              "<Figure size 720x432 with 1 Axes>"
            ],
            "image/png": "[encoded data removed]"
          },
          "metadata": {
            "needs_background": "light"
          }
        }
      ]
    },
    {
      "cell_type": "code",
      "metadata": {
        "ExecuteTime": {
          "end_time": "2020-10-11T10:12:46.721155Z",
          "start_time": "2020-10-11T10:12:44.196157Z"
        },
        "id": "hMs8x8ey5NKV",
        "outputId": "300db3f1-9999-4101-9dcc-a8b373cb4f1d",
        "colab": {
          "base_uri": "https://localhost:8080/",
          "height": 1000
        }
      },
      "source": [
        "grid = np.linspace(-12, 12, 500)\n",
        "\n",
        "fig, ax = plt.subplots(3, 2, figsize=(18,18))\n",
        "\n",
        "ax = ax.ravel()\n",
        "\n",
        "for i, deg in enumerate([1,3,4,7,9, 20]):\n",
        "    \n",
        "    poly = np.polyfit(X_train, y_train, deg)\n",
        "    ax[i].set_title('Polynomial fit, degree = ' + str(deg))\n",
        "    ax[i].scatter(X_train,y_train, \n",
        "                  label='train mse={:.3f}'.format(mean_squared_error(y_train, np.polyval(poly, X_train))))\n",
        "    ax[i].scatter(X_test,y_test, \n",
        "                  label='test mse={:.3f}'.format(mean_squared_error(y_test, np.polyval(poly, X_test))))\n",
        "    ax[i].set_ylim(-40, 40)\n",
        "    ax[i].plot(grid, np.polyval(poly, grid))\n",
        "    \n",
        "    ax[i].plot(X, 2 * X + 3, color='red', lw=1, alpha = 0.4)\n",
        "    legend_box = ax[i].legend(framealpha=1).get_frame()\n",
        "    legend_box.set_facecolor(\"white\")\n",
        "    legend_box.set_edgecolor(\"black\")\n",
        "fig.show()"
      ],
      "execution_count": null,
      "outputs": [
        {
          "output_type": "display_data",
          "data": {
            "text/plain": [
              "<Figure size 1296x1296 with 6 Axes>"
            ],
            "image/png": "[encoded data removed]"
          },
          "metadata": {
            "needs_background": "light"
          }
        }
      ]
    },
    {
      "cell_type": "markdown",
      "metadata": {
        "id": "Y1m5jGr-5NKW"
      },
      "source": [
        "$$||x-y||, \\text{x, y - векторы в 2-мерном пространстве}$$\n",
        "$$||x - y|| = \\sqrt{(x_1 - y_1)^2 + (x_2-y_2)^2}$$\n",
        "\n",
        "$$||x-y||, \\text{x, y - векторы в n-мерном пространстве}$$\n",
        "$$||x - y|| = \\sqrt{(x_1 - y_1)^2 + ... + (x_n-y_n)^2}$$"
      ]
    },
    {
      "cell_type": "markdown",
      "metadata": {
        "id": "vcsn7-yY5NKX"
      },
      "source": [
        "### Идея 1: регуляризация\n",
        "Суть регуляризации состоит в том, чтобы добавлять к функции потерь слагаемое, ограничивающее рост весов модели. Например, обычная версия линейной регрессии выглядит так:\n",
        "$$\\frac{\\sum\\limits_{i=1}^{\\ell}\\left|\\left|\\langle x^i, w\\rangle - y^i\\right|\\right|^2}{\\ell} \\rightarrow \\min_{w}.$$\n",
        "\n",
        "Регуляризованная версия:\n",
        "$$\\frac{\\sum\\limits_{i=1}^{\\ell}\\left|\\left|\\langle x^i, w\\rangle - y^i\\right|\\right|^2}{\\ell} + \\frac{1}{C}\\left|\\left|w\\right|\\right|^2\\rightarrow \\min_{w}.$$\n",
        "\n",
        "Такая версия линейной регресси называется Ridge-регрессией.  \n",
        "Есть также Lasso-регрессия и ElasticNet.\n",
        "\n",
        "Обычная версия логрегрессии:\n",
        "$$-\\frac{1}{\\ell}\\left( \\sum\\limits_{y^i = 1}\\ln\\sigma(\\langle x, w\\rangle) + \\sum\\limits_{y^i = -1}\\ln(1-\\sigma(\\langle x, w\\rangle))\\right)\\rightarrow \\min_{w}$$\n",
        "\n",
        "Регуляризованная версия:\n",
        "\n",
        "$$-\\frac{1}{\\ell}\\left( \\sum\\limits_{y^i = 1}\\ln\\sigma(\\langle x, w\\rangle) + \\sum\\limits_{y^i = -1}\\ln(1-\\sigma(\\langle x, w\\rangle))\\right) + \\frac{1}{C}||w||^2\\rightarrow \\min_{w}$$"
      ]
    },
    {
      "cell_type": "markdown",
      "metadata": {
        "id": "pYUWBEdA5NKY"
      },
      "source": [
        "### Идея 2: кросс-валидация\n",
        "\n",
        "<img src='https://drive.google.com/uc?id=19TOWCsLwIjNSmcHzu46f6JqY5TEefm9h' width=600/>\n",
        "Картинка говорит сама за себя. Чтобы получить более стабильное предсказание и точно увидеть переобучение, можно использовать кросс-валидацию. Это ещё пригодится дальше в ноутбуке."
      ]
    },
    {
      "cell_type": "markdown",
      "metadata": {
        "ExecuteTime": {
          "end_time": "2020-10-11T10:13:30.105149Z",
          "start_time": "2020-10-11T10:13:30.100123Z"
        },
        "id": "ob7_onBZ5NKZ"
      },
      "source": [
        "# Pipeline решения ML-задачи"
      ]
    },
    {
      "cell_type": "markdown",
      "metadata": {
        "id": "BXRoHCHg5NKa"
      },
      "source": [
        "![lifecycle.png](https://drive.google.com/uc?export=view&id=1ZVVA3knTV7M0sTANYF4kOSMAZWG_BB5j)"
      ]
    },
    {
      "cell_type": "markdown",
      "metadata": {
        "id": "g5fA6PnW5NKa"
      },
      "source": [
        "![pipeline.jpg](https://drive.google.com/uc?export=view&id=1wt86eJI3wDb4SuRKFdtjvqKDaW0UDLvz)"
      ]
    },
    {
      "cell_type": "markdown",
      "metadata": {
        "id": "ptq128pJ5NKb"
      },
      "source": [
        "# Выбор оптимальной модели\n",
        "\n",
        "Теперь мы потренируемся обучению, оценке и валидации моделей, подбору оптимальных гиперпараметров, смешиванию моделей. Вам предлагается решить задачу бинарной классификации, а именно построить алгоритм, определяющий превысит ли средний заработок человека порог $50k."
      ]
    },
    {
      "cell_type": "code",
      "metadata": {
        "ExecuteTime": {
          "end_time": "2020-10-11T11:19:13.272257Z",
          "start_time": "2020-10-11T11:19:13.269311Z"
        },
        "id": "7vuOhNde5NKb"
      },
      "source": [
        "import pandas as pd"
      ],
      "execution_count": null,
      "outputs": []
    },
    {
      "cell_type": "code",
      "metadata": {
        "ExecuteTime": {
          "end_time": "2020-10-11T11:19:20.781390Z",
          "start_time": "2020-10-11T11:19:14.330831Z"
        },
        "id": "7P9mD57g5NKb"
      },
      "source": [
        "df = pd.read_csv('https://archive.ics.uci.edu/ml/machine-learning-databases/adult/adult.data', sep=', ')\n",
        "# Назначаем имена колонок\n",
        "columns = ('age workclass fnlwgt education educ-num marital-status occupation relationship '\n",
        "           'race sex capital-gain capital-loss  hours-per-week native-country salary')\n",
        "\n",
        "numeric_indices = np.array([0, 2, 4, 10, 11, 12])\n",
        "categorical_indices = np.array([1, 3, 5, 6, 7, 8, 9, 13])\n",
        "\n",
        "df.columns = columns.split() #этот метод разделит датасет по колонкам как в массиве columns\n",
        "\n",
        "df = df.replace('?', np.nan)\n",
        "\n",
        "df = df.dropna()\n",
        "\n",
        "df['salary'] = df['salary'].apply((lambda x: x=='>50K')) # Будем предсказывать 1(True), если зарплата больше 50K, 0(False) иначе"
      ],
      "execution_count": null,
      "outputs": []
    },
    {
      "cell_type": "code",
      "metadata": {
        "ExecuteTime": {
          "end_time": "2020-10-11T11:19:20.805357Z",
          "start_time": "2020-10-11T11:19:20.783336Z"
        },
        "id": "TmuL2qOC5NKc",
        "outputId": "029eae98-3281-4a56-bc2c-155a21803b5f",
        "colab": {
          "base_uri": "https://localhost:8080/",
          "height": 206
        }
      },
      "source": [
        "numeric_data = df[df.columns[numeric_indices]]\n",
        "\n",
        "categorial_data = df[df.columns[categorical_indices]]\n",
        "categorial_data.head()"
      ],
      "execution_count": null,
      "outputs": [
        {
          "output_type": "execute_result",
          "data": {
            "text/plain": [
              "          workclass  education      marital-status         occupation  \\\n",
              "0  Self-emp-not-inc  Bachelors  Married-civ-spouse    Exec-managerial   \n",
              "1           Private    HS-grad            Divorced  Handlers-cleaners   \n",
              "2           Private       11th  Married-civ-spouse  Handlers-cleaners   \n",
              "3           Private  Bachelors  Married-civ-spouse     Prof-specialty   \n",
              "4           Private    Masters  Married-civ-spouse    Exec-managerial   \n",
              "\n",
              "    relationship   race     sex native-country  \n",
              "0        Husband  White    Male  United-States  \n",
              "1  Not-in-family  White    Male  United-States  \n",
              "2        Husband  Black    Male  United-States  \n",
              "3           Wife  Black  Female           Cuba  \n",
              "4           Wife  White  Female  United-States  "
            ],
            "text/html": [
              "\n",
              "  <div id=\"df-9ce51a30-3c39-4b3b-8193-dd9d77c5da0e\">\n",
              "    <div class=\"colab-df-container\">\n",
              "      <div>\n",
              "<style scoped>\n",
              "    .dataframe tbody tr th:only-of-type {\n",
              "        vertical-align: middle;\n",
              "    }\n",
              "\n",
              "    .dataframe tbody tr th {\n",
              "        vertical-align: top;\n",
              "    }\n",
              "\n",
              "    .dataframe thead th {\n",
              "        text-align: right;\n",
              "    }\n",
              "</style>\n",
              "<table border=\"1\" class=\"dataframe\">\n",
              "  <thead>\n",
              "    <tr style=\"text-align: right;\">\n",
              "      <th></th>\n",
              "      <th>workclass</th>\n",
              "      <th>education</th>\n",
              "      <th>marital-status</th>\n",
              "      <th>occupation</th>\n",
              "      <th>relationship</th>\n",
              "      <th>race</th>\n",
              "      <th>sex</th>\n",
              "      <th>native-country</th>\n",
              "    </tr>\n",
              "  </thead>\n",
              "  <tbody>\n",
              "    <tr>\n",
              "      <th>0</th>\n",
              "      <td>Self-emp-not-inc</td>\n",
              "      <td>Bachelors</td>\n",
              "      <td>Married-civ-spouse</td>\n",
              "      <td>Exec-managerial</td>\n",
              "      <td>Husband</td>\n",
              "      <td>White</td>\n",
              "      <td>Male</td>\n",
              "      <td>United-States</td>\n",
              "    </tr>\n",
              "    <tr>\n",
              "      <th>1</th>\n",
              "      <td>Private</td>\n",
              "      <td>HS-grad</td>\n",
              "      <td>Divorced</td>\n",
              "      <td>Handlers-cleaners</td>\n",
              "      <td>Not-in-family</td>\n",
              "      <td>White</td>\n",
              "      <td>Male</td>\n",
              "      <td>United-States</td>\n",
              "    </tr>\n",
              "    <tr>\n",
              "      <th>2</th>\n",
              "      <td>Private</td>\n",
              "      <td>11th</td>\n",
              "      <td>Married-civ-spouse</td>\n",
              "      <td>Handlers-cleaners</td>\n",
              "      <td>Husband</td>\n",
              "      <td>Black</td>\n",
              "      <td>Male</td>\n",
              "      <td>United-States</td>\n",
              "    </tr>\n",
              "    <tr>\n",
              "      <th>3</th>\n",
              "      <td>Private</td>\n",
              "      <td>Bachelors</td>\n",
              "      <td>Married-civ-spouse</td>\n",
              "      <td>Prof-specialty</td>\n",
              "      <td>Wife</td>\n",
              "      <td>Black</td>\n",
              "      <td>Female</td>\n",
              "      <td>Cuba</td>\n",
              "    </tr>\n",
              "    <tr>\n",
              "      <th>4</th>\n",
              "      <td>Private</td>\n",
              "      <td>Masters</td>\n",
              "      <td>Married-civ-spouse</td>\n",
              "      <td>Exec-managerial</td>\n",
              "      <td>Wife</td>\n",
              "      <td>White</td>\n",
              "      <td>Female</td>\n",
              "      <td>United-States</td>\n",
              "    </tr>\n",
              "  </tbody>\n",
              "</table>\n",
              "</div>\n",
              "      <button class=\"colab-df-convert\" onclick=\"convertToInteractive('df-9ce51a30-3c39-4b3b-8193-dd9d77c5da0e')\"\n",
              "              title=\"Convert this dataframe to an interactive table.\"\n",
              "              style=\"display:none;\">\n",
              "        \n",
              "  <svg xmlns=\"http://www.w3.org/2000/svg\" height=\"24px\"viewBox=\"0 0 24 24\"\n",
              "       width=\"24px\">\n",
              "    <path d=\"M0 0h24v24H0V0z\" fill=\"none\"/>\n",
              "    <path d=\"M18.56 5.44l.94 2.06.94-2.06 2.06-.94-2.06-.94-.94-2.06-.94 2.06-2.06.94zm-11 1L8.5 8.5l.94-2.06 2.06-.94-2.06-.94L8.5 2.5l-.94 2.06-2.06.94zm10 10l.94 2.06.94-2.06 2.06-.94-2.06-.94-.94-2.06-.94 2.06-2.06.94z\"/><path d=\"M17.41 7.96l-1.37-1.37c-.4-.4-.92-.59-1.43-.59-.52 0-1.04.2-1.43.59L10.3 9.45l-7.72 7.72c-.78.78-.78 2.05 0 2.83L4 21.41c.39.39.9.59 1.41.59.51 0 1.02-.2 1.41-.59l7.78-7.78 2.81-2.81c.8-.78.8-2.07 0-2.86zM5.41 20L4 18.59l7.72-7.72 1.47 1.35L5.41 20z\"/>\n",
              "  </svg>\n",
              "      </button>\n",
              "      \n",
              "  <style>\n",
              "    .colab-df-container {\n",
              "      display:flex;\n",
              "      flex-wrap:wrap;\n",
              "      gap: 12px;\n",
              "    }\n",
              "\n",
              "    .colab-df-convert {\n",
              "      background-color: #E8F0FE;\n",
              "      border: none;\n",
              "      border-radius: 50%;\n",
              "      cursor: pointer;\n",
              "      display: none;\n",
              "      fill: #1967D2;\n",
              "      height: 32px;\n",
              "      padding: 0 0 0 0;\n",
              "      width: 32px;\n",
              "    }\n",
              "\n",
              "    .colab-df-convert:hover {\n",
              "      background-color: #E2EBFA;\n",
              "      box-shadow: 0px 1px 2px rgba(60, 64, 67, 0.3), 0px 1px 3px 1px rgba(60, 64, 67, 0.15);\n",
              "      fill: #174EA6;\n",
              "    }\n",
              "\n",
              "    [theme=dark] .colab-df-convert {\n",
              "      background-color: #3B4455;\n",
              "      fill: #D2E3FC;\n",
              "    }\n",
              "\n",
              "    [theme=dark] .colab-df-convert:hover {\n",
              "      background-color: #434B5C;\n",
              "      box-shadow: 0px 1px 3px 1px rgba(0, 0, 0, 0.15);\n",
              "      filter: drop-shadow(0px 1px 2px rgba(0, 0, 0, 0.3));\n",
              "      fill: #FFFFFF;\n",
              "    }\n",
              "  </style>\n",
              "\n",
              "      <script>\n",
              "        const buttonEl =\n",
              "          document.querySelector('#df-9ce51a30-3c39-4b3b-8193-dd9d77c5da0e button.colab-df-convert');\n",
              "        buttonEl.style.display =\n",
              "          google.colab.kernel.accessAllowed ? 'block' : 'none';\n",
              "\n",
              "        async function convertToInteractive(key) {\n",
              "          const element = document.querySelector('#df-9ce51a30-3c39-4b3b-8193-dd9d77c5da0e');\n",
              "          const dataTable =\n",
              "            await google.colab.kernel.invokeFunction('convertToInteractive',\n",
              "                                                     [key], {});\n",
              "          if (!dataTable) return;\n",
              "\n",
              "          const docLinkHtml = 'Like what you see? Visit the ' +\n",
              "            '<a target=\"_blank\" href=https://colab.research.google.com/notebooks/data_table.ipynb>data table notebook</a>'\n",
              "            + ' to learn more about interactive tables.';\n",
              "          element.innerHTML = '';\n",
              "          dataTable['output_type'] = 'display_data';\n",
              "          await google.colab.output.renderOutput(dataTable, element);\n",
              "          const docLink = document.createElement('div');\n",
              "          docLink.innerHTML = docLinkHtml;\n",
              "          element.appendChild(docLink);\n",
              "        }\n",
              "      </script>\n",
              "    </div>\n",
              "  </div>\n",
              "  "
            ]
          },
          "metadata": {},
          "execution_count": 16
        }
      ]
    },
    {
      "cell_type": "code",
      "metadata": {
        "ExecuteTime": {
          "end_time": "2020-10-11T11:19:21.053858Z",
          "start_time": "2020-10-11T11:19:21.040860Z"
        },
        "scrolled": true,
        "id": "KpFcm_NY5NKc",
        "outputId": "330f9aa2-54a7-4d67-b006-d8b5003b691d",
        "colab": {
          "base_uri": "https://localhost:8080/"
        }
      },
      "source": [
        "df['education'].unique(), len(df['education'].unique())"
      ],
      "execution_count": null,
      "outputs": [
        {
          "output_type": "execute_result",
          "data": {
            "text/plain": [
              "(array(['Bachelors', 'HS-grad', '11th', 'Masters', '9th', 'Some-college',\n",
              "        'Assoc-acdm', '7th-8th', 'Doctorate', 'Assoc-voc', 'Prof-school',\n",
              "        '5th-6th', '10th', 'Preschool', '12th', '1st-4th'], dtype=object), 16)"
            ]
          },
          "metadata": {},
          "execution_count": 17
        }
      ]
    },
    {
      "cell_type": "markdown",
      "metadata": {
        "id": "9fRRSws_5NKd"
      },
      "source": [
        "### One-hot кодирование\n",
        "Поскольку все алгоритмы машинного обучения, которые мы изучили, работают лишь с числовыми признаками, необходимо придумать способ обработки категориальных признаков, переводящий их в числовые. \n",
        "Одним из способов сделать это является One-hot кодирование. Его суть состоит в следующем. Пусть некоторая категориальная переменная (скажем, color) принимает $n$ различных значений (Red, Yellow, Green). Тогда можно создать $n$ новыx переменныx, соответствующих различным значениям категориального признака, каждая из которых равна 1 в том случае, если изначальный категориальный признак принимает такое значение, и 0 иначе. Принцип работы иллюстрирован на картинке.\n",
        "\n",
        "<img src='https://drive.google.com/uc?id=17oipPzKv7JFU5Z94hBUzMb5zJJlpbwxj' width=700/>\n",
        "\n",
        "В Pandas One-hot кодирование выполняется функцией pd.get_dummies. Сгенерируем One-hot признаки для нашего датасета. Сохраним полную матрицу объекты признаки в переменную X."
      ]
    },
    {
      "cell_type": "code",
      "metadata": {
        "ExecuteTime": {
          "end_time": "2020-10-11T11:19:36.657182Z",
          "start_time": "2020-10-11T11:19:36.622161Z"
        },
        "id": "jkhlt11U5NKd"
      },
      "source": [
        "dummy_features = pd.get_dummies(categorial_data)"
      ],
      "execution_count": null,
      "outputs": []
    },
    {
      "cell_type": "code",
      "metadata": {
        "ExecuteTime": {
          "end_time": "2020-10-11T11:20:13.566890Z",
          "start_time": "2020-10-11T11:20:13.540891Z"
        },
        "id": "B6295z0V5NKe",
        "outputId": "4928c4c6-7fde-4af7-8da7-b7e60b1def78",
        "colab": {
          "base_uri": "https://localhost:8080/",
          "height": 334
        }
      },
      "source": [
        "X = pd.concat([numeric_data, dummy_features], axis=1)\n",
        "X_origin = df.iloc[:, :-1]\n",
        "X.head()"
      ],
      "execution_count": null,
      "outputs": [
        {
          "output_type": "execute_result",
          "data": {
            "text/plain": [
              "   age  fnlwgt  educ-num  capital-gain  capital-loss  hours-per-week  \\\n",
              "0   50   83311        13             0             0              13   \n",
              "1   38  215646         9             0             0              40   \n",
              "2   53  234721         7             0             0              40   \n",
              "3   28  338409        13             0             0              40   \n",
              "4   37  284582        14             0             0              40   \n",
              "\n",
              "   workclass_Federal-gov  workclass_Local-gov  workclass_Private  \\\n",
              "0                      0                    0                  0   \n",
              "1                      0                    0                  1   \n",
              "2                      0                    0                  1   \n",
              "3                      0                    0                  1   \n",
              "4                      0                    0                  1   \n",
              "\n",
              "   workclass_Self-emp-inc  ...  native-country_Portugal  \\\n",
              "0                       0  ...                        0   \n",
              "1                       0  ...                        0   \n",
              "2                       0  ...                        0   \n",
              "3                       0  ...                        0   \n",
              "4                       0  ...                        0   \n",
              "\n",
              "   native-country_Puerto-Rico  native-country_Scotland  native-country_South  \\\n",
              "0                           0                        0                     0   \n",
              "1                           0                        0                     0   \n",
              "2                           0                        0                     0   \n",
              "3                           0                        0                     0   \n",
              "4                           0                        0                     0   \n",
              "\n",
              "   native-country_Taiwan  native-country_Thailand  \\\n",
              "0                      0                        0   \n",
              "1                      0                        0   \n",
              "2                      0                        0   \n",
              "3                      0                        0   \n",
              "4                      0                        0   \n",
              "\n",
              "   native-country_Trinadad&Tobago  native-country_United-States  \\\n",
              "0                               0                             1   \n",
              "1                               0                             1   \n",
              "2                               0                             1   \n",
              "3                               0                             0   \n",
              "4                               0                             1   \n",
              "\n",
              "   native-country_Vietnam  native-country_Yugoslavia  \n",
              "0                       0                          0  \n",
              "1                       0                          0  \n",
              "2                       0                          0  \n",
              "3                       0                          0  \n",
              "4                       0                          0  \n",
              "\n",
              "[5 rows x 104 columns]"
            ],
            "text/html": [
              "\n",
              "  <div id=\"df-5f6f0701-92bd-4222-8c6d-3dacf7de0884\">\n",
              "    <div class=\"colab-df-container\">\n",
              "      <div>\n",
              "<style scoped>\n",
              "    .dataframe tbody tr th:only-of-type {\n",
              "        vertical-align: middle;\n",
              "    }\n",
              "\n",
              "    .dataframe tbody tr th {\n",
              "        vertical-align: top;\n",
              "    }\n",
              "\n",
              "    .dataframe thead th {\n",
              "        text-align: right;\n",
              "    }\n",
              "</style>\n",
              "<table border=\"1\" class=\"dataframe\">\n",
              "  <thead>\n",
              "    <tr style=\"text-align: right;\">\n",
              "      <th></th>\n",
              "      <th>age</th>\n",
              "      <th>fnlwgt</th>\n",
              "      <th>educ-num</th>\n",
              "      <th>capital-gain</th>\n",
              "      <th>capital-loss</th>\n",
              "      <th>hours-per-week</th>\n",
              "      <th>workclass_Federal-gov</th>\n",
              "      <th>workclass_Local-gov</th>\n",
              "      <th>workclass_Private</th>\n",
              "      <th>workclass_Self-emp-inc</th>\n",
              "      <th>...</th>\n",
              "      <th>native-country_Portugal</th>\n",
              "      <th>native-country_Puerto-Rico</th>\n",
              "      <th>native-country_Scotland</th>\n",
              "      <th>native-country_South</th>\n",
              "      <th>native-country_Taiwan</th>\n",
              "      <th>native-country_Thailand</th>\n",
              "      <th>native-country_Trinadad&amp;Tobago</th>\n",
              "      <th>native-country_United-States</th>\n",
              "      <th>native-country_Vietnam</th>\n",
              "      <th>native-country_Yugoslavia</th>\n",
              "    </tr>\n",
              "  </thead>\n",
              "  <tbody>\n",
              "    <tr>\n",
              "      <th>0</th>\n",
              "      <td>50</td>\n",
              "      <td>83311</td>\n",
              "      <td>13</td>\n",
              "      <td>0</td>\n",
              "      <td>0</td>\n",
              "      <td>13</td>\n",
              "      <td>0</td>\n",
              "      <td>0</td>\n",
              "      <td>0</td>\n",
              "      <td>0</td>\n",
              "      <td>...</td>\n",
              "      <td>0</td>\n",
              "      <td>0</td>\n",
              "      <td>0</td>\n",
              "      <td>0</td>\n",
              "      <td>0</td>\n",
              "      <td>0</td>\n",
              "      <td>0</td>\n",
              "      <td>1</td>\n",
              "      <td>0</td>\n",
              "      <td>0</td>\n",
              "    </tr>\n",
              "    <tr>\n",
              "      <th>1</th>\n",
              "      <td>38</td>\n",
              "      <td>215646</td>\n",
              "      <td>9</td>\n",
              "      <td>0</td>\n",
              "      <td>0</td>\n",
              "      <td>40</td>\n",
              "      <td>0</td>\n",
              "      <td>0</td>\n",
              "      <td>1</td>\n",
              "      <td>0</td>\n",
              "      <td>...</td>\n",
              "      <td>0</td>\n",
              "      <td>0</td>\n",
              "      <td>0</td>\n",
              "      <td>0</td>\n",
              "      <td>0</td>\n",
              "      <td>0</td>\n",
              "      <td>0</td>\n",
              "      <td>1</td>\n",
              "      <td>0</td>\n",
              "      <td>0</td>\n",
              "    </tr>\n",
              "    <tr>\n",
              "      <th>2</th>\n",
              "      <td>53</td>\n",
              "      <td>234721</td>\n",
              "      <td>7</td>\n",
              "      <td>0</td>\n",
              "      <td>0</td>\n",
              "      <td>40</td>\n",
              "      <td>0</td>\n",
              "      <td>0</td>\n",
              "      <td>1</td>\n",
              "      <td>0</td>\n",
              "      <td>...</td>\n",
              "      <td>0</td>\n",
              "      <td>0</td>\n",
              "      <td>0</td>\n",
              "      <td>0</td>\n",
              "      <td>0</td>\n",
              "      <td>0</td>\n",
              "      <td>0</td>\n",
              "      <td>1</td>\n",
              "      <td>0</td>\n",
              "      <td>0</td>\n",
              "    </tr>\n",
              "    <tr>\n",
              "      <th>3</th>\n",
              "      <td>28</td>\n",
              "      <td>338409</td>\n",
              "      <td>13</td>\n",
              "      <td>0</td>\n",
              "      <td>0</td>\n",
              "      <td>40</td>\n",
              "      <td>0</td>\n",
              "      <td>0</td>\n",
              "      <td>1</td>\n",
              "      <td>0</td>\n",
              "      <td>...</td>\n",
              "      <td>0</td>\n",
              "      <td>0</td>\n",
              "      <td>0</td>\n",
              "      <td>0</td>\n",
              "      <td>0</td>\n",
              "      <td>0</td>\n",
              "      <td>0</td>\n",
              "      <td>0</td>\n",
              "      <td>0</td>\n",
              "      <td>0</td>\n",
              "    </tr>\n",
              "    <tr>\n",
              "      <th>4</th>\n",
              "      <td>37</td>\n",
              "      <td>284582</td>\n",
              "      <td>14</td>\n",
              "      <td>0</td>\n",
              "      <td>0</td>\n",
              "      <td>40</td>\n",
              "      <td>0</td>\n",
              "      <td>0</td>\n",
              "      <td>1</td>\n",
              "      <td>0</td>\n",
              "      <td>...</td>\n",
              "      <td>0</td>\n",
              "      <td>0</td>\n",
              "      <td>0</td>\n",
              "      <td>0</td>\n",
              "      <td>0</td>\n",
              "      <td>0</td>\n",
              "      <td>0</td>\n",
              "      <td>1</td>\n",
              "      <td>0</td>\n",
              "      <td>0</td>\n",
              "    </tr>\n",
              "  </tbody>\n",
              "</table>\n",
              "<p>5 rows × 104 columns</p>\n",
              "</div>\n",
              "      <button class=\"colab-df-convert\" onclick=\"convertToInteractive('df-5f6f0701-92bd-4222-8c6d-3dacf7de0884')\"\n",
              "              title=\"Convert this dataframe to an interactive table.\"\n",
              "              style=\"display:none;\">\n",
              "        \n",
              "  <svg xmlns=\"http://www.w3.org/2000/svg\" height=\"24px\"viewBox=\"0 0 24 24\"\n",
              "       width=\"24px\">\n",
              "    <path d=\"M0 0h24v24H0V0z\" fill=\"none\"/>\n",
              "    <path d=\"M18.56 5.44l.94 2.06.94-2.06 2.06-.94-2.06-.94-.94-2.06-.94 2.06-2.06.94zm-11 1L8.5 8.5l.94-2.06 2.06-.94-2.06-.94L8.5 2.5l-.94 2.06-2.06.94zm10 10l.94 2.06.94-2.06 2.06-.94-2.06-.94-.94-2.06-.94 2.06-2.06.94z\"/><path d=\"M17.41 7.96l-1.37-1.37c-.4-.4-.92-.59-1.43-.59-.52 0-1.04.2-1.43.59L10.3 9.45l-7.72 7.72c-.78.78-.78 2.05 0 2.83L4 21.41c.39.39.9.59 1.41.59.51 0 1.02-.2 1.41-.59l7.78-7.78 2.81-2.81c.8-.78.8-2.07 0-2.86zM5.41 20L4 18.59l7.72-7.72 1.47 1.35L5.41 20z\"/>\n",
              "  </svg>\n",
              "      </button>\n",
              "      \n",
              "  <style>\n",
              "    .colab-df-container {\n",
              "      display:flex;\n",
              "      flex-wrap:wrap;\n",
              "      gap: 12px;\n",
              "    }\n",
              "\n",
              "    .colab-df-convert {\n",
              "      background-color: #E8F0FE;\n",
              "      border: none;\n",
              "      border-radius: 50%;\n",
              "      cursor: pointer;\n",
              "      display: none;\n",
              "      fill: #1967D2;\n",
              "      height: 32px;\n",
              "      padding: 0 0 0 0;\n",
              "      width: 32px;\n",
              "    }\n",
              "\n",
              "    .colab-df-convert:hover {\n",
              "      background-color: #E2EBFA;\n",
              "      box-shadow: 0px 1px 2px rgba(60, 64, 67, 0.3), 0px 1px 3px 1px rgba(60, 64, 67, 0.15);\n",
              "      fill: #174EA6;\n",
              "    }\n",
              "\n",
              "    [theme=dark] .colab-df-convert {\n",
              "      background-color: #3B4455;\n",
              "      fill: #D2E3FC;\n",
              "    }\n",
              "\n",
              "    [theme=dark] .colab-df-convert:hover {\n",
              "      background-color: #434B5C;\n",
              "      box-shadow: 0px 1px 3px 1px rgba(0, 0, 0, 0.15);\n",
              "      filter: drop-shadow(0px 1px 2px rgba(0, 0, 0, 0.3));\n",
              "      fill: #FFFFFF;\n",
              "    }\n",
              "  </style>\n",
              "\n",
              "      <script>\n",
              "        const buttonEl =\n",
              "          document.querySelector('#df-5f6f0701-92bd-4222-8c6d-3dacf7de0884 button.colab-df-convert');\n",
              "        buttonEl.style.display =\n",
              "          google.colab.kernel.accessAllowed ? 'block' : 'none';\n",
              "\n",
              "        async function convertToInteractive(key) {\n",
              "          const element = document.querySelector('#df-5f6f0701-92bd-4222-8c6d-3dacf7de0884');\n",
              "          const dataTable =\n",
              "            await google.colab.kernel.invokeFunction('convertToInteractive',\n",
              "                                                     [key], {});\n",
              "          if (!dataTable) return;\n",
              "\n",
              "          const docLinkHtml = 'Like what you see? Visit the ' +\n",
              "            '<a target=\"_blank\" href=https://colab.research.google.com/notebooks/data_table.ipynb>data table notebook</a>'\n",
              "            + ' to learn more about interactive tables.';\n",
              "          element.innerHTML = '';\n",
              "          dataTable['output_type'] = 'display_data';\n",
              "          await google.colab.output.renderOutput(dataTable, element);\n",
              "          const docLink = document.createElement('div');\n",
              "          docLink.innerHTML = docLinkHtml;\n",
              "          element.appendChild(docLink);\n",
              "        }\n",
              "      </script>\n",
              "    </div>\n",
              "  </div>\n",
              "  "
            ]
          },
          "metadata": {},
          "execution_count": 19
        }
      ]
    },
    {
      "cell_type": "code",
      "metadata": {
        "ExecuteTime": {
          "end_time": "2020-10-11T11:20:20.520184Z",
          "start_time": "2020-10-11T11:20:20.517168Z"
        },
        "id": "ax22ZV_i5NKe"
      },
      "source": [
        "y = df['salary']"
      ],
      "execution_count": null,
      "outputs": []
    },
    {
      "cell_type": "code",
      "metadata": {
        "ExecuteTime": {
          "end_time": "2020-10-11T11:20:30.407526Z",
          "start_time": "2020-10-11T11:20:30.401526Z"
        },
        "id": "zU_bLBrJ5NKe",
        "outputId": "34a1a1ac-4ed0-45cd-f559-1627e5de3c7a",
        "colab": {
          "base_uri": "https://localhost:8080/"
        }
      },
      "source": [
        "X.shape, X_origin.shape"
      ],
      "execution_count": null,
      "outputs": [
        {
          "output_type": "execute_result",
          "data": {
            "text/plain": [
              "((30161, 104), (30161, 14))"
            ]
          },
          "metadata": {},
          "execution_count": 21
        }
      ]
    },
    {
      "cell_type": "markdown",
      "metadata": {
        "id": "jiC7NfFp5NKf"
      },
      "source": [
        "Теперь всё готово для обучения алгоритмов."
      ]
    },
    {
      "cell_type": "code",
      "metadata": {
        "ExecuteTime": {
          "end_time": "2020-10-11T11:20:37.886332Z",
          "start_time": "2020-10-11T11:20:37.881367Z"
        },
        "id": "lSPVJkKK5NKf"
      },
      "source": [
        "from sklearn.model_selection import train_test_split"
      ],
      "execution_count": null,
      "outputs": []
    },
    {
      "cell_type": "code",
      "metadata": {
        "ExecuteTime": {
          "end_time": "2020-10-11T11:21:20.472653Z",
          "start_time": "2020-10-11T11:21:20.396622Z"
        },
        "id": "3oBWniga5NKf"
      },
      "source": [
        "X_train, X_test, y_train, y_test = train_test_split(X.values, y.values, \n",
        "                                                    train_size=0.8,\n",
        "                                                    random_state=42)"
      ],
      "execution_count": null,
      "outputs": []
    },
    {
      "cell_type": "markdown",
      "metadata": {
        "id": "4RfeKe-A5NKg"
      },
      "source": [
        "Напишем функцию, визуализирующую поиск оптимального гиперпараметра модели по сетке. Используем идею кросс-валидации."
      ]
    },
    {
      "cell_type": "code",
      "metadata": {
        "ExecuteTime": {
          "end_time": "2020-10-11T11:21:22.249967Z",
          "start_time": "2020-10-11T11:21:22.246968Z"
        },
        "id": "iM-0mtks5NKg"
      },
      "source": [
        "from sklearn.model_selection import GridSearchCV\n",
        "from sklearn.model_selection import RandomizedSearchCV"
      ],
      "execution_count": null,
      "outputs": []
    },
    {
      "cell_type": "code",
      "metadata": {
        "ExecuteTime": {
          "end_time": "2020-10-11T11:21:23.221565Z",
          "start_time": "2020-10-11T11:21:23.212564Z"
        },
        "id": "kbWPU0hw5NKg"
      },
      "source": [
        "def search_and_draw(X, y, model, param_name, grid, param_scale='ordinary', draw=True):\n",
        "    parameters = {param_name: grid}\n",
        "    \n",
        "    CV_model = GridSearchCV(estimator=model, \n",
        "                            param_grid=parameters,\n",
        "                            cv=5, \n",
        "                            scoring='f1',\n",
        "                            n_jobs=-1, \n",
        "                            verbose=10)\n",
        "    CV_model.fit(X, y)\n",
        "    means = CV_model.cv_results_['mean_test_score']\n",
        "    error = CV_model.cv_results_['std_test_score']\n",
        "    \n",
        "    if draw:\n",
        "        plt.figure(figsize=(15,8))\n",
        "        plt.title('choose ' + param_name)\n",
        "\n",
        "\n",
        "        if (param_scale == 'log'):\n",
        "            plt.xscale('log')\n",
        "\n",
        "        plt.plot(grid, means, label='mean values of score', color='red', lw=3)\n",
        "\n",
        "        plt.fill_between(grid, means - 2 * error, means + 2 * error, \n",
        "                         color='green', label='filled area between errors', alpha=0.5)\n",
        "        legend_box = plt.legend(framealpha=1).get_frame()\n",
        "        legend_box.set_facecolor(\"white\")\n",
        "        legend_box.set_edgecolor(\"black\")\n",
        "        plt.xlabel('parameter')\n",
        "        plt.ylabel('roc_auc')\n",
        "        plt.show()\n",
        "        \n",
        "    return means, error"
      ],
      "execution_count": null,
      "outputs": []
    },
    {
      "cell_type": "code",
      "metadata": {
        "ExecuteTime": {
          "end_time": "2020-10-11T11:21:24.463669Z",
          "start_time": "2020-10-11T11:21:24.459673Z"
        },
        "id": "X7kTLjA_5NKg"
      },
      "source": [
        "from sklearn.neighbors import KNeighborsClassifier\n",
        "from sklearn.tree import DecisionTreeClassifier"
      ],
      "execution_count": null,
      "outputs": []
    },
    {
      "cell_type": "code",
      "metadata": {
        "ExecuteTime": {
          "end_time": "2020-10-11T11:21:26.241652Z",
          "start_time": "2020-10-11T11:21:26.235657Z"
        },
        "id": "0DdKxB4e5NKk"
      },
      "source": [
        "models = [KNeighborsClassifier(), DecisionTreeClassifier()]\n",
        "param_names = ['n_neighbors', 'max_depth']\n",
        "grids = [np.array(np.linspace(4, 30, 8), dtype='int'), np.arange(1, 30)]\n",
        "param_scales = ['log', 'ordinary']"
      ],
      "execution_count": null,
      "outputs": []
    },
    {
      "cell_type": "code",
      "metadata": {
        "ExecuteTime": {
          "end_time": "2020-10-11T11:22:02.218673Z",
          "start_time": "2020-10-11T11:21:29.676670Z"
        },
        "scrolled": false,
        "id": "kmjDKNtI5NKl",
        "outputId": "4241fc71-934b-46df-d161-7d24d0b0f655",
        "colab": {
          "base_uri": "https://localhost:8080/",
          "height": 1000
        }
      },
      "source": [
        "for model, param_name, grid, param_scale in zip(models, \n",
        "                                                param_names, \n",
        "                                                grids, \n",
        "                                                param_scales):\n",
        "    search_and_draw(X_train, y_train, model, param_name, grid, param_scale)"
      ],
      "execution_count": null,
      "outputs": [
        {
          "output_type": "stream",
          "name": "stdout",
          "text": [
            "Fitting 5 folds for each of 8 candidates, totalling 40 fits\n"
          ]
        },
        {
          "output_type": "display_data",
          "data": {
            "text/plain": [
              "<Figure size 1080x576 with 1 Axes>"
            ],
            "image/png": "[encoded data removed]"
          },
          "metadata": {
            "needs_background": "light"
          }
        },
        {
          "output_type": "stream",
          "name": "stdout",
          "text": [
            "Fitting 5 folds for each of 29 candidates, totalling 145 fits\n"
          ]
        },
        {
          "output_type": "display_data",
          "data": {
            "text/plain": [
              "<Figure size 1080x576 with 1 Axes>"
            ],
            "image/png": "[encoded data removed]"
          },
          "metadata": {
            "needs_background": "light"
          }
        }
      ]
    },
    {
      "cell_type": "markdown",
      "metadata": {
        "id": "cpWBnDAH5NKl"
      },
      "source": [
        "Подберём параметр n_estimators в алгоритме случайный лес. Известно, что случайный лес не переобучается. Поэтому график качества будет монотонно возрастать. Следовательно, необходимо найти минимальное значение n_estimators, при котором качество не изменяется. \n",
        "Поскольку каждое дерево обучается независимо от остальных, достаточно обучить сразу лес из большого количества деревьев, а затем рассмотреть подмножества нужного размера из исходного множества деревьев."
      ]
    },
    {
      "cell_type": "code",
      "metadata": {
        "ExecuteTime": {
          "end_time": "2020-10-11T11:22:02.224658Z",
          "start_time": "2020-10-11T11:22:02.220675Z"
        },
        "id": "hZRAL-lx5NKm"
      },
      "source": [
        "from sklearn.ensemble import RandomForestClassifier\n",
        "from sklearn.model_selection import cross_val_score"
      ],
      "execution_count": null,
      "outputs": []
    },
    {
      "cell_type": "code",
      "metadata": {
        "ExecuteTime": {
          "end_time": "2020-10-11T11:22:02.234669Z",
          "start_time": "2020-10-11T11:22:02.227643Z"
        },
        "id": "jUyKSY_y5NKm"
      },
      "source": [
        "from sklearn.model_selection import KFold\n",
        "from sklearn.metrics import roc_auc_score\n",
        "from tqdm.notebook import tqdm"
      ],
      "execution_count": null,
      "outputs": []
    },
    {
      "cell_type": "code",
      "metadata": {
        "ExecuteTime": {
          "end_time": "2020-10-11T11:22:46.380628Z",
          "start_time": "2020-10-11T11:22:02.236622Z"
        },
        "colab": {
          "referenced_widgets": [
            "76ec8c05cb72470185fee26ed402041d",
            "590850e880714085acd8265ec4a4b92c",
            "bc0be3e2b16f42d6bb16ad041e036877",
            "d0be7be1269945e9abf43360946e3139",
            "d2f3b28955e248f99576aa387504fd9d",
            "df8f07d4c1a34635bc9c0acd998da663",
            "4c5da9324c9349158899c10472598096",
            "c409076be4f24bf68e7066a8a41b5f43",
            "3a44ee2b0d44443292453f0d8589d0d8",
            "bbb53a820d794605b12830ce25400d94",
            "4aa928203388480e82ca24aacd44b796",
            "8fd151cfb0984d7c81499c1a271d55fc",
            "6fc5994f60864943a66555b539dfbc7a",
            "7cf5bc933e484a1bbd1e231e2bb8e43a",
            "e770261952ad432da0d5c24b2afd79bc",
            "511d20f0055e47b3ad5130fc067f0eca",
            "bf5a17c7e8b34f53896b5f5c68ba44cf",
            "66d8848baacd4fc99c2f6069698a990b",
            "8f2bb4263b714e7f9a0529086cf18da8",
            "eb40617a1e304827961ec15ecffa0489",
            "4c2d3679a4ae473b80a2c842633036dc",
            "2f0f8011c54b483e9f6040d0745f05e0",
            "884523d014314eeba49f843ec7690bbd",
            "b8cb595591af4e5784bf10a0e40d62ab",
            "493aeaf9253a4b298868d5cb34017d58",
            "7a48879d015a4d508a4bad9af76e8691",
            "3d4961a954064dbb81f8e6500fb73b14",
            "3ecef472f8ab4548bce0dbd5c7141013",
            "cd58d089d2ef42b78804790c13c502d6",
            "8c2ac7ab2a8b4cecaa8c12f38f44f0d6",
            "e4269d411ea04d218a35fd1f42235e95",
            "cecc1df84a054e5b89638d9693333f89",
            "ca23fdd94ba84feead212f9583b2ec60",
            "c8e4cc6cb09d45378271399965be5041",
            "e6f738ab9acd4980b68549ba1403d8d8",
            "d749e7955dbf4faf9ea5b683725efb90",
            "7e962778747243359271dafc3b2aecd4",
            "1347671e887e491e8bc129ce85a03f0e",
            "02c4810b189045b48d49bcec1c22f667",
            "5df115402c0d4ed68751abc290f5c292",
            "83b37ea67e4a42d5b026810498aa054b",
            "d1cbeba00fdc423d9c611e43a3478669",
            "0ceb75875791480086daff359fb4ac6a",
            "f3de1698743846b4b11d2f7a153978b6",
            "fada9efcb9324fec9785db04736dce24",
            "154a135960654ec2ad09e729cb5f23f4",
            "c5f782f895474a9fa930224defe1c658",
            "968f1bddf7724f81a64ab862e15cbf2c",
            "b1ab2afb1de24a47b2d96a8555726d65",
            "c85b2ae033544aa0a3ee5555ac43178b",
            "15b48d5df1284ef19469f6d64d786d53",
            "ca7cde5be32041bbaf670df6229ef075",
            "bf0d342695714417b9c11bd69b4329bc",
            "80211dcb095b41feae9f561c5a133a2b",
            "15b8e79a152e43948462472276a87080",
            "ab4564c3e37a4234a4a496171ae4a368",
            "a50ad4db887d4d3f8cf843f4f12fe31f",
            "c72e19316327426e9f51f1053500bf99",
            "301d9b418b1e435bbcb9ec7b125e3266",
            "dc2a3db7d34c4d1ea0b6831c847b759a",
            "77e678e62c644fd7a73886b15163e378",
            "438dd609c1f54e75b76619770d325154",
            "70dac3ed79524d3c99a107b9e5c2b7b4",
            "fe621793ad92440d8ef9ce9db1ea7877",
            "a662ae148be94b89a8a6c6b4ef8c0b5f",
            "dcb66e13a5c74879b41750d56deae512"
          ],
          "base_uri": "https://localhost:8080/",
          "height": 49
        },
        "id": "mP2meSj85NKn",
        "outputId": "787328fe-53b6-4bf2-f9d6-17ce6e505199"
      },
      "source": [
        "max_trees = 100\n",
        "\n",
        "values = np.arange(max_trees) + 1\n",
        "\n",
        "kf = KFold(n_splits=5, shuffle=True, random_state=1234)\n",
        "\n",
        "global_scores = []\n",
        "\n",
        "for train_indices, val_indices in tqdm(kf.split(X_train), total=5):\n",
        "    scores = []\n",
        "    \n",
        "    X_train_kf = X_train[train_indices]\n",
        "    y_train_kf = y_train[train_indices]\n",
        "    \n",
        "    X_val_kf = X_train[val_indices]\n",
        "    y_val_kf = y_train[val_indices]\n",
        "    \n",
        "    forest = RandomForestClassifier(n_estimators=max_trees)\n",
        "    forest.fit(X_train_kf, y_train_kf)\n",
        "    trees = forest.estimators_\n",
        "    \n",
        "    for number_of_trees in tqdm(values, leave=False):\n",
        "        thinned_forest = RandomForestClassifier(n_estimators=number_of_trees)\n",
        "        \n",
        "        thinned_forest.n_classes_ = 2\n",
        "        thinned_forest.estimators_ = trees[:number_of_trees]\n",
        "\n",
        "        scores.append(roc_auc_score(y_val_kf, thinned_forest.predict_proba(X_val_kf)[:, 1]))\n",
        "    \n",
        "    scores = np.array(scores)\n",
        "    \n",
        "    global_scores.append(scores)\n",
        "\n",
        "global_scores = np.stack(global_scores, axis=0)"
      ],
      "execution_count": null,
      "outputs": [
        {
          "output_type": "display_data",
          "data": {
            "text/plain": [
              "  0%|          | 0/5 [00:00<?, ?it/s]"
            ],
            "application/vnd.jupyter.widget-view+json": {
              "version_major": 2,
              "version_minor": 0,
              "model_id": "76ec8c05cb72470185fee26ed402041d"
            }
          },
          "metadata": {}
        },
        {
          "output_type": "display_data",
          "data": {
            "text/plain": [
              "  0%|          | 0/100 [00:00<?, ?it/s]"
            ],
            "application/vnd.jupyter.widget-view+json": {
              "version_major": 2,
              "version_minor": 0,
              "model_id": "8fd151cfb0984d7c81499c1a271d55fc"
            }
          },
          "metadata": {}
        },
        {
          "output_type": "display_data",
          "data": {
            "text/plain": [
              "  0%|          | 0/100 [00:00<?, ?it/s]"
            ],
            "application/vnd.jupyter.widget-view+json": {
              "version_major": 2,
              "version_minor": 0,
              "model_id": "884523d014314eeba49f843ec7690bbd"
            }
          },
          "metadata": {}
        },
        {
          "output_type": "display_data",
          "data": {
            "text/plain": [
              "  0%|          | 0/100 [00:00<?, ?it/s]"
            ],
            "application/vnd.jupyter.widget-view+json": {
              "version_major": 2,
              "version_minor": 0,
              "model_id": "c8e4cc6cb09d45378271399965be5041"
            }
          },
          "metadata": {}
        },
        {
          "output_type": "display_data",
          "data": {
            "text/plain": [
              "  0%|          | 0/100 [00:00<?, ?it/s]"
            ],
            "application/vnd.jupyter.widget-view+json": {
              "version_major": 2,
              "version_minor": 0,
              "model_id": "fada9efcb9324fec9785db04736dce24"
            }
          },
          "metadata": {}
        },
        {
          "output_type": "display_data",
          "data": {
            "text/plain": [
              "  0%|          | 0/100 [00:00<?, ?it/s]"
            ],
            "application/vnd.jupyter.widget-view+json": {
              "version_major": 2,
              "version_minor": 0,
              "model_id": "ab4564c3e37a4234a4a496171ae4a368"
            }
          },
          "metadata": {}
        }
      ]
    },
    {
      "cell_type": "code",
      "metadata": {
        "ExecuteTime": {
          "end_time": "2020-10-11T11:22:52.934021Z",
          "start_time": "2020-10-11T11:22:52.547993Z"
        },
        "id": "LR19ddrJ5NKn",
        "outputId": "d3103464-e800-468f-864a-4d5f0aa46d3b",
        "colab": {
          "base_uri": "https://localhost:8080/",
          "height": 535
        }
      },
      "source": [
        "mean_cross_val_score = global_scores.mean(axis=0)\n",
        "std_cross_val_score = global_scores.std(axis=0)\n",
        "\n",
        "plt.figure(figsize=(15,8))\n",
        "plt.title('Quality of random forest')\n",
        "\n",
        "plt.plot(values, mean_cross_val_score, label='mean values', color='red', lw=3)\n",
        "plt.fill_between(values, \n",
        "                 mean_cross_val_score - 2 * std_cross_val_score, \n",
        "                 mean_cross_val_score + 2 * std_cross_val_score, \n",
        "                 color='green', \n",
        "                 label='filled area between errors',\n",
        "                 alpha=0.5)\n",
        "legend_box = plt.legend(framealpha=1).get_frame()\n",
        "legend_box.set_facecolor(\"white\")\n",
        "legend_box.set_edgecolor(\"black\")\n",
        "plt.xlabel('number of trees')\n",
        "plt.ylabel('roc-auc')\n",
        "\n",
        "plt.show()"
      ],
      "execution_count": null,
      "outputs": [
        {
          "output_type": "display_data",
          "data": {
            "text/plain": [
              "<Figure size 1080x576 with 1 Axes>"
            ],
            "image/png": "[encoded data removed]"
          },
          "metadata": {
            "needs_background": "light"
          }
        }
      ]
    },
    {
      "cell_type": "markdown",
      "metadata": {
        "id": "1O9PGQKD5NKo"
      },
      "source": [
        "### Нормировка признаков\n",
        "\n",
        "Нормируем признаки и проделаем тот же эксперимент с алгоритмом ближайших соседей. Посмотрим, изменилось ли качество предсказания."
      ]
    },
    {
      "cell_type": "code",
      "metadata": {
        "ExecuteTime": {
          "end_time": "2020-10-11T11:22:57.326128Z",
          "start_time": "2020-10-11T11:22:57.207981Z"
        },
        "id": "n88B0pPR5NKo"
      },
      "source": [
        "from sklearn.preprocessing import StandardScaler\n",
        "\n",
        "scaler = StandardScaler()\n",
        "\n",
        "X_train_scaled = scaler.fit_transform(X_train)\n",
        "X_test_scaled = scaler.transform(X_test)"
      ],
      "execution_count": null,
      "outputs": []
    },
    {
      "cell_type": "markdown",
      "metadata": {
        "id": "YMXX0WNM5NKp"
      },
      "source": [
        "`StandardScaler` выполняет преобразование $$z = \\frac{x - \\mu}{\\sigma}, \\text{где $\\sigma$ - стандартное отклонение, а  $\\mu$ - среднее}$$"
      ]
    },
    {
      "cell_type": "code",
      "metadata": {
        "ExecuteTime": {
          "end_time": "2020-10-11T11:26:55.521138Z",
          "start_time": "2020-10-11T11:23:08.372146Z"
        },
        "id": "Hx9_iXxu5NKp",
        "outputId": "a5f89524-5d41-41be-a86e-5c23589a9851",
        "colab": {
          "base_uri": "https://localhost:8080/",
          "height": 554
        }
      },
      "source": [
        "search_and_draw(X_train_scaled, y_train, KNeighborsClassifier(), 'n_neighbors', \n",
        "                np.array(np.linspace(4, 30, 8), dtype='int'), 'log');"
      ],
      "execution_count": null,
      "outputs": [
        {
          "output_type": "stream",
          "name": "stdout",
          "text": [
            "Fitting 5 folds for each of 8 candidates, totalling 40 fits\n"
          ]
        },
        {
          "output_type": "display_data",
          "data": {
            "text/plain": [
              "<Figure size 1080x576 with 1 Axes>"
            ],
            "image/png": "[encoded data removed]"
          },
          "metadata": {
            "needs_background": "light"
          }
        }
      ]
    },
    {
      "cell_type": "markdown",
      "metadata": {
        "id": "LyuC1KSE5NKp"
      },
      "source": [
        "Как и следовало ожидать, ни один из наших алгоритмов не побил случайный лес. Итак, видим, что на больших выборках бэггинг работает. Вычислим итоговое качество на test."
      ]
    },
    {
      "cell_type": "code",
      "metadata": {
        "ExecuteTime": {
          "end_time": "2020-10-11T11:26:56.637237Z",
          "start_time": "2020-10-11T11:26:55.523147Z"
        },
        "id": "vqSvgKJL5NKp"
      },
      "source": [
        "model = RandomForestClassifier(n_estimators=50, n_jobs=-1)\n",
        "\n",
        "model.fit(X_train, y_train)\n",
        "y_train_predicted = model.predict_proba(X_train)[:, 1]\n",
        "y_test_predicted = model.predict_proba(X_test)[:, 1]"
      ],
      "execution_count": null,
      "outputs": []
    },
    {
      "cell_type": "code",
      "metadata": {
        "ExecuteTime": {
          "end_time": "2020-10-11T11:26:56.642963Z",
          "start_time": "2020-10-11T11:26:56.638959Z"
        },
        "id": "BMugWOrI5NKq"
      },
      "source": [
        "from sklearn.metrics import roc_auc_score, roc_curve"
      ],
      "execution_count": null,
      "outputs": []
    },
    {
      "cell_type": "code",
      "metadata": {
        "ExecuteTime": {
          "end_time": "2020-10-11T11:26:56.974994Z",
          "start_time": "2020-10-11T11:26:56.647965Z"
        },
        "id": "sQLFARB-5NKq",
        "outputId": "c2ff026f-a0f7-4606-aaf7-815c0dc64776",
        "colab": {
          "base_uri": "https://localhost:8080/",
          "height": 602
        }
      },
      "source": [
        "train_auc = roc_auc_score(y_train, y_train_predicted)\n",
        "test_auc = roc_auc_score(y_test, y_test_predicted)\n",
        "\n",
        "plt.figure(figsize=(20,10))\n",
        "plt.plot(*roc_curve(y_train, y_train_predicted)[:2], label='train AUC={:.4f}'.format(train_auc))\n",
        "plt.plot(*roc_curve(y_test, y_test_predicted)[:2], label='test AUC={:.4f}'.format(test_auc))\n",
        "legend_box = plt.legend(fontsize='large', framealpha=1).get_frame()\n",
        "legend_box.set_facecolor(\"white\")\n",
        "legend_box.set_edgecolor(\"black\")\n",
        "plt.plot(np.linspace(0,1,100), np.linspace(0,1,100))\n",
        "plt.show()"
      ],
      "execution_count": null,
      "outputs": [
        {
          "output_type": "display_data",
          "data": {
            "text/plain": [
              "<Figure size 1440x720 with 1 Axes>"
            ],
            "image/png": "[encoded data removed]"
          },
          "metadata": {
            "needs_background": "light"
          }
        }
      ]
    },
    {
      "cell_type": "markdown",
      "metadata": {
        "id": "Fm8oaWwm5NKq"
      },
      "source": [
        "## Что ещё можно делать:\n",
        "\n",
        "Мы подбирали оптимальный одномерный параметр для алгоритма. Можно также:\n",
        "\n",
        "* Искать по сетке не только численные гиперпараметры, но и категориальные, например, метрику в алгоритме ближайших соседей или критерий ветвления в решающем дереве.\n",
        "\n",
        "* Искать оптимальный параметр по многомерной сетке. Перебрать все возможные варианты здесь не выйдет, потому что на это уйдёт слишком много времени. Зато можно перебирать случайные точки по сетке. Эта процедура называется Grid Random Search."
      ]
    },
    {
      "cell_type": "markdown",
      "metadata": {
        "id": "_i_cPEGx5NKq"
      },
      "source": [
        "# Стекинг\n",
        "\n",
        "Идея стекинга состоит в том, чтобы обучать разнообразные алгоритмы и использовать их в качестве новых признаков объектов. \n",
        "\n",
        "Чтобы избежать переобучения, необходимо разделить обучающую выборку на n фолдов. Для предсказания ответов на k-ом фолде алгоритм обучается на оставшихся n-1 фолдах и предсказывает ответ на k-ом фолде. Такую схему обучения-предсказания реализует функция sklearn.model_selection.cross_val_predict."
      ]
    },
    {
      "cell_type": "code",
      "metadata": {
        "ExecuteTime": {
          "end_time": "2020-10-11T11:26:56.980962Z",
          "start_time": "2020-10-11T11:26:56.976965Z"
        },
        "id": "uTY_fKKQ5NKr"
      },
      "source": [
        "from sklearn.model_selection import cross_val_predict"
      ],
      "execution_count": null,
      "outputs": []
    },
    {
      "cell_type": "markdown",
      "metadata": {
        "id": "ltEbt4wd5NKr"
      },
      "source": [
        "Будем работать с тем же самым датасетом, что и ранее. Посмотрим, сумеем ли мы побить результаты случайного леса с помощью стекинга."
      ]
    },
    {
      "cell_type": "code",
      "metadata": {
        "ExecuteTime": {
          "end_time": "2020-10-11T11:26:56.991963Z",
          "start_time": "2020-10-11T11:26:56.983964Z"
        },
        "id": "4hLsQg0k5NKr"
      },
      "source": [
        "def compute_meta_feature(model, X_train, X_test, y_train, cv):\n",
        "    try:\n",
        "        train_answers = cross_val_predict(model, X_train, y_train, cv=cv, method='predict_proba')[:, 1]\n",
        "        model.fit(X_train, y_train)\n",
        "        return train_answers, model.predict_proba(X_test)[:, 1]\n",
        "    \n",
        "    except Exception:\n",
        "        train_answers = cross_val_predict(model, X_train, y_train, cv=cv, method='predict')[:, 1]\n",
        "        model.fit(X_train, y_train)\n",
        "        return train_answers, model.predict(X_test)[:, 1]"
      ],
      "execution_count": null,
      "outputs": []
    },
    {
      "cell_type": "code",
      "metadata": {
        "ExecuteTime": {
          "end_time": "2020-10-11T11:26:57.001966Z",
          "start_time": "2020-10-11T11:26:56.994962Z"
        },
        "id": "NvVyPM4_5NKr"
      },
      "source": [
        "from sklearn.ensemble import RandomForestClassifier\n",
        "from sklearn.linear_model import LogisticRegression\n",
        "from sklearn.neighbors import KNeighborsClassifier"
      ],
      "execution_count": null,
      "outputs": []
    },
    {
      "cell_type": "code",
      "metadata": {
        "ExecuteTime": {
          "end_time": "2020-10-11T11:26:57.014967Z",
          "start_time": "2020-10-11T11:26:57.004965Z"
        },
        "id": "wGwevfR-5NKr"
      },
      "source": [
        "models = []\n",
        "models.append(KNeighborsClassifier(n_jobs=-1, n_neighbors=30))\n",
        "models.append(LogisticRegression())\n",
        "models.append(RandomForestClassifier(max_depth=3, n_estimators=50, n_jobs=-1))\n",
        "models.append(RandomForestClassifier(max_depth=7, n_estimators=50, n_jobs=-1))\n",
        "models.append(DecisionTreeClassifier(max_depth=8))"
      ],
      "execution_count": null,
      "outputs": []
    },
    {
      "cell_type": "code",
      "metadata": {
        "ExecuteTime": {
          "end_time": "2020-10-11T11:26:57.030960Z",
          "start_time": "2020-10-11T11:26:57.018968Z"
        },
        "id": "Spa5dWcG5NKs"
      },
      "source": [
        "meta_features_train = np.zeros((X_train.shape[0], 0))\n",
        "meta_features_test = np.zeros((X_test.shape[0], 0))"
      ],
      "execution_count": null,
      "outputs": []
    },
    {
      "cell_type": "code",
      "metadata": {
        "ExecuteTime": {
          "end_time": "2020-10-11T11:27:12.749658Z",
          "start_time": "2020-10-11T11:26:57.035963Z"
        },
        "colab": {
          "referenced_widgets": [
            "a47c05d0c9434894976ce7bb4549d620",
            "d674ab1b57fd45d5a1044503c84bcefd",
            "871e49ecbf35420ea8f6db1fbbb5edac",
            "f6a99707ef874b54bdd4921221a39c6e",
            "59cce6c9d2e44ee0ab480bada7407096",
            "e451d0533c114045a9d07209752995a1",
            "556b05a4d5664568bb7d5382dd4663ba",
            "d2466e76d44f4afe82e3883253a91141",
            "65f14402de194d7cbd6f0c4751125f94",
            "18303119e5c648ad92c56effcf36f741",
            "a4990d724b554b8089fd1072e1ea273b"
          ],
          "base_uri": "https://localhost:8080/",
          "height": 49
        },
        "id": "hnfSherJ5NKs",
        "outputId": "6024eae5-4e94-4352-e515-6b99f9aefa61"
      },
      "source": [
        "for model in tqdm(models):\n",
        "    train, test = compute_meta_feature(model, X_train, X_test, y_train, 5)\n",
        "    meta_features_train = np.append(meta_features_train, train.reshape((train.size, 1)), axis=1)\n",
        "    meta_features_test = np.append(meta_features_test, test.reshape((test.size, 1)), axis=1)"
      ],
      "execution_count": null,
      "outputs": [
        {
          "output_type": "display_data",
          "data": {
            "text/plain": [
              "  0%|          | 0/5 [00:00<?, ?it/s]"
            ],
            "application/vnd.jupyter.widget-view+json": {
              "version_major": 2,
              "version_minor": 0,
              "model_id": "a47c05d0c9434894976ce7bb4549d620"
            }
          },
          "metadata": {}
        }
      ]
    },
    {
      "cell_type": "code",
      "metadata": {
        "ExecuteTime": {
          "end_time": "2020-10-11T11:27:12.843627Z",
          "start_time": "2020-10-11T11:27:12.751643Z"
        },
        "id": "_YZCEeSg5NKs"
      },
      "source": [
        "stacking_model = LogisticRegression()\n",
        "stacking_model.fit(meta_features_train, y_train)\n",
        "\n",
        "y_train_predicted = stacking_model.predict_proba(meta_features_train)[:, 1]\n",
        "y_test_predicted = stacking_model.predict_proba(meta_features_test)[:, 1]"
      ],
      "execution_count": null,
      "outputs": []
    },
    {
      "cell_type": "code",
      "metadata": {
        "ExecuteTime": {
          "end_time": "2020-10-11T11:27:13.190633Z",
          "start_time": "2020-10-11T11:27:12.845629Z"
        },
        "id": "JAuxfaTK5NKs",
        "outputId": "09abc1ed-8b71-431a-d3f2-5b12f3724a34",
        "colab": {
          "base_uri": "https://localhost:8080/",
          "height": 439
        }
      },
      "source": [
        "train_auc = roc_auc_score(y_train, y_train_predicted)\n",
        "test_auc = roc_auc_score(y_test, y_test_predicted)\n",
        "\n",
        "plt.figure(figsize=(10,7))\n",
        "plt.plot(*roc_curve(y_train, y_train_predicted)[:2], label='train AUC={:.4f}'.format(train_auc))\n",
        "plt.plot(*roc_curve(y_test, y_test_predicted)[:2], label='test AUC={:.4f}'.format(test_auc))\n",
        "legend_box = plt.legend(fontsize='large', framealpha=1).get_frame()\n",
        "legend_box.set_facecolor(\"white\")\n",
        "legend_box.set_edgecolor(\"black\")\n",
        "plt.plot(np.linspace(0,1,100), np.linspace(0,1,100))\n",
        "plt.show()"
      ],
      "execution_count": null,
      "outputs": [
        {
          "output_type": "display_data",
          "data": {
            "text/plain": [
              "<Figure size 720x504 with 1 Axes>"
            ],
            "image/png": "[encoded data removed]"
          },
          "metadata": {
            "needs_background": "light"
          }
        }
      ]
    },
    {
      "cell_type": "markdown",
      "metadata": {
        "id": "eRH_kLzL5NKt"
      },
      "source": [
        "# Бустинг\n",
        "\n",
        "Попробуем в пару-тройку строк побить всё то качество, которое мы так усердно искали."
      ]
    },
    {
      "cell_type": "code",
      "metadata": {
        "id": "R2mNDe9j5NKt"
      },
      "source": [
        "# если этого модуля нет, то нужно раскомментировать следующую строчку и запустить\n",
        "#!pip install xgboost"
      ],
      "execution_count": null,
      "outputs": []
    },
    {
      "cell_type": "code",
      "metadata": {
        "ExecuteTime": {
          "end_time": "2020-10-11T11:28:06.684705Z",
          "start_time": "2020-10-11T11:28:06.681692Z"
        },
        "id": "y3JVBOwH5NKt"
      },
      "source": [
        "import xgboost"
      ],
      "execution_count": null,
      "outputs": []
    },
    {
      "cell_type": "code",
      "metadata": {
        "ExecuteTime": {
          "end_time": "2020-10-11T11:28:27.128797Z",
          "start_time": "2020-10-11T11:28:07.577620Z"
        },
        "id": "V6J2K-pZ5NKt"
      },
      "source": [
        "boosting_model = xgboost.XGBClassifier(n_estimators=500)\n",
        "\n",
        "boosting_model.fit(X_train, y_train)\n",
        "\n",
        "y_train_predicted = boosting_model.predict_proba(X_train)[:, 1]\n",
        "y_test_predicted = boosting_model.predict_proba(X_test)[:, 1]"
      ],
      "execution_count": null,
      "outputs": []
    },
    {
      "cell_type": "code",
      "metadata": {
        "ExecuteTime": {
          "end_time": "2020-10-11T11:28:27.445649Z",
          "start_time": "2020-10-11T11:28:27.131613Z"
        },
        "id": "Xt_5a7Pz5NKt",
        "outputId": "8882a038-c520-43e1-d3ba-f6903803bb8b",
        "colab": {
          "base_uri": "https://localhost:8080/",
          "height": 439
        }
      },
      "source": [
        "train_auc = roc_auc_score(y_train, y_train_predicted)\n",
        "test_auc = roc_auc_score(y_test, y_test_predicted)\n",
        "\n",
        "plt.figure(figsize=(10,7))\n",
        "plt.plot(*roc_curve(y_train, y_train_predicted)[:2], label='train AUC={:.4f}'.format(train_auc))\n",
        "plt.plot(*roc_curve(y_test, y_test_predicted)[:2], label='test AUC={:.4f}'.format(test_auc))\n",
        "legend_box = plt.legend(fontsize='large', framealpha=1).get_frame()\n",
        "legend_box.set_facecolor(\"white\")\n",
        "legend_box.set_edgecolor(\"black\")\n",
        "plt.plot(np.linspace(0,1,100), np.linspace(0,1,100))\n",
        "plt.show()"
      ],
      "execution_count": null,
      "outputs": [
        {
          "output_type": "display_data",
          "data": {
            "text/plain": [
              "<Figure size 720x504 with 1 Axes>"
            ],
            "image/png": "[encoded data removed]"
          },
          "metadata": {
            "needs_background": "light"
          }
        }
      ]
    },
    {
      "cell_type": "markdown",
      "metadata": {
        "id": "QCH3dA9Q5NKu"
      },
      "source": [
        "Круто, да? А теперь попробуем \"отечественного\" производителя - CatBoost от Яндекса."
      ]
    },
    {
      "cell_type": "code",
      "metadata": {
        "id": "kes8BMcF5NKu",
        "colab": {
          "base_uri": "https://localhost:8080/"
        },
        "outputId": "f3cafddf-0f97-4bcf-cf49-059c75a97a83"
      },
      "source": [
        "# если этого модуля нет, то нужно раскомментировать следующую строчку и запустить\n",
        "!pip install catboost"
      ],
      "execution_count": null,
      "outputs": [
        {
          "output_type": "stream",
          "name": "stdout",
          "text": [
            "Looking in indexes: https://pypi.org/simple, https://us-python.pkg.dev/colab-wheels/public/simple/\n",
            "Collecting catboost\n",
            "  Downloading catboost-1.1.1-cp37-none-manylinux1_x86_64.whl (76.6 MB)\n",
            "\u001b[K     |████████████████████████████████| 76.6 MB 119 kB/s \n",
            "\u001b[?25hRequirement already satisfied: pandas>=0.24.0 in /usr/local/lib/python3.7/dist-packages (from catboost) (1.3.5)\n",
            "Requirement already satisfied: matplotlib in /usr/local/lib/python3.7/dist-packages (from catboost) (3.2.2)\n",
            "Requirement already satisfied: scipy in /usr/local/lib/python3.7/dist-packages (from catboost) (1.7.3)\n",
            "Requirement already satisfied: numpy>=1.16.0 in /usr/local/lib/python3.7/dist-packages (from catboost) (1.21.6)\n",
            "Requirement already satisfied: plotly in /usr/local/lib/python3.7/dist-packages (from catboost) (5.5.0)\n",
            "Requirement already satisfied: graphviz in /usr/local/lib/python3.7/dist-packages (from catboost) (0.10.1)\n",
            "Requirement already satisfied: six in /usr/local/lib/python3.7/dist-packages (from catboost) (1.15.0)\n",
            "Requirement already satisfied: python-dateutil>=2.7.3 in /usr/local/lib/python3.7/dist-packages (from pandas>=0.24.0->catboost) (2.8.2)\n",
            "Requirement already satisfied: pytz>=2017.3 in /usr/local/lib/python3.7/dist-packages (from pandas>=0.24.0->catboost) (2022.6)\n",
            "Requirement already satisfied: pyparsing!=2.0.4,!=2.1.2,!=2.1.6,>=2.0.1 in /usr/local/lib/python3.7/dist-packages (from matplotlib->catboost) (3.0.9)\n",
            "Requirement already satisfied: kiwisolver>=1.0.1 in /usr/local/lib/python3.7/dist-packages (from matplotlib->catboost) (1.4.4)\n",
            "Requirement already satisfied: cycler>=0.10 in /usr/local/lib/python3.7/dist-packages (from matplotlib->catboost) (0.11.0)\n",
            "Requirement already satisfied: typing-extensions in /usr/local/lib/python3.7/dist-packages (from kiwisolver>=1.0.1->matplotlib->catboost) (4.1.1)\n",
            "Requirement already satisfied: tenacity>=6.2.0 in /usr/local/lib/python3.7/dist-packages (from plotly->catboost) (8.1.0)\n",
            "Installing collected packages: catboost\n",
            "Successfully installed catboost-1.1.1\n"
          ]
        }
      ]
    },
    {
      "cell_type": "code",
      "metadata": {
        "ExecuteTime": {
          "end_time": "2020-10-11T11:51:29.433169Z",
          "start_time": "2020-10-11T11:51:29.429171Z"
        },
        "id": "jb5Wqca55NKu"
      },
      "source": [
        "import catboost # документация: https://catboost.ai/docs"
      ],
      "execution_count": null,
      "outputs": []
    },
    {
      "cell_type": "code",
      "metadata": {
        "ExecuteTime": {
          "end_time": "2020-10-11T11:51:31.665855Z",
          "start_time": "2020-10-11T11:51:31.628858Z"
        },
        "id": "z7TGCsyD5NKu"
      },
      "source": [
        "# CatBoost умеет работать с категориальными признаками сам\n",
        "X_train_origin, X_test_origin, _, _ = train_test_split(X_origin.values, y.values, \n",
        "                                                       train_size=0.8, \n",
        "                                                       random_state=42)"
      ],
      "execution_count": null,
      "outputs": []
    },
    {
      "cell_type": "markdown",
      "metadata": {
        "id": "rWVPPVSu5NKv"
      },
      "source": [
        "![docs_one_hot.png](https://drive.google.com/uc?export=view&id=119U7_cTX8imN13rr3Bi-vevHjo7kEXr6)\n",
        "\n",
        "(из документации CatBoost)"
      ]
    },
    {
      "cell_type": "code",
      "metadata": {
        "ExecuteTime": {
          "end_time": "2020-10-11T11:51:52.344278Z",
          "start_time": "2020-10-11T11:51:34.612167Z"
        },
        "scrolled": true,
        "id": "Zn9PoNsW5NKv",
        "outputId": "69983c2e-e757-45bf-ab79-c61bf6bf2eee",
        "colab": {
          "base_uri": "https://localhost:8080/"
        }
      },
      "source": [
        "boosting_model = catboost.CatBoostClassifier(n_estimators=200, \n",
        "                                             cat_features=categorical_indices)\n",
        "\n",
        "boosting_model.fit(X_train_origin, y_train)\n",
        "\n",
        "y_train_predicted = boosting_model.predict_proba(X_train_origin)[:, 1]\n",
        "y_test_predicted = boosting_model.predict_proba(X_test_origin)[:, 1]"
      ],
      "execution_count": null,
      "outputs": [
        {
          "output_type": "stream",
          "name": "stdout",
          "text": [
            "Learning rate set to 0.175479\n",
            "0:\tlearn: 0.5372165\ttotal: 58.5ms\tremaining: 11.6s\n",
            "1:\tlearn: 0.4526979\ttotal: 107ms\tremaining: 10.6s\n",
            "2:\tlearn: 0.4081255\ttotal: 158ms\tremaining: 10.4s\n",
            "3:\tlearn: 0.3778820\ttotal: 209ms\tremaining: 10.3s\n",
            "4:\tlearn: 0.3566011\ttotal: 258ms\tremaining: 10.1s\n",
            "5:\tlearn: 0.3455788\ttotal: 307ms\tremaining: 9.91s\n",
            "6:\tlearn: 0.3350149\ttotal: 368ms\tremaining: 10.1s\n",
            "7:\tlearn: 0.3268511\ttotal: 424ms\tremaining: 10.2s\n",
            "8:\tlearn: 0.3229313\ttotal: 480ms\tremaining: 10.2s\n",
            "9:\tlearn: 0.3186000\ttotal: 528ms\tremaining: 10s\n",
            "10:\tlearn: 0.3160912\ttotal: 572ms\tremaining: 9.83s\n",
            "11:\tlearn: 0.3135176\ttotal: 622ms\tremaining: 9.75s\n",
            "12:\tlearn: 0.3106304\ttotal: 679ms\tremaining: 9.76s\n",
            "13:\tlearn: 0.3088799\ttotal: 733ms\tremaining: 9.73s\n",
            "14:\tlearn: 0.3069790\ttotal: 783ms\tremaining: 9.66s\n",
            "15:\tlearn: 0.3054777\ttotal: 831ms\tremaining: 9.56s\n",
            "16:\tlearn: 0.3045585\ttotal: 885ms\tremaining: 9.53s\n",
            "17:\tlearn: 0.3026705\ttotal: 935ms\tremaining: 9.46s\n",
            "18:\tlearn: 0.3018712\ttotal: 997ms\tremaining: 9.5s\n",
            "19:\tlearn: 0.3008213\ttotal: 1.04s\tremaining: 9.4s\n",
            "20:\tlearn: 0.2996068\ttotal: 1.1s\tremaining: 9.37s\n",
            "21:\tlearn: 0.2979613\ttotal: 1.15s\tremaining: 9.28s\n",
            "22:\tlearn: 0.2973443\ttotal: 1.19s\tremaining: 9.16s\n",
            "23:\tlearn: 0.2965674\ttotal: 1.25s\tremaining: 9.14s\n",
            "24:\tlearn: 0.2955955\ttotal: 1.29s\tremaining: 9.04s\n",
            "25:\tlearn: 0.2945377\ttotal: 1.35s\tremaining: 9.03s\n",
            "26:\tlearn: 0.2937356\ttotal: 1.4s\tremaining: 8.96s\n",
            "27:\tlearn: 0.2931176\ttotal: 1.44s\tremaining: 8.83s\n",
            "28:\tlearn: 0.2925603\ttotal: 1.49s\tremaining: 8.76s\n",
            "29:\tlearn: 0.2918461\ttotal: 1.53s\tremaining: 8.67s\n",
            "30:\tlearn: 0.2917785\ttotal: 1.56s\tremaining: 8.5s\n",
            "31:\tlearn: 0.2910604\ttotal: 1.6s\tremaining: 8.41s\n",
            "32:\tlearn: 0.2904931\ttotal: 1.65s\tremaining: 8.33s\n",
            "33:\tlearn: 0.2900871\ttotal: 1.69s\tremaining: 8.23s\n",
            "34:\tlearn: 0.2897632\ttotal: 1.74s\tremaining: 8.2s\n",
            "35:\tlearn: 0.2895813\ttotal: 1.78s\tremaining: 8.11s\n",
            "36:\tlearn: 0.2892608\ttotal: 1.82s\tremaining: 8.03s\n",
            "37:\tlearn: 0.2887724\ttotal: 1.87s\tremaining: 7.96s\n",
            "38:\tlearn: 0.2886813\ttotal: 1.91s\tremaining: 7.89s\n",
            "39:\tlearn: 0.2884592\ttotal: 1.96s\tremaining: 7.83s\n",
            "40:\tlearn: 0.2883828\ttotal: 2.02s\tremaining: 7.82s\n",
            "41:\tlearn: 0.2880195\ttotal: 2.06s\tremaining: 7.75s\n",
            "42:\tlearn: 0.2876902\ttotal: 2.11s\tremaining: 7.69s\n",
            "43:\tlearn: 0.2874938\ttotal: 2.15s\tremaining: 7.62s\n",
            "44:\tlearn: 0.2870975\ttotal: 2.19s\tremaining: 7.54s\n",
            "45:\tlearn: 0.2869624\ttotal: 2.24s\tremaining: 7.49s\n",
            "46:\tlearn: 0.2867327\ttotal: 2.28s\tremaining: 7.43s\n",
            "47:\tlearn: 0.2855778\ttotal: 2.33s\tremaining: 7.38s\n",
            "48:\tlearn: 0.2842085\ttotal: 2.38s\tremaining: 7.32s\n",
            "49:\tlearn: 0.2837597\ttotal: 2.42s\tremaining: 7.27s\n",
            "50:\tlearn: 0.2834460\ttotal: 2.47s\tremaining: 7.22s\n",
            "51:\tlearn: 0.2831694\ttotal: 2.52s\tremaining: 7.16s\n",
            "52:\tlearn: 0.2828665\ttotal: 2.56s\tremaining: 7.1s\n",
            "53:\tlearn: 0.2824931\ttotal: 2.61s\tremaining: 7.05s\n",
            "54:\tlearn: 0.2821017\ttotal: 2.65s\tremaining: 6.98s\n",
            "55:\tlearn: 0.2800113\ttotal: 2.7s\tremaining: 6.96s\n",
            "56:\tlearn: 0.2796830\ttotal: 2.75s\tremaining: 6.9s\n",
            "57:\tlearn: 0.2793658\ttotal: 2.79s\tremaining: 6.84s\n",
            "58:\tlearn: 0.2790374\ttotal: 2.83s\tremaining: 6.77s\n",
            "59:\tlearn: 0.2786204\ttotal: 2.88s\tremaining: 6.73s\n",
            "60:\tlearn: 0.2782211\ttotal: 2.93s\tremaining: 6.68s\n",
            "61:\tlearn: 0.2775181\ttotal: 2.98s\tremaining: 6.63s\n",
            "62:\tlearn: 0.2771055\ttotal: 3.04s\tremaining: 6.6s\n",
            "63:\tlearn: 0.2759263\ttotal: 3.08s\tremaining: 6.55s\n",
            "64:\tlearn: 0.2755936\ttotal: 3.13s\tremaining: 6.5s\n",
            "65:\tlearn: 0.2753850\ttotal: 3.18s\tremaining: 6.45s\n",
            "66:\tlearn: 0.2749924\ttotal: 3.22s\tremaining: 6.4s\n",
            "67:\tlearn: 0.2744864\ttotal: 3.27s\tremaining: 6.36s\n",
            "68:\tlearn: 0.2742299\ttotal: 3.32s\tremaining: 6.3s\n",
            "69:\tlearn: 0.2733962\ttotal: 3.37s\tremaining: 6.26s\n",
            "70:\tlearn: 0.2732753\ttotal: 3.42s\tremaining: 6.22s\n",
            "71:\tlearn: 0.2724084\ttotal: 3.47s\tremaining: 6.17s\n",
            "72:\tlearn: 0.2721483\ttotal: 3.52s\tremaining: 6.13s\n",
            "73:\tlearn: 0.2718379\ttotal: 3.57s\tremaining: 6.08s\n",
            "74:\tlearn: 0.2711073\ttotal: 3.63s\tremaining: 6.05s\n",
            "75:\tlearn: 0.2707852\ttotal: 3.68s\tremaining: 6.01s\n",
            "76:\tlearn: 0.2705914\ttotal: 3.73s\tremaining: 5.96s\n",
            "77:\tlearn: 0.2702452\ttotal: 3.78s\tremaining: 5.91s\n",
            "78:\tlearn: 0.2698670\ttotal: 3.82s\tremaining: 5.85s\n",
            "79:\tlearn: 0.2696221\ttotal: 3.86s\tremaining: 5.79s\n",
            "80:\tlearn: 0.2693393\ttotal: 3.91s\tremaining: 5.74s\n",
            "81:\tlearn: 0.2690317\ttotal: 3.96s\tremaining: 5.7s\n",
            "82:\tlearn: 0.2687255\ttotal: 4.01s\tremaining: 5.65s\n",
            "83:\tlearn: 0.2684955\ttotal: 4.06s\tremaining: 5.61s\n",
            "84:\tlearn: 0.2682339\ttotal: 4.11s\tremaining: 5.56s\n",
            "85:\tlearn: 0.2676013\ttotal: 4.16s\tremaining: 5.51s\n",
            "86:\tlearn: 0.2673565\ttotal: 4.21s\tremaining: 5.47s\n",
            "87:\tlearn: 0.2672872\ttotal: 4.27s\tremaining: 5.43s\n",
            "88:\tlearn: 0.2669133\ttotal: 4.32s\tremaining: 5.38s\n",
            "89:\tlearn: 0.2668346\ttotal: 4.36s\tremaining: 5.33s\n",
            "90:\tlearn: 0.2667430\ttotal: 4.4s\tremaining: 5.27s\n",
            "91:\tlearn: 0.2666036\ttotal: 4.45s\tremaining: 5.22s\n",
            "92:\tlearn: 0.2663909\ttotal: 4.5s\tremaining: 5.18s\n",
            "93:\tlearn: 0.2660267\ttotal: 4.55s\tremaining: 5.13s\n",
            "94:\tlearn: 0.2657297\ttotal: 4.59s\tremaining: 5.08s\n",
            "95:\tlearn: 0.2655645\ttotal: 4.64s\tremaining: 5.03s\n",
            "96:\tlearn: 0.2652192\ttotal: 4.69s\tremaining: 4.98s\n",
            "97:\tlearn: 0.2649265\ttotal: 4.74s\tremaining: 4.93s\n",
            "98:\tlearn: 0.2648622\ttotal: 4.78s\tremaining: 4.88s\n",
            "99:\tlearn: 0.2645355\ttotal: 4.83s\tremaining: 4.83s\n",
            "100:\tlearn: 0.2644254\ttotal: 4.88s\tremaining: 4.79s\n",
            "101:\tlearn: 0.2643208\ttotal: 4.94s\tremaining: 4.75s\n",
            "102:\tlearn: 0.2641631\ttotal: 4.98s\tremaining: 4.69s\n",
            "103:\tlearn: 0.2639666\ttotal: 5.04s\tremaining: 4.66s\n",
            "104:\tlearn: 0.2637135\ttotal: 5.09s\tremaining: 4.61s\n",
            "105:\tlearn: 0.2632508\ttotal: 5.14s\tremaining: 4.56s\n",
            "106:\tlearn: 0.2629659\ttotal: 5.19s\tremaining: 4.51s\n",
            "107:\tlearn: 0.2626481\ttotal: 5.24s\tremaining: 4.47s\n",
            "108:\tlearn: 0.2625321\ttotal: 5.29s\tremaining: 4.41s\n",
            "109:\tlearn: 0.2624439\ttotal: 5.33s\tremaining: 4.36s\n",
            "110:\tlearn: 0.2621536\ttotal: 5.37s\tremaining: 4.31s\n",
            "111:\tlearn: 0.2619830\ttotal: 5.43s\tremaining: 4.27s\n",
            "112:\tlearn: 0.2617446\ttotal: 5.48s\tremaining: 4.22s\n",
            "113:\tlearn: 0.2614622\ttotal: 5.53s\tremaining: 4.17s\n",
            "114:\tlearn: 0.2612886\ttotal: 5.58s\tremaining: 4.12s\n",
            "115:\tlearn: 0.2611375\ttotal: 5.63s\tremaining: 4.08s\n",
            "116:\tlearn: 0.2609555\ttotal: 5.67s\tremaining: 4.03s\n",
            "117:\tlearn: 0.2608697\ttotal: 5.72s\tremaining: 3.98s\n",
            "118:\tlearn: 0.2607094\ttotal: 5.76s\tremaining: 3.92s\n",
            "119:\tlearn: 0.2604775\ttotal: 5.81s\tremaining: 3.87s\n",
            "120:\tlearn: 0.2603392\ttotal: 5.86s\tremaining: 3.82s\n",
            "121:\tlearn: 0.2600739\ttotal: 5.9s\tremaining: 3.77s\n",
            "122:\tlearn: 0.2598804\ttotal: 5.95s\tremaining: 3.72s\n",
            "123:\tlearn: 0.2594937\ttotal: 6s\tremaining: 3.68s\n",
            "124:\tlearn: 0.2594593\ttotal: 6.05s\tremaining: 3.63s\n",
            "125:\tlearn: 0.2592509\ttotal: 6.1s\tremaining: 3.58s\n",
            "126:\tlearn: 0.2590269\ttotal: 6.15s\tremaining: 3.54s\n",
            "127:\tlearn: 0.2588497\ttotal: 6.19s\tremaining: 3.48s\n",
            "128:\tlearn: 0.2585789\ttotal: 6.24s\tremaining: 3.43s\n",
            "129:\tlearn: 0.2584721\ttotal: 6.29s\tremaining: 3.38s\n",
            "130:\tlearn: 0.2581502\ttotal: 6.33s\tremaining: 3.34s\n",
            "131:\tlearn: 0.2580653\ttotal: 6.38s\tremaining: 3.29s\n",
            "132:\tlearn: 0.2579644\ttotal: 6.42s\tremaining: 3.23s\n",
            "133:\tlearn: 0.2577078\ttotal: 6.47s\tremaining: 3.19s\n",
            "134:\tlearn: 0.2575713\ttotal: 6.52s\tremaining: 3.14s\n",
            "135:\tlearn: 0.2574865\ttotal: 6.57s\tremaining: 3.09s\n",
            "136:\tlearn: 0.2569952\ttotal: 6.62s\tremaining: 3.04s\n",
            "137:\tlearn: 0.2567287\ttotal: 6.67s\tremaining: 3s\n",
            "138:\tlearn: 0.2565516\ttotal: 6.71s\tremaining: 2.94s\n",
            "139:\tlearn: 0.2563079\ttotal: 6.76s\tremaining: 2.9s\n",
            "140:\tlearn: 0.2562292\ttotal: 6.8s\tremaining: 2.85s\n",
            "141:\tlearn: 0.2559342\ttotal: 6.85s\tremaining: 2.8s\n",
            "142:\tlearn: 0.2556401\ttotal: 6.9s\tremaining: 2.75s\n",
            "143:\tlearn: 0.2555059\ttotal: 6.94s\tremaining: 2.7s\n",
            "144:\tlearn: 0.2553755\ttotal: 6.99s\tremaining: 2.65s\n",
            "145:\tlearn: 0.2553585\ttotal: 7.03s\tremaining: 2.6s\n",
            "146:\tlearn: 0.2551092\ttotal: 7.08s\tremaining: 2.55s\n",
            "147:\tlearn: 0.2550307\ttotal: 7.12s\tremaining: 2.5s\n",
            "148:\tlearn: 0.2548189\ttotal: 7.16s\tremaining: 2.45s\n",
            "149:\tlearn: 0.2545765\ttotal: 7.21s\tremaining: 2.4s\n",
            "150:\tlearn: 0.2540582\ttotal: 7.27s\tremaining: 2.36s\n",
            "151:\tlearn: 0.2539452\ttotal: 7.31s\tremaining: 2.31s\n",
            "152:\tlearn: 0.2536857\ttotal: 7.35s\tremaining: 2.26s\n",
            "153:\tlearn: 0.2535754\ttotal: 7.4s\tremaining: 2.21s\n",
            "154:\tlearn: 0.2534077\ttotal: 7.44s\tremaining: 2.16s\n",
            "155:\tlearn: 0.2532591\ttotal: 7.49s\tremaining: 2.11s\n",
            "156:\tlearn: 0.2530820\ttotal: 7.53s\tremaining: 2.06s\n",
            "157:\tlearn: 0.2529139\ttotal: 7.58s\tremaining: 2.01s\n",
            "158:\tlearn: 0.2525228\ttotal: 7.63s\tremaining: 1.97s\n",
            "159:\tlearn: 0.2524081\ttotal: 7.67s\tremaining: 1.92s\n",
            "160:\tlearn: 0.2522822\ttotal: 7.72s\tremaining: 1.87s\n",
            "161:\tlearn: 0.2521567\ttotal: 7.76s\tremaining: 1.82s\n",
            "162:\tlearn: 0.2520546\ttotal: 7.81s\tremaining: 1.77s\n",
            "163:\tlearn: 0.2518059\ttotal: 7.86s\tremaining: 1.73s\n",
            "164:\tlearn: 0.2515874\ttotal: 7.92s\tremaining: 1.68s\n",
            "165:\tlearn: 0.2514340\ttotal: 7.97s\tremaining: 1.63s\n",
            "166:\tlearn: 0.2513762\ttotal: 8.02s\tremaining: 1.58s\n",
            "167:\tlearn: 0.2512300\ttotal: 8.06s\tremaining: 1.54s\n",
            "168:\tlearn: 0.2510750\ttotal: 8.12s\tremaining: 1.49s\n",
            "169:\tlearn: 0.2509884\ttotal: 8.18s\tremaining: 1.44s\n",
            "170:\tlearn: 0.2507551\ttotal: 8.22s\tremaining: 1.39s\n",
            "171:\tlearn: 0.2507238\ttotal: 8.27s\tremaining: 1.35s\n",
            "172:\tlearn: 0.2504978\ttotal: 8.31s\tremaining: 1.3s\n",
            "173:\tlearn: 0.2503702\ttotal: 8.36s\tremaining: 1.25s\n",
            "174:\tlearn: 0.2501651\ttotal: 8.42s\tremaining: 1.2s\n",
            "175:\tlearn: 0.2498019\ttotal: 8.46s\tremaining: 1.15s\n",
            "176:\tlearn: 0.2496528\ttotal: 8.51s\tremaining: 1.1s\n",
            "177:\tlearn: 0.2496287\ttotal: 8.54s\tremaining: 1.06s\n",
            "178:\tlearn: 0.2495429\ttotal: 8.6s\tremaining: 1.01s\n",
            "179:\tlearn: 0.2492700\ttotal: 8.65s\tremaining: 961ms\n",
            "180:\tlearn: 0.2491140\ttotal: 8.7s\tremaining: 913ms\n",
            "181:\tlearn: 0.2489606\ttotal: 8.75s\tremaining: 865ms\n",
            "182:\tlearn: 0.2487129\ttotal: 8.8s\tremaining: 817ms\n",
            "183:\tlearn: 0.2484792\ttotal: 8.85s\tremaining: 769ms\n",
            "184:\tlearn: 0.2483504\ttotal: 8.9s\tremaining: 721ms\n",
            "185:\tlearn: 0.2482344\ttotal: 8.95s\tremaining: 673ms\n",
            "186:\tlearn: 0.2481589\ttotal: 8.99s\tremaining: 625ms\n",
            "187:\tlearn: 0.2479290\ttotal: 9.03s\tremaining: 577ms\n",
            "188:\tlearn: 0.2477150\ttotal: 9.08s\tremaining: 529ms\n",
            "189:\tlearn: 0.2475188\ttotal: 9.14s\tremaining: 481ms\n",
            "190:\tlearn: 0.2473529\ttotal: 9.19s\tremaining: 433ms\n",
            "191:\tlearn: 0.2472749\ttotal: 9.24s\tremaining: 385ms\n",
            "192:\tlearn: 0.2471787\ttotal: 9.29s\tremaining: 337ms\n",
            "193:\tlearn: 0.2470403\ttotal: 9.34s\tremaining: 289ms\n",
            "194:\tlearn: 0.2469420\ttotal: 9.39s\tremaining: 241ms\n",
            "195:\tlearn: 0.2468163\ttotal: 9.44s\tremaining: 193ms\n",
            "196:\tlearn: 0.2467092\ttotal: 9.48s\tremaining: 144ms\n",
            "197:\tlearn: 0.2465868\ttotal: 9.53s\tremaining: 96.2ms\n",
            "198:\tlearn: 0.2462862\ttotal: 9.58s\tremaining: 48.1ms\n",
            "199:\tlearn: 0.2459744\ttotal: 9.63s\tremaining: 0us\n"
          ]
        }
      ]
    },
    {
      "cell_type": "code",
      "metadata": {
        "ExecuteTime": {
          "end_time": "2020-10-11T11:51:57.285685Z",
          "start_time": "2020-10-11T11:51:56.847671Z"
        },
        "id": "jIuyqwAk5NKv",
        "outputId": "3ee5c947-5c73-47b6-c8ff-b6a59c8b0c93",
        "colab": {
          "base_uri": "https://localhost:8080/",
          "height": 439
        }
      },
      "source": [
        "train_auc = roc_auc_score(y_train, y_train_predicted)\n",
        "test_auc = roc_auc_score(y_test, y_test_predicted)\n",
        "\n",
        "plt.figure(figsize=(10,7))\n",
        "plt.plot(*roc_curve(y_train, y_train_predicted)[:2], label='train AUC={:.4f}'.format(train_auc))\n",
        "plt.plot(*roc_curve(y_test, y_test_predicted)[:2], label='test AUC={:.4f}'.format(test_auc))\n",
        "legend_box = plt.legend(fontsize='large', framealpha=1).get_frame()\n",
        "legend_box.set_facecolor(\"white\")\n",
        "legend_box.set_edgecolor(\"black\")\n",
        "plt.plot(np.linspace(0,1,100), np.linspace(0,1,100))\n",
        "plt.show()"
      ],
      "execution_count": null,
      "outputs": [
        {
          "output_type": "display_data",
          "data": {
            "text/plain": [
              "<Figure size 720x504 with 1 Axes>"
            ],
            "image/png": "[encoded data removed]"
          },
          "metadata": {
            "needs_background": "light"
          }
        }
      ]
    },
    {
      "cell_type": "code",
      "metadata": {
        "ExecuteTime": {
          "end_time": "2020-10-11T12:06:59.237838Z",
          "start_time": "2020-10-11T11:58:19.510026Z"
        },
        "scrolled": false,
        "colab": {
          "referenced_widgets": [
            "59c29ea1fb4b4812889eece901510605"
          ],
          "base_uri": "https://localhost:8080/",
          "height": 1000
        },
        "id": "iHqhkP2Z5NKv",
        "outputId": "7ee65399-cba3-4291-8b9b-a703dfcc2537"
      },
      "source": [
        "boosting_model = catboost.CatBoostClassifier(n_estimators=200, silent=True,\n",
        "                                             cat_features=categorical_indices,\n",
        "                                             eval_metric='AUC')\n",
        "boosting_model.grid_search({'l2_leaf_reg': np.linspace(0, 1, 20)}, \n",
        "                           X_train_origin, \n",
        "                           y_train, plot=True, refit=True)"
      ],
      "execution_count": null,
      "outputs": [
        {
          "output_type": "display_data",
          "data": {
            "text/plain": [
              "MetricVisualizer(layout=Layout(align_self='stretch', height='500px'))"
            ],
            "application/vnd.jupyter.widget-view+json": {
              "version_major": 2,
              "version_minor": 0,
              "model_id": "59c29ea1fb4b4812889eece901510605"
            }
          },
          "metadata": {}
        },
        {
          "output_type": "stream",
          "name": "stdout",
          "text": [
            "\n",
            "bestTest = 0.9209583417\n",
            "bestIteration = 199\n",
            "\n",
            "Metric AUC is not calculated on train by default. To calculate this metric on train, add hints=skip_train~false to metric parameters.\n",
            "0:\tloss: 0.9209583\tbest: 0.9209583 (0)\ttotal: 8.95s\tremaining: 2m 50s\n",
            "\n",
            "bestTest = 0.9199247431\n",
            "bestIteration = 199\n",
            "\n",
            "Metric AUC is not calculated on train by default. To calculate this metric on train, add hints=skip_train~false to metric parameters.\n",
            "1:\tloss: 0.9199247\tbest: 0.9209583 (0)\ttotal: 18s\tremaining: 2m 41s\n",
            "\n",
            "bestTest = 0.9196754106\n",
            "bestIteration = 199\n",
            "\n",
            "Metric AUC is not calculated on train by default. To calculate this metric on train, add hints=skip_train~false to metric parameters.\n",
            "2:\tloss: 0.9196754\tbest: 0.9209583 (0)\ttotal: 26.8s\tremaining: 2m 31s\n",
            "\n",
            "bestTest = 0.9198087067\n",
            "bestIteration = 199\n",
            "\n",
            "Metric AUC is not calculated on train by default. To calculate this metric on train, add hints=skip_train~false to metric parameters.\n",
            "3:\tloss: 0.9198087\tbest: 0.9209583 (0)\ttotal: 35.6s\tremaining: 2m 22s\n",
            "\n",
            "bestTest = 0.9195920277\n",
            "bestIteration = 194\n",
            "\n",
            "Metric AUC is not calculated on train by default. To calculate this metric on train, add hints=skip_train~false to metric parameters.\n",
            "4:\tloss: 0.9195920\tbest: 0.9209583 (0)\ttotal: 44.7s\tremaining: 2m 14s\n",
            "\n",
            "bestTest = 0.9200501091\n",
            "bestIteration = 199\n",
            "\n",
            "Metric AUC is not calculated on train by default. To calculate this metric on train, add hints=skip_train~false to metric parameters.\n",
            "5:\tloss: 0.9200501\tbest: 0.9209583 (0)\ttotal: 57.7s\tremaining: 2m 14s\n",
            "\n",
            "bestTest = 0.9200811298\n",
            "bestIteration = 198\n",
            "\n",
            "Metric AUC is not calculated on train by default. To calculate this metric on train, add hints=skip_train~false to metric parameters.\n",
            "6:\tloss: 0.9200811\tbest: 0.9209583 (0)\ttotal: 1m 6s\tremaining: 2m 4s\n",
            "\n",
            "bestTest = 0.9196175674\n",
            "bestIteration = 199\n",
            "\n",
            "Metric AUC is not calculated on train by default. To calculate this metric on train, add hints=skip_train~false to metric parameters.\n",
            "7:\tloss: 0.9196176\tbest: 0.9209583 (0)\ttotal: 1m 15s\tremaining: 1m 53s\n",
            "\n",
            "bestTest = 0.9191938888\n",
            "bestIteration = 198\n",
            "\n",
            "Metric AUC is not calculated on train by default. To calculate this metric on train, add hints=skip_train~false to metric parameters.\n",
            "8:\tloss: 0.9191939\tbest: 0.9209583 (0)\ttotal: 1m 24s\tremaining: 1m 43s\n",
            "\n",
            "bestTest = 0.9200737828\n",
            "bestIteration = 199\n",
            "\n",
            "Metric AUC is not calculated on train by default. To calculate this metric on train, add hints=skip_train~false to metric parameters.\n",
            "9:\tloss: 0.9200738\tbest: 0.9209583 (0)\ttotal: 1m 33s\tremaining: 1m 33s\n",
            "\n",
            "bestTest = 0.9190363358\n",
            "bestIteration = 199\n",
            "\n",
            "Metric AUC is not calculated on train by default. To calculate this metric on train, add hints=skip_train~false to metric parameters.\n",
            "10:\tloss: 0.9190363\tbest: 0.9209583 (0)\ttotal: 1m 42s\tremaining: 1m 23s\n",
            "\n",
            "bestTest = 0.9196817081\n",
            "bestIteration = 198\n",
            "\n",
            "Metric AUC is not calculated on train by default. To calculate this metric on train, add hints=skip_train~false to metric parameters.\n",
            "11:\tloss: 0.9196817\tbest: 0.9209583 (0)\ttotal: 1m 51s\tremaining: 1m 14s\n",
            "\n",
            "bestTest = 0.9184000599\n",
            "bestIteration = 199\n",
            "\n",
            "Metric AUC is not calculated on train by default. To calculate this metric on train, add hints=skip_train~false to metric parameters.\n",
            "12:\tloss: 0.9184001\tbest: 0.9209583 (0)\ttotal: 2m\tremaining: 1m 4s\n",
            "\n",
            "bestTest = 0.919517158\n",
            "bestIteration = 199\n",
            "\n",
            "Metric AUC is not calculated on train by default. To calculate this metric on train, add hints=skip_train~false to metric parameters.\n",
            "13:\tloss: 0.9195172\tbest: 0.9209583 (0)\ttotal: 2m 9s\tremaining: 55.5s\n",
            "\n",
            "bestTest = 0.9193578558\n",
            "bestIteration = 199\n",
            "\n",
            "Metric AUC is not calculated on train by default. To calculate this metric on train, add hints=skip_train~false to metric parameters.\n",
            "14:\tloss: 0.9193579\tbest: 0.9209583 (0)\ttotal: 2m 18s\tremaining: 46.1s\n",
            "\n",
            "bestTest = 0.9193783808\n",
            "bestIteration = 199\n",
            "\n",
            "Metric AUC is not calculated on train by default. To calculate this metric on train, add hints=skip_train~false to metric parameters.\n",
            "15:\tloss: 0.9193784\tbest: 0.9209583 (0)\ttotal: 2m 27s\tremaining: 36.8s\n",
            "\n",
            "bestTest = 0.9191811772\n",
            "bestIteration = 196\n",
            "\n",
            "Metric AUC is not calculated on train by default. To calculate this metric on train, add hints=skip_train~false to metric parameters.\n",
            "16:\tloss: 0.9191812\tbest: 0.9209583 (0)\ttotal: 2m 36s\tremaining: 27.6s\n",
            "\n",
            "bestTest = 0.9191026923\n",
            "bestIteration = 199\n",
            "\n",
            "Metric AUC is not calculated on train by default. To calculate this metric on train, add hints=skip_train~false to metric parameters.\n",
            "17:\tloss: 0.9191027\tbest: 0.9209583 (0)\ttotal: 2m 45s\tremaining: 18.4s\n",
            "\n",
            "bestTest = 0.9190652575\n",
            "bestIteration = 199\n",
            "\n",
            "Metric AUC is not calculated on train by default. To calculate this metric on train, add hints=skip_train~false to metric parameters.\n",
            "18:\tloss: 0.9190653\tbest: 0.9209583 (0)\ttotal: 2m 54s\tremaining: 9.17s\n",
            "\n",
            "bestTest = 0.919016044\n",
            "bestIteration = 198\n",
            "\n",
            "Metric AUC is not calculated on train by default. To calculate this metric on train, add hints=skip_train~false to metric parameters.\n",
            "19:\tloss: 0.9190160\tbest: 0.9209583 (0)\ttotal: 3m 3s\tremaining: 0us\n",
            "Estimating final quality...\n",
            "Training on fold [0/3]\n",
            "\n",
            "bestTest = 0.9203665104\n",
            "bestIteration = 198\n",
            "\n",
            "Training on fold [1/3]\n",
            "\n",
            "bestTest = 0.92035998\n",
            "bestIteration = 197\n",
            "\n",
            "Training on fold [2/3]\n",
            "\n",
            "bestTest = 0.9200363637\n",
            "bestIteration = 199\n",
            "\n"
          ]
        },
        {
          "output_type": "error",
          "ename": "KeyboardInterrupt",
          "evalue": "ignored",
          "traceback": [
            "\u001b[0;31m---------------------------------------------------------------------------\u001b[0m",
            "\u001b[0;31mKeyboardInterrupt\u001b[0m                         Traceback (most recent call last)",
            "\u001b[0;32m<ipython-input-65-382df49571cc>\u001b[0m in \u001b[0;36m<module>\u001b[0;34m\u001b[0m\n\u001b[1;32m      4\u001b[0m boosting_model.grid_search({'l2_leaf_reg': np.linspace(0, 1, 20)}, \n\u001b[1;32m      5\u001b[0m                            \u001b[0mX_train_origin\u001b[0m\u001b[0;34m,\u001b[0m\u001b[0;34m\u001b[0m\u001b[0;34m\u001b[0m\u001b[0m\n\u001b[0;32m----> 6\u001b[0;31m                            y_train, plot=True, refit=True)\n\u001b[0m",
            "\u001b[0;32m/usr/local/lib/python3.7/dist-packages/catboost/core.py\u001b[0m in \u001b[0;36mgrid_search\u001b[0;34m(self, param_grid, X, y, cv, partition_random_seed, calc_cv_statistics, search_by_train_test_split, refit, shuffle, stratified, train_size, verbose, plot, plot_file, log_cout, log_cerr)\u001b[0m\n\u001b[1;32m   4125\u001b[0m             \u001b[0msearch_by_train_test_split\u001b[0m\u001b[0;34m=\u001b[0m\u001b[0msearch_by_train_test_split\u001b[0m\u001b[0;34m,\u001b[0m \u001b[0mrefit\u001b[0m\u001b[0;34m=\u001b[0m\u001b[0mrefit\u001b[0m\u001b[0;34m,\u001b[0m \u001b[0mshuffle\u001b[0m\u001b[0;34m=\u001b[0m\u001b[0mshuffle\u001b[0m\u001b[0;34m,\u001b[0m\u001b[0;34m\u001b[0m\u001b[0;34m\u001b[0m\u001b[0m\n\u001b[1;32m   4126\u001b[0m             \u001b[0mstratified\u001b[0m\u001b[0;34m=\u001b[0m\u001b[0mstratified\u001b[0m\u001b[0;34m,\u001b[0m \u001b[0mtrain_size\u001b[0m\u001b[0;34m=\u001b[0m\u001b[0mtrain_size\u001b[0m\u001b[0;34m,\u001b[0m \u001b[0mverbose\u001b[0m\u001b[0;34m=\u001b[0m\u001b[0mverbose\u001b[0m\u001b[0;34m,\u001b[0m \u001b[0mplot\u001b[0m\u001b[0;34m=\u001b[0m\u001b[0mplot\u001b[0m\u001b[0;34m,\u001b[0m \u001b[0mplot_file\u001b[0m\u001b[0;34m=\u001b[0m\u001b[0mplot_file\u001b[0m\u001b[0;34m,\u001b[0m\u001b[0;34m\u001b[0m\u001b[0;34m\u001b[0m\u001b[0m\n\u001b[0;32m-> 4127\u001b[0;31m             \u001b[0mlog_cout\u001b[0m\u001b[0;34m=\u001b[0m\u001b[0mlog_cout\u001b[0m\u001b[0;34m,\u001b[0m \u001b[0mlog_cerr\u001b[0m\u001b[0;34m=\u001b[0m\u001b[0mlog_cerr\u001b[0m\u001b[0;34m,\u001b[0m\u001b[0;34m\u001b[0m\u001b[0;34m\u001b[0m\u001b[0m\n\u001b[0m\u001b[1;32m   4128\u001b[0m         )\n\u001b[1;32m   4129\u001b[0m \u001b[0;34m\u001b[0m\u001b[0m\n",
            "\u001b[0;32m/usr/local/lib/python3.7/dist-packages/catboost/core.py\u001b[0m in \u001b[0;36m_tune_hyperparams\u001b[0;34m(self, param_grid, X, y, cv, n_iter, partition_random_seed, calc_cv_statistics, search_by_train_test_split, refit, shuffle, stratified, train_size, verbose, plot, plot_file, log_cout, log_cerr)\u001b[0m\n\u001b[1;32m   4023\u001b[0m             \u001b[0;32massert\u001b[0m \u001b[0;32mnot\u001b[0m \u001b[0mself\u001b[0m\u001b[0;34m.\u001b[0m\u001b[0mis_fitted\u001b[0m\u001b[0;34m(\u001b[0m\u001b[0;34m)\u001b[0m\u001b[0;34m\u001b[0m\u001b[0;34m\u001b[0m\u001b[0m\n\u001b[1;32m   4024\u001b[0m             \u001b[0mself\u001b[0m\u001b[0;34m.\u001b[0m\u001b[0mset_params\u001b[0m\u001b[0;34m(\u001b[0m\u001b[0;34m**\u001b[0m\u001b[0mcv_result\u001b[0m\u001b[0;34m[\u001b[0m\u001b[0;34m'params'\u001b[0m\u001b[0;34m]\u001b[0m\u001b[0;34m)\u001b[0m\u001b[0;34m\u001b[0m\u001b[0;34m\u001b[0m\u001b[0m\n\u001b[0;32m-> 4025\u001b[0;31m             \u001b[0mself\u001b[0m\u001b[0;34m.\u001b[0m\u001b[0mfit\u001b[0m\u001b[0;34m(\u001b[0m\u001b[0mX\u001b[0m\u001b[0;34m,\u001b[0m \u001b[0my\u001b[0m\u001b[0;34m,\u001b[0m \u001b[0msilent\u001b[0m\u001b[0;34m=\u001b[0m\u001b[0;32mTrue\u001b[0m\u001b[0;34m)\u001b[0m\u001b[0;34m\u001b[0m\u001b[0;34m\u001b[0m\u001b[0m\n\u001b[0m\u001b[1;32m   4026\u001b[0m         \u001b[0;32mreturn\u001b[0m \u001b[0mcv_result\u001b[0m\u001b[0;34m\u001b[0m\u001b[0;34m\u001b[0m\u001b[0m\n\u001b[1;32m   4027\u001b[0m \u001b[0;34m\u001b[0m\u001b[0m\n",
            "\u001b[0;32m/usr/local/lib/python3.7/dist-packages/catboost/core.py\u001b[0m in \u001b[0;36mfit\u001b[0;34m(self, X, y, cat_features, text_features, embedding_features, sample_weight, baseline, use_best_model, eval_set, verbose, logging_level, plot, plot_file, column_description, verbose_eval, metric_period, silent, early_stopping_rounds, save_snapshot, snapshot_file, snapshot_interval, init_model, callbacks, log_cout, log_cerr)\u001b[0m\n\u001b[1;32m   5128\u001b[0m         self._fit(X, y, cat_features, text_features, embedding_features, None, sample_weight, None, None, None, None, baseline, use_best_model,\n\u001b[1;32m   5129\u001b[0m                   \u001b[0meval_set\u001b[0m\u001b[0;34m,\u001b[0m \u001b[0mverbose\u001b[0m\u001b[0;34m,\u001b[0m \u001b[0mlogging_level\u001b[0m\u001b[0;34m,\u001b[0m \u001b[0mplot\u001b[0m\u001b[0;34m,\u001b[0m \u001b[0mplot_file\u001b[0m\u001b[0;34m,\u001b[0m \u001b[0mcolumn_description\u001b[0m\u001b[0;34m,\u001b[0m \u001b[0mverbose_eval\u001b[0m\u001b[0;34m,\u001b[0m \u001b[0mmetric_period\u001b[0m\u001b[0;34m,\u001b[0m\u001b[0;34m\u001b[0m\u001b[0;34m\u001b[0m\u001b[0m\n\u001b[0;32m-> 5130\u001b[0;31m                   silent, early_stopping_rounds, save_snapshot, snapshot_file, snapshot_interval, init_model, callbacks, log_cout, log_cerr)\n\u001b[0m\u001b[1;32m   5131\u001b[0m         \u001b[0;32mreturn\u001b[0m \u001b[0mself\u001b[0m\u001b[0;34m\u001b[0m\u001b[0;34m\u001b[0m\u001b[0m\n\u001b[1;32m   5132\u001b[0m \u001b[0;34m\u001b[0m\u001b[0m\n",
            "\u001b[0;32m/usr/local/lib/python3.7/dist-packages/catboost/core.py\u001b[0m in \u001b[0;36m_fit\u001b[0;34m(self, X, y, cat_features, text_features, embedding_features, pairs, sample_weight, group_id, group_weight, subgroup_id, pairs_weight, baseline, use_best_model, eval_set, verbose, logging_level, plot, plot_file, column_description, verbose_eval, metric_period, silent, early_stopping_rounds, save_snapshot, snapshot_file, snapshot_interval, init_model, callbacks, log_cout, log_cerr)\u001b[0m\n\u001b[1;32m   2358\u001b[0m                 \u001b[0mparams\u001b[0m\u001b[0;34m,\u001b[0m\u001b[0;34m\u001b[0m\u001b[0;34m\u001b[0m\u001b[0m\n\u001b[1;32m   2359\u001b[0m                 \u001b[0mallow_clear_pool\u001b[0m\u001b[0;34m,\u001b[0m\u001b[0;34m\u001b[0m\u001b[0;34m\u001b[0m\u001b[0m\n\u001b[0;32m-> 2360\u001b[0;31m                 \u001b[0mtrain_params\u001b[0m\u001b[0;34m[\u001b[0m\u001b[0;34m\"init_model\"\u001b[0m\u001b[0;34m]\u001b[0m\u001b[0;34m\u001b[0m\u001b[0;34m\u001b[0m\u001b[0m\n\u001b[0m\u001b[1;32m   2361\u001b[0m             )\n\u001b[1;32m   2362\u001b[0m \u001b[0;34m\u001b[0m\u001b[0m\n",
            "\u001b[0;32m/usr/local/lib/python3.7/dist-packages/catboost/core.py\u001b[0m in \u001b[0;36m_train\u001b[0;34m(self, train_pool, test_pool, params, allow_clear_pool, init_model)\u001b[0m\n\u001b[1;32m   1757\u001b[0m \u001b[0;34m\u001b[0m\u001b[0m\n\u001b[1;32m   1758\u001b[0m     \u001b[0;32mdef\u001b[0m \u001b[0m_train\u001b[0m\u001b[0;34m(\u001b[0m\u001b[0mself\u001b[0m\u001b[0;34m,\u001b[0m \u001b[0mtrain_pool\u001b[0m\u001b[0;34m,\u001b[0m \u001b[0mtest_pool\u001b[0m\u001b[0;34m,\u001b[0m \u001b[0mparams\u001b[0m\u001b[0;34m,\u001b[0m \u001b[0mallow_clear_pool\u001b[0m\u001b[0;34m,\u001b[0m \u001b[0minit_model\u001b[0m\u001b[0;34m)\u001b[0m\u001b[0;34m:\u001b[0m\u001b[0;34m\u001b[0m\u001b[0;34m\u001b[0m\u001b[0m\n\u001b[0;32m-> 1759\u001b[0;31m         \u001b[0mself\u001b[0m\u001b[0;34m.\u001b[0m\u001b[0m_object\u001b[0m\u001b[0;34m.\u001b[0m\u001b[0m_train\u001b[0m\u001b[0;34m(\u001b[0m\u001b[0mtrain_pool\u001b[0m\u001b[0;34m,\u001b[0m \u001b[0mtest_pool\u001b[0m\u001b[0;34m,\u001b[0m \u001b[0mparams\u001b[0m\u001b[0;34m,\u001b[0m \u001b[0mallow_clear_pool\u001b[0m\u001b[0;34m,\u001b[0m \u001b[0minit_model\u001b[0m\u001b[0;34m.\u001b[0m\u001b[0m_object\u001b[0m \u001b[0;32mif\u001b[0m \u001b[0minit_model\u001b[0m \u001b[0;32melse\u001b[0m \u001b[0;32mNone\u001b[0m\u001b[0;34m)\u001b[0m\u001b[0;34m\u001b[0m\u001b[0;34m\u001b[0m\u001b[0m\n\u001b[0m\u001b[1;32m   1760\u001b[0m         \u001b[0mself\u001b[0m\u001b[0;34m.\u001b[0m\u001b[0m_set_trained_model_attributes\u001b[0m\u001b[0;34m(\u001b[0m\u001b[0;34m)\u001b[0m\u001b[0;34m\u001b[0m\u001b[0;34m\u001b[0m\u001b[0m\n\u001b[1;32m   1761\u001b[0m \u001b[0;34m\u001b[0m\u001b[0m\n",
            "\u001b[0;32m_catboost.pyx\u001b[0m in \u001b[0;36m_catboost._CatBoost._train\u001b[0;34m()\u001b[0m\n",
            "\u001b[0;32m_catboost.pyx\u001b[0m in \u001b[0;36m_catboost._CatBoost._train\u001b[0;34m()\u001b[0m\n",
            "\u001b[0;31mKeyboardInterrupt\u001b[0m: "
          ]
        }
      ]
    }
  ]
}